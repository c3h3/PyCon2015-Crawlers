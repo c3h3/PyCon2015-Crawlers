{
 "cells": [
  {
   "cell_type": "code",
   "execution_count": 1,
   "metadata": {
    "collapsed": true
   },
   "outputs": [],
   "source": [
    "import requests"
   ]
  },
  {
   "cell_type": "code",
   "execution_count": 63,
   "metadata": {
    "collapsed": false
   },
   "outputs": [],
   "source": [
    "data = {\"commandid\":\"SearchStore\",\n",
    "\"city\":\"台北市\",\n",
    "\"town\":\"大安區\"}"
   ]
  },
  {
   "cell_type": "code",
   "execution_count": 64,
   "metadata": {
    "collapsed": false
   },
   "outputs": [],
   "source": [
    "res = requests.post(\"http://emap.pcsc.com.tw/EMapSDK.aspx\",data=data)"
   ]
  },
  {
   "cell_type": "code",
   "execution_count": 65,
   "metadata": {
    "collapsed": false,
    "scrolled": true
   },
   "outputs": [
    {
     "name": "stdout",
     "output_type": "stream",
     "text": [
      "<?xml version=\"1.0\" encoding=\"utf-8\"?><iMapSDKOutput><MessageID>00000</MessageID><CommandID>SearchStore</CommandID><Status>連線成功</Status><TimeStamp>2015/5/22 下午 04:34:14</TimeStamp><GeoPosition><POIID>125842              </POIID><POIName>大台</POIName><X>121533063</X><Y>25017487</Y><Telno>(02)83695854        </Telno><FaxNo>(02)33653241        </FaxNo><Address>台北市大安區新生南路3段94巷3號</Address><isDining>Y</isDining><isParking>N</isParking><isLavatory>N</isLavatory><isATM>Y</isATM><is7WiFi>Y</is7WiFi><isIce>Y</isIce><isHotDog>N</isHotDog><isHealthStations>N</isHealthStations><isIceCream>N</isIceCream><isOpenStore>N</isOpenStore><isFruit>N</isFruit><isCityCafe>Y</isCityCafe><SpecialStore_Kind></SpecialStore_Kind><Store_URL></Store_URL></GeoPosition><GeoPosition><POIID>128416              </POIID><POIName>大安</POIName><X>121546223.388913</X><Y>25041946.9181243</Y><Telno>(02)87728951        </Telno><FaxNo>(02)87720152        </FaxNo><Address>台北市大安區大安路1段77號B1樓(東區地下街)</Address><isDining>N</isDining><isParking>N</isParking><isLavatory>N</isLavatory><isATM>N</isATM><is7WiFi>Y</is7WiFi><isIce>N</isIce><isHotDog>N</isHotDog><isHealthStations>N</isHealthStations><isIceCream>N</isIceCream><isOpenStore>N</isOpenStore><isFruit>N</isFruit><isCityCafe>Y</isCityCafe><SpecialStore_Kind></SpecialStore_Kind><Store_URL></Store_URL></GeoPosition><GeoPosition><POIID>921633              </POIID><POIName>大信</POIName><X>121534563</X><Y>25033718</Y><Telno>(02)27096471        </Telno><FaxNo>(02)27096492        </FaxNo><Address>台北市大安區信義路三段33號</Address><isDining>Y</isDining><isParking>N</isParking><isLavatory>Y</isLavatory><isATM>Y</isATM><is7WiFi>Y</is7WiFi><isIce>N</isIce><isHotDog>Y</isHotDog><isHealthStations>N</isHealthStations><isIceCream>N</isIceCream><isOpenStore>N</isOpenStore><isFruit>N</isFruit><isCityCafe>N</isCityCafe><SpecialStore_Kind></SpecialStore_Kind><Store_URL></Store_URL></GeoPosition><GeoPosition><POIID>135791              </POIID><POIName>大敦</POIName><X>121549556.390975</X><Y>25031191.8805121</Y><Telno>(02)27045633        </Telno><FaxNo>(02)27046592        </FaxNo><Address>台北市大安區敦化南路二段63巷7號1樓</Address><isDining>Y</isDining><isParking>N</isParking><isLavatory>Y</isLavatory><isATM>Y</isATM><is7WiFi>Y</is7WiFi><isIce>N</isIce><isHotDog>N</isHotDog><isHealthStations>N</isHealthStations><isIceCream>N</isIceCream><isOpenStore>N</isOpenStore><isFruit>N</isFruit><isCityCafe>N</isCityCafe><SpecialStore_Kind></SpecialStore_Kind><Store_URL></Store_URL></GeoPosition><GeoPosition><POIID>140612              </POIID><POIName>中廣</POIName><X>121534331</X><Y>25038516</Y><Telno>(02)27526751        </Telno><FaxNo>(02)27118190        </FaxNo><Address>台北市大安區仁愛路三段25-1號27號</Address><isDining>Y</isDining><isParking>N</isParking><isLavatory>N</isLavatory><isATM>Y</isATM><is7WiFi>Y</is7WiFi><isIce>N</isIce><isHotDog>N</isHotDog><isHealthStations>N</isHealthStations><isIceCream>N</isIceCream><isOpenStore>N</isOpenStore><isFruit>Y</isFruit><isCityCafe>N</isCityCafe><SpecialStore_Kind></SpecialStore_Kind><Store_URL></Store_URL></GeoPosition><GeoPosition><POIID>975962              </POIID><POIName>仁安</POIName><X>121545243</X><Y>25038646</Y><Telno>(02)87732749        </Telno><FaxNo>                    </FaxNo><Address>台北市大安區仁愛路四段27巷1號</Address><isDining>Y</isDining><isParking>N</isParking><isLavatory>Y</isLavatory><isATM>Y</isATM><is7WiFi>Y</is7WiFi><isIce>N</isIce><isHotDog>Y</isHotDog><isHealthStations>N</isHealthStations><isIceCream>N</isIceCream><isOpenStore>N</isOpenStore><isFruit>Y</isFruit><isCityCafe>Y</isCityCafe><SpecialStore_Kind></SpecialStore_Kind><Store_URL></Store_URL></GeoPosition><GeoPosition><POIID>977359              </POIID><POIName>仕吉</POIName><X>121553109</X><Y>25043523</Y><Telno>(02)87730907        </Telno><FaxNo>(02)87733273        </FaxNo><Address>台北市大安區忠孝東路4段223巷42號</Address><isDining>N</isDining><isParking>N</isParking><isLavatory>Y</isLavatory><isATM>Y</isATM><is7WiFi>Y</is7WiFi><isIce>N</isIce><isHotDog>Y</isHotDog><isHealthStations>N</isHealthStations><isIceCream>N</isIceCream><isOpenStore>N</isOpenStore><isFruit>N</isFruit><isCityCafe>Y</isCityCafe><SpecialStore_Kind></SpecialStore_Kind><Store_URL></Store_URL></GeoPosition><GeoPosition><POIID>946883              </POIID><POIName>北科大</POIName><X>121533931</X><Y>25042410</Y><Telno>(02)87733142        </Telno><FaxNo>(02)87730445        </FaxNo><Address>台北市大安區忠孝東路3段1號(台北科技大學大川堂)</Address><isDining>Y</isDining><isParking>N</isParking><isLavatory>N</isLavatory><isATM>Y</isATM><is7WiFi>Y</is7WiFi><isIce>N</isIce><isHotDog>Y</isHotDog><isHealthStations>N</isHealthStations><isIceCream>N</isIceCream><isOpenStore>N</isOpenStore><isFruit>N</isFruit><isCityCafe>Y</isCityCafe><SpecialStore_Kind></SpecialStore_Kind><Store_URL></Store_URL></GeoPosition><GeoPosition><POIID>967374              </POIID><POIName>台科三</POIName><X>121540380</X><Y>25012497</Y><Telno>(02)27366134        </Telno><FaxNo>(02)27382947        </FaxNo><Address>台北市大安區基隆路四段43號第三餐廳</Address><isDining>Y</isDining><isParking>N</isParking><isLavatory>N</isLavatory><isATM>Y</isATM><is7WiFi>Y</is7WiFi><isIce>Y</isIce><isHotDog>Y</isHotDog><isHealthStations>N</isHealthStations><isIceCream>N</isIceCream><isOpenStore>N</isOpenStore><isFruit>N</isFruit><isCityCafe>Y</isCityCafe><SpecialStore_Kind></SpecialStore_Kind><Store_URL></Store_URL></GeoPosition><GeoPosition><POIID>945721              </POIID><POIName>永康</POIName><X>121529595</X><Y>25030427</Y><Telno>(02)23216948        </Telno><FaxNo>(02)23944870        </FaxNo><Address>台北市大安區永康街43號</Address><isDining>N</isDining><isParking>N</isParking><isLavatory>N</isLavatory><isATM>Y</isATM><is7WiFi>Y</is7WiFi><isIce>Y</isIce><isHotDog>N</isHotDog><isHealthStations>N</isHealthStations><isIceCream>N</isIceCream><isOpenStore>N</isOpenStore><isFruit>Y</isFruit><isCityCafe>Y</isCityCafe><SpecialStore_Kind></SpecialStore_Kind><Store_URL></Store_URL></GeoPosition><GeoPosition><POIID>975973              </POIID><POIName>禾光</POIName><X>121538616</X><Y>25025650</Y><Telno>(02)27027770        </Telno><FaxNo>(02)27051895        </FaxNo><Address>台北市大安區和平東路2段63號1樓</Address><isDining>N</isDining><isParking>N</isParking><isLavatory>N</isLavatory><isATM>Y</isATM><is7WiFi>Y</is7WiFi><isIce>N</isIce><isHotDog>N</isHotDog><isHealthStations>N</isHealthStations><isIceCream>N</isIceCream><isOpenStore>N</isOpenStore><isFruit>N</isFruit><isCityCafe>N</isCityCafe><SpecialStore_Kind></SpecialStore_Kind><Store_URL></Store_URL></GeoPosition><GeoPosition><POIID>901293              </POIID><POIName>立仁</POIName><X>121551574</X><Y>25030018</Y><Telno>(02)27066660        </Telno><FaxNo>(02)27066194        </FaxNo><Address>台北市大安區安和路二段74巷1號</Address><isDining>N</isDining><isParking>N</isParking><isLavatory>N</isLavatory><isATM>Y</isATM><is7WiFi>Y</is7WiFi><isIce>N</isIce><isHotDog>N</isHotDog><isHealthStations>N</isHealthStations><isIceCream>N</isIceCream><isOpenStore>N</isOpenStore><isFruit>N</isFruit><isCityCafe>Y</isCityCafe><SpecialStore_Kind></SpecialStore_Kind><Store_URL></Store_URL></GeoPosition><GeoPosition><POIID>957285              </POIID><POIName>吉忠</POIName><X>121554192</X><Y>25042522</Y><Telno>(02)87725413        </Telno><FaxNo>                    </FaxNo><Address>台北市大安區延吉街72號</Address><isDining>Y</isDining><isParking>N</isParking><isLavatory>Y</isLavatory><isATM>Y</isATM><is7WiFi>Y</is7WiFi><isIce>N</isIce><isHotDog>Y</isHotDog><isHealthStations>N</isHealthStations><isIceCream>Y</isIceCream><isOpenStore>N</isOpenStore><isFruit>N</isFruit><isCityCafe>Y</isCityCafe><SpecialStore_Kind></SpecialStore_Kind><Store_URL></Store_URL></GeoPosition><GeoPosition><POIID>148074              </POIID><POIName>合旺</POIName><X>121545411</X><Y>25028362</Y><Telno>(02)27026159        </Telno><FaxNo>(02)27025391        </FaxNo><Address>台北市大安區復興南路2段151巷41號</Address><isDining>Y</isDining><isParking>N</isParking><isLavatory>Y</isLavatory><isATM>Y</isATM><is7WiFi>Y</is7WiFi><isIce>N</isIce><isHotDog>N</isHotDog><isHealthStations>N</isHealthStations><isIceCream>N</isIceCream><isOpenStore>N</isOpenStore><isFruit>N</isFruit><isCityCafe>N</isCityCafe><SpecialStore_Kind></SpecialStore_Kind><Store_URL></Store_URL></GeoPosition><GeoPosition><POIID>111441              </POIID><POIName>合維</POIName><X>121547625.389473</X><Y>25028195.8700811</Y><Telno>(02)27077030        </Telno><FaxNo>(02)27075996        </FaxNo><Address>台北市大安區四維路170巷8號1樓</Address><isDining>Y</isDining><isParking>N</isParking><isLavatory>Y</isLavatory><isATM>Y</isATM><is7WiFi>Y</is7WiFi><isIce>N</isIce><isHotDog>N</isHotDog><isHealthStations>N</isHealthStations><isIceCream>N</isIceCream><isOpenStore>N</isOpenStore><isFruit>Y</isFruit><isCityCafe>Y</isCityCafe><SpecialStore_Kind></SpecialStore_Kind><Store_URL></Store_URL></GeoPosition><GeoPosition><POIID>127631              </POIID><POIName>安居</POIName><X>121554426</X><Y>25020451</Y><Telno>(02)27332560        </Telno><FaxNo>(02)27334831        </FaxNo><Address>台北市大安區安居街33號</Address><isDining>Y</isDining><isParking>N</isParking><isLavatory>Y</isLavatory><isATM>Y</isATM><is7WiFi>Y</is7WiFi><isIce>N</isIce><isHotDog>N</isHotDog><isHealthStations>N</isHealthStations><isIceCream>Y</isIceCream><isOpenStore>N</isOpenStore><isFruit>N</isFruit><isCityCafe>N</isCityCafe><SpecialStore_Kind></SpecialStore_Kind><Store_URL></Store_URL></GeoPosition><GeoPosition><POIID>110334              </POIID><POIName>安信</POIName><X>121546420</X><Y>25033132</Y><Telno>(02)27050827        </Telno><FaxNo>(02)27051323        </FaxNo><Address>台北市大安區信義路四段74號1樓</Address><isDining>Y</isDining><isParking>N</isParking><isLavatory>Y</isLavatory><isATM>Y</isATM><is7WiFi>Y</is7WiFi><isIce>Y</isIce><isHotDog>Y</isHotDog><isHealthStations>Y</isHealthStations><isIceCream>Y</isIceCream><isOpenStore>N</isOpenStore><isFruit>Y</isFruit><isCityCafe>Y</isCityCafe><SpecialStore_Kind></SpecialStore_Kind><Store_URL></Store_URL></GeoPosition><GeoPosition><POIID>970428              </POIID><POIName>佑安</POIName><X>121539647</X><Y>25042414</Y><Telno>(02)27752136        </Telno><FaxNo>(02)27754434        </FaxNo><Address>台北市大安區忠孝東路三段217巷1弄2號</Address><isDining>Y</isDining><isParking>N</isParking><isLavatory>Y</isLavatory><isATM>Y</isATM><is7WiFi>Y</is7WiFi><isIce>N</isIce><isHotDog>N</isHotDog><isHealthStations>Y</isHealthStations><isIceCream>N</isIceCream><isOpenStore>N</isOpenStore><isFruit>Y</isFruit><isCityCafe>Y</isCityCafe><SpecialStore_Kind></SpecialStore_Kind><Store_URL></Store_URL></GeoPosition><GeoPosition><POIID>128058              </POIID><POIName>技安</POIName><X>121550839</X><Y>25024519</Y><Telno>(02)27375613        </Telno><FaxNo>(02)23775513        </FaxNo><Address>台北市大安區和平東路3段97號</Address><isDining>Y</isDining><isParking>N</isParking><isLavatory>Y</isLavatory><isATM>Y</isATM><is7WiFi>Y</is7WiFi><isIce>N</isIce><isHotDog>N</isHotDog><isHealthStations>N</isHealthStations><isIceCream>N</isIceCream><isOpenStore>N</isOpenStore><isFruit>Y</isFruit><isCityCafe>Y</isCityCafe><SpecialStore_Kind></SpecialStore_Kind><Store_URL></Store_URL></GeoPosition><GeoPosition><POIID>894359              </POIID><POIName>辛亥</POIName><X>121537167</X><Y>25023057</Y><Telno>(02)23630291        </Telno><FaxNo>                    </FaxNo><Address>台北市大安區辛亥路2段57號</Address><isDining>Y</isDining><isParking>N</isParking><isLavatory>N</isLavatory><isATM>Y</isATM><is7WiFi>Y</is7WiFi><isIce>N</isIce><isHotDog>N</isHotDog><isHealthStations>N</isHealthStations><isIceCream>N</isIceCream><isOpenStore>N</isOpenStore><isFruit>Y</isFruit><isCityCafe>Y</isCityCafe><SpecialStore_Kind></SpecialStore_Kind><Store_URL></Store_URL></GeoPosition><GeoPosition><POIID>855572              </POIID><POIName>和安</POIName><X>121554624</X><Y>25022220</Y><Telno>(02)27355311        </Telno><FaxNo>                    </FaxNo><Address>台北市大安區和平東路三段230號</Address><isDining>Y</isDining><isParking>N</isParking><isLavatory>Y</isLavatory><isATM>Y</isATM><is7WiFi>Y</is7WiFi><isIce>N</isIce><isHotDog>N</isHotDog><isHealthStations>N</isHealthStations><isIceCream>Y</isIceCream><isOpenStore>N</isOpenStore><isFruit>Y</isFruit><isCityCafe>N</isCityCafe><SpecialStore_Kind></SpecialStore_Kind><Store_URL></Store_URL></GeoPosition><GeoPosition><POIID>906117              </POIID><POIName>和金</POIName><X>121525706</X><Y>25026918</Y><Telno>(02)23414965        </Telno><FaxNo>(02)23944778        </FaxNo><Address>台北市大安區和平東路1段91號</Address><isDining>N</isDining><isParking>N</isParking><isLavatory>N</isLavatory><isATM>Y</isATM><is7WiFi>Y</is7WiFi><isIce>N</isIce><isHotDog>N</isHotDog><isHealthStations>N</isHealthStations><isIceCream>N</isIceCream><isOpenStore>N</isOpenStore><isFruit>Y</isFruit><isCityCafe>N</isCityCafe><SpecialStore_Kind></SpecialStore_Kind><Store_URL></Store_URL></GeoPosition><GeoPosition><POIID>944795              </POIID><POIName>和泰</POIName><X>121531704</X><Y>25026457</Y><Telno>(02)23915933        </Telno><FaxNo>(02)23916551        </FaxNo><Address>台北市大安區和平東路一段169號</Address><isDining>N</isDining><isParking>N</isParking><isLavatory>N</isLavatory><isATM>Y</isATM><is7WiFi>Y</is7WiFi><isIce>N</isIce><isHotDog>N</isHotDog><isHealthStations>N</isHealthStations><isIceCream>N</isIceCream><isOpenStore>N</isOpenStore><isFruit>Y</isFruit><isCityCafe>Y</isCityCafe><SpecialStore_Kind></SpecialStore_Kind><Store_URL></Store_URL></GeoPosition><GeoPosition><POIID>148834              </POIID><POIName>延吉</POIName><X>121555705</X><Y>25036636</Y><Telno>(02)27087348        </Telno><FaxNo>(02)27025370        </FaxNo><Address>台北市大安區延吉街237號</Address><isDining>Y</isDining><isParking>N</isParking><isLavatory>N</isLavatory><isATM>Y</isATM><is7WiFi>Y</is7WiFi><isIce>N</isIce><isHotDog>N</isHotDog><isHealthStations>N</isHealthStations><isIceCream>N</isIceCream><isOpenStore>N</isOpenStore><isFruit>N</isFruit><isCityCafe>N</isCityCafe><SpecialStore_Kind></SpecialStore_Kind><Store_URL></Store_URL></GeoPosition><GeoPosition><POIID>115959              </POIID><POIName>昇隆</POIName><X>121548273</X><Y>25021004</Y><Telno>(02)27328454        </Telno><FaxNo>(02)27326515        </FaxNo><Address>台北市大安區敦化南路2段238號</Address><isDining>N</isDining><isParking>N</isParking><isLavatory>Y</isLavatory><isATM>Y</isATM><is7WiFi>Y</is7WiFi><isIce>N</isIce><isHotDog>N</isHotDog><isHealthStations>N</isHealthStations><isIceCream>N</isIceCream><isOpenStore>N</isOpenStore><isFruit>N</isFruit><isCityCafe>N</isCityCafe><SpecialStore_Kind></SpecialStore_Kind><Store_URL></Store_URL></GeoPosition><GeoPosition><POIID>985246              </POIID><POIName>欣安和</POIName><X>121551057.392316</X><Y>25038687.9066647</Y><Telno>(02)87730039        </Telno><FaxNo>(02)87733210        </FaxNo><Address>台北市大安區安和路一段47號</Address><isDining>N</isDining><isParking>N</isParking><isLavatory>N</isLavatory><isATM>Y</isATM><is7WiFi>Y</is7WiFi><isIce>N</isIce><isHotDog>N</isHotDog><isHealthStations>N</isHealthStations><isIceCream>N</isIceCream><isOpenStore>N</isOpenStore><isFruit>N</isFruit><isCityCafe>Y</isCityCafe><SpecialStore_Kind></SpecialStore_Kind><Store_URL></Store_URL></GeoPosition><GeoPosition><POIID>149734              </POIID><POIName>欣隆昌</POIName><X>121556496.395919</X><Y>25028386.8706027</Y><Telno>(02)23782716        </Telno><FaxNo>(02)23783379        </FaxNo><Address>台北市大安區基隆路2段142之1號及142之2號</Address><isDining>Y</isDining><isParking>N</isParking><isLavatory>N</isLavatory><isATM>Y</isATM><is7WiFi>Y</is7WiFi><isIce>N</isIce><isHotDog>N</isHotDog><isHealthStations>N</isHealthStations><isIceCream>N</isIceCream><isOpenStore>N</isOpenStore><isFruit>Y</isFruit><isCityCafe>N</isCityCafe><SpecialStore_Kind></SpecialStore_Kind><Store_URL></Store_URL></GeoPosition><GeoPosition><POIID>146241              </POIID><POIName>芙蓉</POIName><X>121538598.383252</X><Y>25038097.9048053</Y><Telno>(02)27007482        </Telno><FaxNo>(02)27547032        </FaxNo><Address>台北市大安區仁愛路三段74號1樓</Address><isDining>Y</isDining><isParking>N</isParking><isLavatory>Y</isLavatory><isATM>Y</isATM><is7WiFi>Y</is7WiFi><isIce>N</isIce><isHotDog>Y</isHotDog><isHealthStations>N</isHealthStations><isIceCream>N</isIceCream><isOpenStore>N</isOpenStore><isFruit>N</isFruit><isCityCafe>Y</isCityCafe><SpecialStore_Kind></SpecialStore_Kind><Store_URL></Store_URL></GeoPosition><GeoPosition><POIID>962601              </POIID><POIName>花市</POIName><X>121537272</X><Y>25036371</Y><Telno>(02)27552540        </Telno><FaxNo>(02)27556351        </FaxNo><Address>台北市大安區建國南路一段274號</Address><isDining>N</isDining><isParking>N</isParking><isLavatory>N</isLavatory><isATM>Y</isATM><is7WiFi>Y</is7WiFi><isIce>N</isIce><isHotDog>N</isHotDog><isHealthStations>N</isHealthStations><isIceCream>N</isIceCream><isOpenStore>N</isOpenStore><isFruit>N</isFruit><isCityCafe>N</isCityCafe><SpecialStore_Kind></SpecialStore_Kind><Store_URL></Store_URL></GeoPosition><GeoPosition><POIID>127837              </POIID><POIName>金信</POIName><X>121526940.374646</X><Y>25033281.8881702</Y><Telno>(02)23215183        </Telno><FaxNo>(02)23217497        </FaxNo><Address>台北市大安區金山南路2段18號1樓</Address><isDining>Y</isDining><isParking>N</isParking><isLavatory>Y</isLavatory><isATM>Y</isATM><is7WiFi>Y</is7WiFi><isIce>N</isIce><isHotDog>N</isHotDog><isHealthStations>N</isHealthStations><isIceCream>Y</isIceCream><isOpenStore>N</isOpenStore><isFruit>N</isFruit><isCityCafe>Y</isCityCafe><SpecialStore_Kind></SpecialStore_Kind><Store_URL></Store_URL></GeoPosition><GeoPosition><POIID>135632              </POIID><POIName>金華</POIName><X>121528431</X><Y>25029814</Y><Telno>(02)23945455        </Telno><FaxNo>(02)23918034        </FaxNo><Address>台北市大安區金華街140之1號</Address><isDining>N</isDining><isParking>N</isParking><isLavatory>N</isLavatory><isATM>Y</isATM><is7WiFi>Y</is7WiFi><isIce>Y</isIce><isHotDog>N</isHotDog><isHealthStations>N</isHealthStations><isIceCream>N</isIceCream><isOpenStore>N</isOpenStore><isFruit>Y</isFruit><isCityCafe>Y</isCityCafe><SpecialStore_Kind></SpecialStore_Kind><Store_URL></Store_URL></GeoPosition><GeoPosition><POIID>972594              </POIID><POIName>長星</POIName><X>121545340</X><Y>25017810</Y><Telno>(02)27395493        </Telno><FaxNo>(02)27397197        </FaxNo><Address>台北市大安區基隆路3段85號</Address><isDining>Y</isDining><isParking>N</isParking><isLavatory>N</isLavatory><isATM>Y</isATM><is7WiFi>Y</is7WiFi><isIce>N</isIce><isHotDog>Y</isHotDog><isHealthStations>N</isHealthStations><isIceCream>Y</isIceCream><isOpenStore>N</isOpenStore><isFruit>N</isFruit><isCityCafe>Y</isCityCafe><SpecialStore_Kind></SpecialStore_Kind><Store_URL></Store_URL></GeoPosition><GeoPosition><POIID>959155              </POIID><POIName>信中</POIName><X>121538664</X><Y>25033650</Y><Telno>(02)27033810        </Telno><FaxNo>(02)27034020        </FaxNo><Address>台北市大安區信義路三段101號</Address><isDining>Y</isDining><isParking>N</isParking><isLavatory>N</isLavatory><isATM>Y</isATM><is7WiFi>Y</is7WiFi><isIce>N</isIce><isHotDog>Y</isHotDog><isHealthStations>N</isHealthStations><isIceCream>Y</isIceCream><isOpenStore>N</isOpenStore><isFruit>N</isFruit><isCityCafe>N</isCityCafe><SpecialStore_Kind></SpecialStore_Kind><Store_URL></Store_URL></GeoPosition><GeoPosition><POIID>135492              </POIID><POIName>信安</POIName><X>121545890</X><Y>25034291</Y><Telno>(02)27048829        </Telno><FaxNo>(02)27048946        </FaxNo><Address>台北市大安區大安路一段218號</Address><isDining>Y</isDining><isParking>N</isParking><isLavatory>N</isLavatory><isATM>Y</isATM><is7WiFi>Y</is7WiFi><isIce>N</isIce><isHotDog>N</isHotDog><isHealthStations>N</isHealthStations><isIceCream>N</isIceCream><isOpenStore>N</isOpenStore><isFruit>N</isFruit><isCityCafe>N</isCityCafe><SpecialStore_Kind></SpecialStore_Kind><Store_URL></Store_URL></GeoPosition><GeoPosition><POIID>158509              </POIID><POIName>信義</POIName><X>121554413</X><Y>25034224</Y><Telno>(02)27005388        </Telno><FaxNo>(02)27554288        </FaxNo><Address>台北市大安區信義路4段265巷12弄1號</Address><isDining>Y</isDining><isParking>N</isParking><isLavatory>N</isLavatory><isATM>Y</isATM><is7WiFi>Y</is7WiFi><isIce>N</isIce><isHotDog>N</isHotDog><isHealthStations>N</isHealthStations><isIceCream>N</isIceCream><isOpenStore>N</isOpenStore><isFruit>Y</isFruit><isCityCafe>N</isCityCafe><SpecialStore_Kind></SpecialStore_Kind><Store_URL></Store_URL></GeoPosition><GeoPosition><POIID>961217              </POIID><POIName>信興</POIName><X>121544676</X><Y>25033141</Y><Telno>(02)27018486        </Telno><FaxNo>(02)27018205        </FaxNo><Address>台北市大安區信義路四段32號</Address><isDining>N</isDining><isParking>N</isParking><isLavatory>N</isLavatory><isATM>Y</isATM><is7WiFi>Y</is7WiFi><isIce>N</isIce><isHotDog>N</isHotDog><isHealthStations>N</isHealthStations><isIceCream>N</isIceCream><isOpenStore>N</isOpenStore><isFruit>N</isFruit><isCityCafe>Y</isCityCafe><SpecialStore_Kind></SpecialStore_Kind><Store_URL></Store_URL></GeoPosition><GeoPosition><POIID>127620              </POIID><POIName>建安</POIName><X>121550671</X><Y>25042638</Y><Telno>(02)87730985        </Telno><FaxNo>                    </FaxNo><Address>台北市大安區敦化南路一段187巷29號</Address><isDining>Y</isDining><isParking>N</isParking><isLavatory>N</isLavatory><isATM>Y</isATM><is7WiFi>Y</is7WiFi><isIce>N</isIce><isHotDog>N</isHotDog><isHealthStations>N</isHealthStations><isIceCream>Y</isIceCream><isOpenStore>N</isOpenStore><isFruit>Y</isFruit><isCityCafe>Y</isCityCafe><SpecialStore_Kind></SpecialStore_Kind><Store_URL></Store_URL></GeoPosition><GeoPosition><POIID>975869              </POIID><POIName>建忠</POIName><X>121541434</X><Y>25041794</Y><Telno>(02)27416501        </Telno><FaxNo>                    </FaxNo><Address>台北市大安區忠孝東路三段249號</Address><isDining>Y</isDining><isParking>N</isParking><isLavatory>Y</isLavatory><isATM>Y</isATM><is7WiFi>Y</is7WiFi><isIce>N</isIce><isHotDog>Y</isHotDog><isHealthStations>N</isHealthStations><isIceCream>N</isIceCream><isOpenStore>N</isOpenStore><isFruit>N</isFruit><isCityCafe>Y</isCityCafe><SpecialStore_Kind></SpecialStore_Kind><Store_URL></Store_URL></GeoPosition><GeoPosition><POIID>895020              </POIID><POIName>建南</POIName><X>121538400</X><Y>25028706</Y><Telno>(02)27549832        </Telno><FaxNo>(02)27069830        </FaxNo><Address>台北市大安區建國南路二段151巷6之8號</Address><isDining>Y</isDining><isParking>N</isParking><isLavatory>Y</isLavatory><isATM>Y</isATM><is7WiFi>Y</is7WiFi><isIce>Y</isIce><isHotDog>N</isHotDog><isHealthStations>N</isHealthStations><isIceCream>N</isIceCream><isOpenStore>N</isOpenStore><isFruit>N</isFruit><isCityCafe>Y</isCityCafe><SpecialStore_Kind></SpecialStore_Kind><Store_URL></Store_URL></GeoPosition><GeoPosition><POIID>135609              </POIID><POIName>建綸</POIName><X>121551922.392981</X><Y>25039776.9104535</Y><Telno>(02)87717103        </Telno><FaxNo>(02)87716484        </FaxNo><Address>台北市大安區仁愛路4段151巷27號</Address><isDining>N</isDining><isParking>N</isParking><isLavatory>N</isLavatory><isATM>Y</isATM><is7WiFi>Y</is7WiFi><isIce>N</isIce><isHotDog>N</isHotDog><isHealthStations>N</isHealthStations><isIceCream>N</isIceCream><isOpenStore>N</isOpenStore><isFruit>Y</isFruit><isCityCafe>Y</isCityCafe><SpecialStore_Kind></SpecialStore_Kind><Store_URL></Store_URL></GeoPosition><GeoPosition><POIID>928977              </POIID><POIName>恆安</POIName><X>121529911</X><Y>25033133</Y><Telno>(02)23576939        </Telno><FaxNo>(02)23576631        </FaxNo><Address>台北市大安區永康街7-1號</Address><isDining>N</isDining><isParking>N</isParking><isLavatory>N</isLavatory><isATM>Y</isATM><is7WiFi>Y</is7WiFi><isIce>N</isIce><isHotDog>N</isHotDog><isHealthStations>N</isHealthStations><isIceCream>Y</isIceCream><isOpenStore>N</isOpenStore><isFruit>N</isFruit><isCityCafe>Y</isCityCafe><SpecialStore_Kind></SpecialStore_Kind><Store_URL></Store_URL></GeoPosition><GeoPosition><POIID>976895              </POIID><POIName>科技站</POIName><X>121543666</X><Y>25026283</Y><Telno>(02)27059323        </Telno><FaxNo>(02)27024882        </FaxNo><Address>台北市大安區復興南路2段203號</Address><isDining>N</isDining><isParking>N</isParking><isLavatory>N</isLavatory><isATM>Y</isATM><is7WiFi>Y</is7WiFi><isIce>N</isIce><isHotDog>N</isHotDog><isHealthStations>N</isHealthStations><isIceCream>N</isIceCream><isOpenStore>N</isOpenStore><isFruit>N</isFruit><isCityCafe>N</isCityCafe><SpecialStore_Kind></SpecialStore_Kind><Store_URL></Store_URL></GeoPosition><GeoPosition><POIID>882482              </POIID><POIName>科建</POIName><X>121536228</X><Y>25044269</Y><Telno>(02)87721391        </Telno><FaxNo>                    </FaxNo><Address>台北市大安區建國南路一段28號30號</Address><isDining>Y</isDining><isParking>N</isParking><isLavatory>N</isLavatory><isATM>Y</isATM><is7WiFi>Y</is7WiFi><isIce>N</isIce><isHotDog>N</isHotDog><isHealthStations>N</isHealthStations><isIceCream>Y</isIceCream><isOpenStore>N</isOpenStore><isFruit>N</isFruit><isCityCafe>Y</isCityCafe><SpecialStore_Kind></SpecialStore_Kind><Store_URL></Store_URL></GeoPosition><GeoPosition><POIID>865362              </POIID><POIName>師大</POIName><X>121528471</X><Y>25023193</Y><Telno>(02)23693200        </Telno><FaxNo>                    </FaxNo><Address>台北市大安區師大路87號</Address><isDining>Y</isDining><isParking>N</isParking><isLavatory>N</isLavatory><isATM>Y</isATM><is7WiFi>Y</is7WiFi><isIce>N</isIce><isHotDog>N</isHotDog><isHealthStations>N</isHealthStations><isIceCream>Y</isIceCream><isOpenStore>N</isOpenStore><isFruit>N</isFruit><isCityCafe>Y</isCityCafe><SpecialStore_Kind></SpecialStore_Kind><Store_URL></Store_URL></GeoPosition><GeoPosition><POIID>985501              </POIID><POIName>泰利</POIName><X>121554234</X><Y>25036558</Y><Telno>(02)27058645        </Telno><FaxNo>                    </FaxNo><Address>台北市大安區仁愛路四段266巷15弄22號</Address><isDining>Y</isDining><isParking>N</isParking><isLavatory>Y</isLavatory><isATM>Y</isATM><is7WiFi>Y</is7WiFi><isIce>N</isIce><isHotDog>N</isHotDog><isHealthStations>N</isHealthStations><isIceCream>Y</isIceCream><isOpenStore>N</isOpenStore><isFruit>N</isFruit><isCityCafe>Y</isCityCafe><SpecialStore_Kind></SpecialStore_Kind><Store_URL></Store_URL></GeoPosition><GeoPosition><POIID>113229              </POIID><POIName>國青</POIName><X>121544607.387029</X><Y>25020501.8432615</Y><Telno>(02)23677680        </Telno><FaxNo>(02)23650852        </FaxNo><Address>台北市大安區辛亥路3段30號(台大國青宿舍)</Address><isDining>Y</isDining><isParking>N</isParking><isLavatory>N</isLavatory><isATM>Y</isATM><is7WiFi>Y</is7WiFi><isIce>N</isIce><isHotDog>N</isHotDog><isHealthStations>N</isHealthStations><isIceCream>N</isIceCream><isOpenStore>N</isOpenStore><isFruit>N</isFruit><isCityCafe>Y</isCityCafe><SpecialStore_Kind></SpecialStore_Kind><Store_URL></Store_URL></GeoPosition><GeoPosition><POIID>121770              </POIID><POIName>國館</POIName><X>121556366.396237</X><Y>25040571.9131566</Y><Telno>(02)27761700        </Telno><FaxNo>(02)27760350        </FaxNo><Address>台北市大安區光復南路240巷25號</Address><isDining>Y</isDining><isParking>N</isParking><isLavatory>Y</isLavatory><isATM>Y</isATM><is7WiFi>Y</is7WiFi><isIce>N</isIce><isHotDog>N</isHotDog><isHealthStations>N</isHealthStations><isIceCream>N</isIceCream><isOpenStore>N</isOpenStore><isFruit>Y</isFruit><isCityCafe>Y</isCityCafe><SpecialStore_Kind></SpecialStore_Kind><Store_URL></Store_URL></GeoPosition><GeoPosition><POIID>946919              </POIID><POIName>崇光</POIName><X>121544540</X><Y>25042696</Y><Telno>(02)27218292        </Telno><FaxNo>                    </FaxNo><Address>台北市大安區復興南路一段135巷5號</Address><isDining>Y</isDining><isParking>N</isParking><isLavatory>N</isLavatory><isATM>Y</isATM><is7WiFi>Y</is7WiFi><isIce>N</isIce><isHotDog>Y</isHotDog><isHealthStations>N</isHealthStations><isIceCream>Y</isIceCream><isOpenStore>N</isOpenStore><isFruit>N</isFruit><isCityCafe>N</isCityCafe><SpecialStore_Kind></SpecialStore_Kind><Store_URL></Store_URL></GeoPosition><GeoPosition><POIID>970288              </POIID><POIName>教育大學</POIName><X>121546479</X><Y>25023345</Y><Telno>(02)27359529        </Telno><FaxNo>(02)27359720        </FaxNo><Address>台北市大安區敦南街38號</Address><isDining>N</isDining><isParking>N</isParking><isLavatory>N</isLavatory><isATM>Y</isATM><is7WiFi>Y</is7WiFi><isIce>N</isIce><isHotDog>Y</isHotDog><isHealthStations>N</isHealthStations><isIceCream>N</isIceCream><isOpenStore>N</isOpenStore><isFruit>N</isFruit><isCityCafe>N</isCityCafe><SpecialStore_Kind></SpecialStore_Kind><Store_URL></Store_URL></GeoPosition><GeoPosition><POIID>113676              </POIID><POIName>統家</POIName><X>121553361.394032</X><Y>25039938.9109956</Y><Telno>(02)27212029        </Telno><FaxNo>(02)27738309        </FaxNo><Address>台北市大安區忠孝東路4段216巷27弄1號1樓</Address><isDining>Y</isDining><isParking>N</isParking><isLavatory>Y</isLavatory><isATM>Y</isATM><is7WiFi>Y</is7WiFi><isIce>N</isIce><isHotDog>N</isHotDog><isHealthStations>N</isHealthStations><isIceCream>Y</isIceCream><isOpenStore>N</isOpenStore><isFruit>Y</isFruit><isCityCafe>Y</isCityCafe><SpecialStore_Kind></SpecialStore_Kind><Store_URL></Store_URL></GeoPosition><GeoPosition><POIID>121161              </POIID><POIName>統領</POIName><X>121552245.393299</X><Y>25042254.9191018</Y><Telno>(02)27319841        </Telno><FaxNo>(02)27738656        </FaxNo><Address>台北市大安區忠孝東路四段205巷7弄5號1樓</Address><isDining>Y</isDining><isParking>Y</isParking><isLavatory>N</isLavatory><isATM>Y</isATM><is7WiFi>Y</is7WiFi><isIce>N</isIce><isHotDog>Y</isHotDog><isHealthStations>N</isHealthStations><isIceCream>N</isIceCream><isOpenStore>N</isOpenStore><isFruit>N</isFruit><isCityCafe>N</isCityCafe><SpecialStore_Kind></SpecialStore_Kind><Store_URL></Store_URL></GeoPosition><GeoPosition><POIID>975630              </POIID><POIName>通化</POIName><X>121554216</X><Y>25031426</Y><Telno>(02)27083071        </Telno><FaxNo>(02)27554416        </FaxNo><Address>台北市大安區通化街26之8號</Address><isDining>Y</isDining><isParking>N</isParking><isLavatory>N</isLavatory><isATM>Y</isATM><is7WiFi>Y</is7WiFi><isIce>N</isIce><isHotDog>N</isHotDog><isHealthStations>N</isHealthStations><isIceCream>Y</isIceCream><isOpenStore>N</isOpenStore><isFruit>N</isFruit><isCityCafe>N</isCityCafe><SpecialStore_Kind></SpecialStore_Kind><Store_URL></Store_URL></GeoPosition><GeoPosition><POIID>143253              </POIID><POIName>頂好</POIName><X>121547229.389521</X><Y>25038255.9052184</Y><Telno>(02)87714781        </Telno><FaxNo>(02)87717580        </FaxNo><Address>台北市大安區仁愛路4段79號1號</Address><isDining>N</isDining><isParking>N</isParking><isLavatory>N</isLavatory><isATM>N</isATM><is7WiFi>Y</is7WiFi><isIce>N</isIce><isHotDog>N</isHotDog><isHealthStations>N</isHealthStations><isIceCream>N</isIceCream><isOpenStore>N</isOpenStore><isFruit>N</isFruit><isCityCafe>Y</isCityCafe><SpecialStore_Kind></SpecialStore_Kind><Store_URL></Store_URL></GeoPosition><GeoPosition><POIID>956248              </POIID><POIName>頂東</POIName><X>121546255</X><Y>25043521</Y><Telno>(02)27521297        </Telno><FaxNo>                    </FaxNo><Address>台北市大安區大安路一段43號</Address><isDining>Y</isDining><isParking>N</isParking><isLavatory>N</isLavatory><isATM>Y</isATM><is7WiFi>Y</is7WiFi><isIce>N</isIce><isHotDog>N</isHotDog><isHealthStations>N</isHealthStations><isIceCream>Y</isIceCream><isOpenStore>N</isOpenStore><isFruit>N</isFruit><isCityCafe>Y</isCityCafe><SpecialStore_Kind></SpecialStore_Kind><Store_URL></Store_URL></GeoPosition><GeoPosition><POIID>941213              </POIID><POIName>鹿鳴</POIName><X>121533697</X><Y>25016984</Y><Telno>(02)23670865        </Telno><FaxNo>(02)23679335        </FaxNo><Address>台北市大安區羅斯福路4段1號</Address><isDining>N</isDining><isParking>N</isParking><isLavatory>N</isLavatory><isATM>Y</isATM><is7WiFi>Y</is7WiFi><isIce>N</isIce><isHotDog>Y</isHotDog><isHealthStations>N</isHealthStations><isIceCream>Y</isIceCream><isOpenStore>N</isOpenStore><isFruit>N</isFruit><isCityCafe>Y</isCityCafe><SpecialStore_Kind></SpecialStore_Kind><Store_URL></Store_URL></GeoPosition><GeoPosition><POIID>991403              </POIID><POIName>喜悅</POIName><X>121543243</X><Y>25030944</Y><Telno>(02)27067601        </Telno><FaxNo>(02)27069749        </FaxNo><Address>台北市大安區復興南路2段82-1及82-2號</Address><isDining>Y</isDining><isParking>N</isParking><isLavatory>Y</isLavatory><isATM>Y</isATM><is7WiFi>Y</is7WiFi><isIce>N</isIce><isHotDog>Y</isHotDog><isHealthStations>N</isHealthStations><isIceCream>Y</isIceCream><isOpenStore>N</isOpenStore><isFruit>N</isFruit><isCityCafe>N</isCityCafe><SpecialStore_Kind></SpecialStore_Kind><Store_URL></Store_URL></GeoPosition><GeoPosition><POIID>144290              </POIID><POIName>富陽</POIName><X>121556246.395477</X><Y>25020682.8437036</Y><Telno>(02)27373519        </Telno><FaxNo>(02)27373281        </FaxNo><Address>台北市大安區和平東路3段298號300號1樓</Address><isDining>Y</isDining><isParking>N</isParking><isLavatory>N</isLavatory><isATM>Y</isATM><is7WiFi>Y</is7WiFi><isIce>N</isIce><isHotDog>N</isHotDog><isHealthStations>N</isHealthStations><isIceCream>N</isIceCream><isOpenStore>N</isOpenStore><isFruit>N</isFruit><isCityCafe>N</isCityCafe><SpecialStore_Kind></SpecialStore_Kind><Store_URL></Store_URL></GeoPosition><GeoPosition><POIID>161871              </POIID><POIName>復昌</POIName><X>121557335</X><Y>25032264</Y><Telno>(02)27076154        </Telno><FaxNo>(02)27074379        </FaxNo><Address>台北市大安區通化里光復南路616號</Address><isDining>Y</isDining><isParking>N</isParking><isLavatory>N</isLavatory><isATM>Y</isATM><is7WiFi>Y</is7WiFi><isIce>N</isIce><isHotDog>N</isHotDog><isHealthStations>N</isHealthStations><isIceCream>Y</isIceCream><isOpenStore>N</isOpenStore><isFruit>Y</isFruit><isCityCafe>N</isCityCafe><SpecialStore_Kind></SpecialStore_Kind><Store_URL></Store_URL></GeoPosition><GeoPosition><POIID>136705              </POIID><POIName>復維</POIName><X>121543897</X><Y>25032399</Y><Telno>(02)27070732        </Telno><FaxNo>(02)27073742        </FaxNo><Address>台北市大安區復興南路二段17號</Address><isDining>N</isDining><isParking>N</isParking><isLavatory>N</isLavatory><isATM>Y</isATM><is7WiFi>Y</is7WiFi><isIce>N</isIce><isHotDog>N</isHotDog><isHealthStations>N</isHealthStations><isIceCream>N</isIceCream><isOpenStore>N</isOpenStore><isFruit>N</isFruit><isCityCafe>Y</isCityCafe><SpecialStore_Kind></SpecialStore_Kind><Store_URL></Store_URL></GeoPosition><GeoPosition><POIID>114668              </POIID><POIName>敦禾</POIName><X>121549574.390796</X><Y>25025447.860453</Y><Telno>(02)27322654        </Telno><FaxNo>(02)27324980        </FaxNo><Address>台北市大安區敦化南路二段265巷6號1樓</Address><isDining>Y</isDining><isParking>N</isParking><isLavatory>Y</isLavatory><isATM>Y</isATM><is7WiFi>Y</is7WiFi><isIce>N</isIce><isHotDog>N</isHotDog><isHealthStations>N</isHealthStations><isIceCream>N</isIceCream><isOpenStore>N</isOpenStore><isFruit>N</isFruit><isCityCafe>Y</isCityCafe><SpecialStore_Kind></SpecialStore_Kind><Store_URL></Store_URL></GeoPosition><GeoPosition><POIID>916712              </POIID><POIName>敦安</POIName><X>121552397</X><Y>25034700</Y><Telno>(02)27081857        </Telno><FaxNo>(02)27099767        </FaxNo><Address>台北市大安區安和路一段86號</Address><isDining>Y</isDining><isParking>N</isParking><isLavatory>N</isLavatory><isATM>Y</isATM><is7WiFi>Y</is7WiFi><isIce>N</isIce><isHotDog>N</isHotDog><isHealthStations>N</isHealthStations><isIceCream>N</isIceCream><isOpenStore>N</isOpenStore><isFruit>Y</isFruit><isCityCafe>N</isCityCafe><SpecialStore_Kind></SpecialStore_Kind><Store_URL></Store_URL></GeoPosition><GeoPosition><POIID>147141              </POIID><POIName>敦信</POIName><X>121550178.391539</X><Y>25034565.8922844</Y><Telno>(02)27556047        </Telno><FaxNo>(02)27025427        </FaxNo><Address>台北市大安區仁愛路4段122巷50號1樓</Address><isDining>Y</isDining><isParking>N</isParking><isLavatory>Y</isLavatory><isATM>Y</isATM><is7WiFi>Y</is7WiFi><isIce>N</isIce><isHotDog>N</isHotDog><isHealthStations>N</isHealthStations><isIceCream>N</isIceCream><isOpenStore>N</isOpenStore><isFruit>N</isFruit><isCityCafe>N</isCityCafe><SpecialStore_Kind></SpecialStore_Kind><Store_URL></Store_URL></GeoPosition><GeoPosition><POIID>975087              </POIID><POIName>敦南</POIName><X>121547216</X><Y>25040605</Y><Telno>(02)27728928        </Telno><FaxNo>                    </FaxNo><Address>台北市大安區敦化南路一段236巷13號</Address><isDining>Y</isDining><isParking>N</isParking><isLavatory>N</isLavatory><isATM>Y</isATM><is7WiFi>Y</is7WiFi><isIce>N</isIce><isHotDog>N</isHotDog><isHealthStations>N</isHealthStations><isIceCream>N</isIceCream><isOpenStore>N</isOpenStore><isFruit>N</isFruit><isCityCafe>Y</isCityCafe><SpecialStore_Kind></SpecialStore_Kind><Store_URL></Store_URL></GeoPosition><GeoPosition><POIID>883304              </POIID><POIName>敦頂</POIName><X>121548128</X><Y>25042130</Y><Telno>(02)87716011        </Telno><FaxNo>                    </FaxNo><Address>台北市大安區忠孝東路4段101巷7號</Address><isDining>N</isDining><isParking>N</isParking><isLavatory>N</isLavatory><isATM>N</isATM><is7WiFi>Y</is7WiFi><isIce>N</isIce><isHotDog>N</isHotDog><isHealthStations>N</isHealthStations><isIceCream>N</isIceCream><isOpenStore>N</isOpenStore><isFruit>N</isFruit><isCityCafe>Y</isCityCafe><SpecialStore_Kind></SpecialStore_Kind><Store_URL></Store_URL></GeoPosition><GeoPosition><POIID>120711              </POIID><POIName>敦隆</POIName><X>121548327.390832</X><Y>25023666.8543539</Y><Telno>(02)27329700        </Telno><FaxNo>(02)27393022        </FaxNo><Address>台北市大安區敦化南路2段182號</Address><isDining>Y</isDining><isParking>N</isParking><isLavatory>N</isLavatory><isATM>Y</isATM><is7WiFi>Y</is7WiFi><isIce>N</isIce><isHotDog>Y</isHotDog><isHealthStations>N</isHealthStations><isIceCream>Y</isIceCream><isOpenStore>N</isOpenStore><isFruit>Y</isFruit><isCityCafe>Y</isCityCafe><SpecialStore_Kind></SpecialStore_Kind><Store_URL></Store_URL></GeoPosition><GeoPosition><POIID>110242              </POIID><POIName>敦維</POIName><X>121546674.389051</X><Y>25036237.8981803</Y><Telno>(02)23255362        </Telno><FaxNo>(02)23258363        </FaxNo><Address>台北市大安區東豐街43號45號1樓</Address><isDining>Y</isDining><isParking>N</isParking><isLavatory>Y</isLavatory><isATM>Y</isATM><is7WiFi>Y</is7WiFi><isIce>N</isIce><isHotDog>N</isHotDog><isHealthStations>N</isHealthStations><isIceCream>N</isIceCream><isOpenStore>N</isOpenStore><isFruit>Y</isFruit><isCityCafe>N</isCityCafe><SpecialStore_Kind></SpecialStore_Kind><Store_URL></Store_URL></GeoPosition><GeoPosition><POIID>978271              </POIID><POIName>敦親</POIName><X>121540983</X><Y>25022127</Y><Telno>(02)27366095        </Telno><FaxNo>                    </FaxNo><Address>台北市大安區辛亥路二段171巷8號</Address><isDining>Y</isDining><isParking>N</isParking><isLavatory>Y</isLavatory><isATM>Y</isATM><is7WiFi>Y</is7WiFi><isIce>Y</isIce><isHotDog>N</isHotDog><isHealthStations>N</isHealthStations><isIceCream>N</isIceCream><isOpenStore>N</isOpenStore><isFruit>Y</isFruit><isCityCafe>Y</isCityCafe><SpecialStore_Kind></SpecialStore_Kind><Store_URL></Store_URL></GeoPosition><GeoPosition><POIID>149125              </POIID><POIName>華電</POIName><X>121553541</X><Y>25027566</Y><Telno>(02)27329694        </Telno><FaxNo>(02)27338944        </FaxNo><Address>台北市大安區通化街177號</Address><isDining>Y</isDining><isParking>N</isParking><isLavatory>Y</isLavatory><isATM>Y</isATM><is7WiFi>Y</is7WiFi><isIce>N</isIce><isHotDog>N</isHotDog><isHealthStations>N</isHealthStations><isIceCream>Y</isIceCream><isOpenStore>N</isOpenStore><isFruit>N</isFruit><isCityCafe>Y</isCityCafe><SpecialStore_Kind></SpecialStore_Kind><Store_URL></Store_URL></GeoPosition><GeoPosition><POIID>122289              </POIID><POIName>新東帝</POIName><X>121549789</X><Y>25028692</Y><Telno>(02)27540987        </Telno><FaxNo>(02)27059305        </FaxNo><Address>台北市大安區敦化南路二段97號1樓</Address><isDining>Y</isDining><isParking>N</isParking><isLavatory>N</isLavatory><isATM>Y</isATM><is7WiFi>Y</is7WiFi><isIce>N</isIce><isHotDog>Y</isHotDog><isHealthStations>N</isHealthStations><isIceCream>N</isIceCream><isOpenStore>N</isOpenStore><isFruit>N</isFruit><isCityCafe>N</isCityCafe><SpecialStore_Kind></SpecialStore_Kind><Store_URL></Store_URL></GeoPosition><GeoPosition><POIID>137029              </POIID><POIName>新泰順</POIName><X>121531544</X><Y>25025102</Y><Telno>(02)23643011        </Telno><FaxNo>                    </FaxNo><Address>台北市大安區泰順街13號</Address><isDining>N</isDining><isParking>N</isParking><isLavatory>N</isLavatory><isATM>Y</isATM><is7WiFi>Y</is7WiFi><isIce>N</isIce><isHotDog>N</isHotDog><isHealthStations>N</isHealthStations><isIceCream>N</isIceCream><isOpenStore>N</isOpenStore><isFruit>N</isFruit><isCityCafe>Y</isCityCafe><SpecialStore_Kind></SpecialStore_Kind><Store_URL></Store_URL></GeoPosition><GeoPosition><POIID>962184              </POIID><POIName>新國聯</POIName><X>121556961</X><Y>25042381</Y><Telno>(02)27752026        </Telno><FaxNo>(02)27752021        </FaxNo><Address>台北市大安區光復南路180巷12號</Address><isDining>Y</isDining><isParking>N</isParking><isLavatory>Y</isLavatory><isATM>Y</isATM><is7WiFi>Y</is7WiFi><isIce>N</isIce><isHotDog>N</isHotDog><isHealthStations>N</isHealthStations><isIceCream>N</isIceCream><isOpenStore>N</isOpenStore><isFruit>N</isFruit><isCityCafe>Y</isCityCafe><SpecialStore_Kind></SpecialStore_Kind><Store_URL></Store_URL></GeoPosition><GeoPosition><POIID>121356              </POIID><POIName>溫州</POIName><X>121529996.376413</X><Y>25019418.8397112</Y><Telno>(02)23626249        </Telno><FaxNo>(02)23629445        </FaxNo><Address>台北市大安區羅斯福路3段245號</Address><isDining>Y</isDining><isParking>N</isParking><isLavatory>Y</isLavatory><isATM>Y</isATM><is7WiFi>Y</is7WiFi><isIce>N</isIce><isHotDog>Y</isHotDog><isHealthStations>N</isHealthStations><isIceCream>Y</isIceCream><isOpenStore>N</isOpenStore><isFruit>N</isFruit><isCityCafe>Y</isCityCafe><SpecialStore_Kind></SpecialStore_Kind><Store_URL></Store_URL></GeoPosition><GeoPosition><POIID>875130              </POIID><POIName>溫東</POIName><X>121533606</X><Y>25026015</Y><Telno>(02)23623019        </Telno><FaxNo>                    </FaxNo><Address>台北市大安區和平東路一段266號</Address><isDining>Y</isDining><isParking>N</isParking><isLavatory>N</isLavatory><isATM>Y</isATM><is7WiFi>Y</is7WiFi><isIce>N</isIce><isHotDog>N</isHotDog><isHealthStations>N</isHealthStations><isIceCream>N</isIceCream><isOpenStore>N</isOpenStore><isFruit>N</isFruit><isCityCafe>Y</isCityCafe><SpecialStore_Kind></SpecialStore_Kind><Store_URL></Store_URL></GeoPosition><GeoPosition><POIID>977441              </POIID><POIName>瑞升</POIName><X>121522046</X><Y>25028588</Y><Telno>(02)23435837        </Telno><FaxNo>(02)23969839        </FaxNo><Address>台北市大安區杭州南路二段91號</Address><isDining>N</isDining><isParking>N</isParking><isLavatory>N</isLavatory><isATM>Y</isATM><is7WiFi>Y</is7WiFi><isIce>N</isIce><isHotDog>N</isHotDog><isHealthStations>N</isHealthStations><isIceCream>N</isIceCream><isOpenStore>N</isOpenStore><isFruit>N</isFruit><isCityCafe>N</isCityCafe><SpecialStore_Kind></SpecialStore_Kind><Store_URL></Store_URL></GeoPosition><GeoPosition><POIID>936336              </POIID><POIName>瑞安</POIName><X>121541056</X><Y>25028544</Y><Telno>(02)27021483        </Telno><FaxNo>(02)27069829        </FaxNo><Address>台北市大安區瑞安街182號</Address><isDining>Y</isDining><isParking>N</isParking><isLavatory>N</isLavatory><isATM>Y</isATM><is7WiFi>Y</is7WiFi><isIce>N</isIce><isHotDog>N</isHotDog><isHealthStations>N</isHealthStations><isIceCream>N</isIceCream><isOpenStore>N</isOpenStore><isFruit>N</isFruit><isCityCafe>Y</isCityCafe><SpecialStore_Kind></SpecialStore_Kind><Store_URL></Store_URL></GeoPosition><GeoPosition><POIID>963305              </POIID><POIName>義村</POIName><X>121538224</X><Y>25041525</Y><Telno>(02)27312912        </Telno><FaxNo>(02)27315704        </FaxNo><Address>台北市大安區忠孝東路三段160號</Address><isDining>N</isDining><isParking>N</isParking><isLavatory>N</isLavatory><isATM>Y</isATM><is7WiFi>Y</is7WiFi><isIce>N</isIce><isHotDog>N</isHotDog><isHealthStations>N</isHealthStations><isIceCream>N</isIceCream><isOpenStore>N</isOpenStore><isFruit>N</isFruit><isCityCafe>N</isCityCafe><SpecialStore_Kind></SpecialStore_Kind><Store_URL></Store_URL></GeoPosition><GeoPosition><POIID>996154              </POIID><POIName>鳳翔</POIName><X>121552885</X><Y>25038084</Y><Telno>(02)87710411        </Telno><FaxNo>                    </FaxNo><Address>台北市大安區忠孝東路4段216巷68號</Address><isDining>N</isDining><isParking>N</isParking><isLavatory>N</isLavatory><isATM>N</isATM><is7WiFi>Y</is7WiFi><isIce>N</isIce><isHotDog>N</isHotDog><isHealthStations>N</isHealthStations><isIceCream>N</isIceCream><isOpenStore>N</isOpenStore><isFruit>N</isFruit><isCityCafe>Y</isCityCafe><SpecialStore_Kind></SpecialStore_Kind><Store_URL></Store_URL></GeoPosition><GeoPosition><POIID>965079              </POIID><POIName>樂安</POIName><X>121550849</X><Y>25021970</Y><Telno>(02)87325204        </Telno><FaxNo>(02)87321014        </FaxNo><Address>台北市大安區樂業街71號73號</Address><isDining>Y</isDining><isParking>N</isParking><isLavatory>N</isLavatory><isATM>Y</isATM><is7WiFi>Y</is7WiFi><isIce>Y</isIce><isHotDog>N</isHotDog><isHealthStations>N</isHealthStations><isIceCream>N</isIceCream><isOpenStore>N</isOpenStore><isFruit>N</isFruit><isCityCafe>N</isCityCafe><SpecialStore_Kind></SpecialStore_Kind><Store_URL></Store_URL></GeoPosition><GeoPosition><POIID>141981              </POIID><POIName>樂利</POIName><X>121551834.392447</X><Y>25025776.861565</Y><Telno>(02)27332646        </Telno><FaxNo>(02)23775703        </FaxNo><Address>台北市大安區樂利路76號78號1樓</Address><isDining>Y</isDining><isParking>N</isParking><isLavatory>Y</isLavatory><isATM>Y</isATM><is7WiFi>Y</is7WiFi><isIce>N</isIce><isHotDog>N</isHotDog><isHealthStations>N</isHealthStations><isIceCream>N</isIceCream><isOpenStore>N</isOpenStore><isFruit>Y</isFruit><isCityCafe>N</isCityCafe><SpecialStore_Kind></SpecialStore_Kind><Store_URL></Store_URL></GeoPosition><GeoPosition><POIID>126214              </POIID><POIName>樂和</POIName><X>121551507</X><Y>25027420</Y><Telno>(02)87323391        </Telno><FaxNo>(02)87323390        </FaxNo><Address>台北市大安區樂利路29號29-1號</Address><isDining>Y</isDining><isParking>N</isParking><isLavatory>N</isLavatory><isATM>Y</isATM><is7WiFi>Y</is7WiFi><isIce>N</isIce><isHotDog>N</isHotDog><isHealthStations>N</isHealthStations><isIceCream>N</isIceCream><isOpenStore>N</isOpenStore><isFruit>N</isFruit><isCityCafe>N</isCityCafe><SpecialStore_Kind></SpecialStore_Kind><Store_URL></Store_URL></GeoPosition><GeoPosition><POIID>121275              </POIID><POIName>樂隆</POIName><X>121549609.390729</X><Y>25022687.8508142</Y><Telno>(02)87321701        </Telno><FaxNo>(02)87328330        </FaxNo><Address>台北市大安區敦化南路二段331巷14號</Address><isDining>Y</isDining><isParking>N</isParking><isLavatory>N</isLavatory><isATM>Y</isATM><is7WiFi>Y</is7WiFi><isIce>N</isIce><isHotDog>N</isHotDog><isHealthStations>N</isHealthStations><isIceCream>N</isIceCream><isOpenStore>N</isOpenStore><isFruit>N</isFruit><isCityCafe>N</isCityCafe><SpecialStore_Kind></SpecialStore_Kind><Store_URL></Store_URL></GeoPosition><GeoPosition><POIID>129350              </POIID><POIName>黎元</POIName><X>121550932</X><Y>25018066</Y><Telno>(02)23778253        </Telno><FaxNo>                    </FaxNo><Address>台北市大安區臥龍街188巷1號</Address><isDining>Y</isDining><isParking>N</isParking><isLavatory>Y</isLavatory><isATM>Y</isATM><is7WiFi>Y</is7WiFi><isIce>N</isIce><isHotDog>N</isHotDog><isHealthStations>N</isHealthStations><isIceCream>N</isIceCream><isOpenStore>N</isOpenStore><isFruit>N</isFruit><isCityCafe>Y</isCityCafe><SpecialStore_Kind></SpecialStore_Kind><Store_URL></Store_URL></GeoPosition><GeoPosition><POIID>863698              </POIID><POIName>豫銘</POIName><X>121545866</X><Y>25030789</Y><Telno>(02)27540615        </Telno><FaxNo>(02)27540614        </FaxNo><Address>台北市大安區大安路2段102號</Address><isDining>Y</isDining><isParking>N</isParking><isLavatory>Y</isLavatory><isATM>Y</isATM><is7WiFi>Y</is7WiFi><isIce>N</isIce><isHotDog>N</isHotDog><isHealthStations>N</isHealthStations><isIceCream>N</isIceCream><isOpenStore>N</isOpenStore><isFruit>N</isFruit><isCityCafe>N</isCityCafe><SpecialStore_Kind></SpecialStore_Kind><Store_URL></Store_URL></GeoPosition><GeoPosition><POIID>140689              </POIID><POIName>錢忠</POIName><X>121544478</X><Y>25041136</Y><Telno>(02)27526260        </Telno><FaxNo>                    </FaxNo><Address>台北市大安區忠孝東路四段26巷5號</Address><isDining>N</isDining><isParking>N</isParking><isLavatory>N</isLavatory><isATM>Y</isATM><is7WiFi>Y</is7WiFi><isIce>N</isIce><isHotDog>N</isHotDog><isHealthStations>N</isHealthStations><isIceCream>N</isIceCream><isOpenStore>N</isOpenStore><isFruit>N</isFruit><isCityCafe>Y</isCityCafe><SpecialStore_Kind></SpecialStore_Kind><Store_URL></Store_URL></GeoPosition><GeoPosition><POIID>929110              </POIID><POIName>靜安</POIName><X>121557558</X><Y>25040194</Y><Telno>(02)27739618        </Telno><FaxNo>                    </FaxNo><Address>台北市大安區光復南路262號</Address><isDining>Y</isDining><isParking>N</isParking><isLavatory>N</isLavatory><isATM>Y</isATM><is7WiFi>Y</is7WiFi><isIce>N</isIce><isHotDog>Y</isHotDog><isHealthStations>N</isHealthStations><isIceCream>N</isIceCream><isOpenStore>N</isOpenStore><isFruit>N</isFruit><isCityCafe>Y</isCityCafe><SpecialStore_Kind></SpecialStore_Kind><Store_URL></Store_URL></GeoPosition><GeoPosition><POIID>915568              </POIID><POIName>龍延</POIName><X>121529356</X><Y>25023917</Y><Telno>(02)23648913        </Telno><FaxNo>                    </FaxNo><Address>台北市大安區師大路59巷13號</Address><isDining>N</isDining><isParking>N</isParking><isLavatory>N</isLavatory><isATM>Y</isATM><is7WiFi>Y</is7WiFi><isIce>N</isIce><isHotDog>N</isHotDog><isHealthStations>N</isHealthStations><isIceCream>N</isIceCream><isOpenStore>N</isOpenStore><isFruit>N</isFruit><isCityCafe>Y</isCityCafe><SpecialStore_Kind></SpecialStore_Kind><Store_URL></Store_URL></GeoPosition><GeoPosition><POIID>125602              </POIID><POIName>龍門</POIName><X>121535922</X><Y>25025750</Y><Telno>(02)23625327        </Telno><FaxNo>                    </FaxNo><Address>台北市大安區和平東路2段18號</Address><isDining>N</isDining><isParking>N</isParking><isLavatory>N</isLavatory><isATM>Y</isATM><is7WiFi>Y</is7WiFi><isIce>Y</isIce><isHotDog>N</isHotDog><isHealthStations>N</isHealthStations><isIceCream>N</isIceCream><isOpenStore>N</isOpenStore><isFruit>Y</isFruit><isCityCafe>Y</isCityCafe><SpecialStore_Kind></SpecialStore_Kind><Store_URL></Store_URL></GeoPosition><GeoPosition><POIID>959111              </POIID><POIName>龍淵</POIName><X>121542910</X><Y>25023523</Y><Telno>(02)27336247        </Telno><FaxNo>                    </FaxNo><Address>台北市大安區和平東路二段118巷33號</Address><isDining>N</isDining><isParking>N</isParking><isLavatory>N</isLavatory><isATM>Y</isATM><is7WiFi>Y</is7WiFi><isIce>Y</isIce><isHotDog>N</isHotDog><isHealthStations>N</isHealthStations><isIceCream>N</isIceCream><isOpenStore>N</isOpenStore><isFruit>N</isFruit><isCityCafe>Y</isCityCafe><SpecialStore_Kind></SpecialStore_Kind><Store_URL></Store_URL></GeoPosition><GeoPosition><POIID>957241              </POIID><POIName>龍普</POIName><X>121550740</X><Y>25040430</Y><Telno>(02)27751069        </Telno><FaxNo>                    </FaxNo><Address>台北市大安區敦化南路一段233巷25號</Address><isDining>Y</isDining><isParking>N</isParking><isLavatory>N</isLavatory><isATM>Y</isATM><is7WiFi>Y</is7WiFi><isIce>N</isIce><isHotDog>N</isHotDog><isHealthStations>N</isHealthStations><isIceCream>N</isIceCream><isOpenStore>N</isOpenStore><isFruit>N</isFruit><isCityCafe>Y</isCityCafe><SpecialStore_Kind></SpecialStore_Kind><Store_URL></Store_URL></GeoPosition><GeoPosition><POIID>146931              </POIID><POIName>濟南</POIName><X>121533873.379892</X><Y>25040157.9120739</Y><Telno>(02)27409693        </Telno><FaxNo>(02)27514338        </FaxNo><Address>台北市大安區濟南路三段12號1樓</Address><isDining>Y</isDining><isParking>N</isParking><isLavatory>Y</isLavatory><isATM>Y</isATM><is7WiFi>Y</is7WiFi><isIce>N</isIce><isHotDog>N</isHotDog><isHealthStations>N</isHealthStations><isIceCream>Y</isIceCream><isOpenStore>N</isOpenStore><isFruit>N</isFruit><isCityCafe>N</isCityCafe><SpecialStore_Kind></SpecialStore_Kind><Store_URL></Store_URL></GeoPosition><GeoPosition><POIID>151911              </POIID><POIName>臨江</POIName><X>121552532</X><Y>25030523</Y><Telno>(02)27844961        </Telno><FaxNo>(02)27084409        </FaxNo><Address>台北市大安區安和路二段67號</Address><isDining>Y</isDining><isParking>N</isParking><isLavatory>N</isLavatory><isATM>Y</isATM><is7WiFi>Y</is7WiFi><isIce>N</isIce><isHotDog>N</isHotDog><isHealthStations>N</isHealthStations><isIceCream>N</isIceCream><isOpenStore>N</isOpenStore><isFruit>N</isFruit><isCityCafe>N</isCityCafe><SpecialStore_Kind></SpecialStore_Kind><Store_URL></Store_URL></GeoPosition><GeoPosition><POIID>959122              </POIID><POIName>豐安</POIName><X>121544267</X><Y>25036114</Y><Telno>(02)27542996        </Telno><FaxNo>(02)27543034        </FaxNo><Address>台北市大安區東豐街9號</Address><isDining>N</isDining><isParking>N</isParking><isLavatory>N</isLavatory><isATM>Y</isATM><is7WiFi>Y</is7WiFi><isIce>N</isIce><isHotDog>N</isHotDog><isHealthStations>N</isHealthStations><isIceCream>N</isIceCream><isOpenStore>N</isOpenStore><isFruit>Y</isFruit><isCityCafe>N</isCityCafe><SpecialStore_Kind></SpecialStore_Kind><Store_URL></Store_URL></GeoPosition><GeoPosition><POIID>810926              </POIID><POIName>懷生</POIName><X>121541391</X><Y>25041067</Y><Telno>(02)27811473        </Telno><FaxNo>(02)27118760        </FaxNo><Address>台北市大安區忠孝東路3段248巷9號</Address><isDining>N</isDining><isParking>N</isParking><isLavatory>N</isLavatory><isATM>Y</isATM><is7WiFi>Y</is7WiFi><isIce>N</isIce><isHotDog>N</isHotDog><isHealthStations>N</isHealthStations><isIceCream>N</isIceCream><isOpenStore>N</isOpenStore><isFruit>N</isFruit><isCityCafe>N</isCityCafe><SpecialStore_Kind></SpecialStore_Kind><Store_URL></Store_URL></GeoPosition><GeoPosition><POIID>121600              </POIID><POIName>麟光</POIName><X>121556997</X><Y>25018364</Y><Telno>(02)27339761        </Telno><FaxNo>(02)27388199        </FaxNo><Address>台北市大安區臥龍街252號及252-1號</Address><isDining>Y</isDining><isParking>N</isParking><isLavatory>Y</isLavatory><isATM>Y</isATM><is7WiFi>Y</is7WiFi><isIce>N</isIce><isHotDog>N</isHotDog><isHealthStations>N</isHealthStations><isIceCream>N</isIceCream><isOpenStore>N</isOpenStore><isFruit>Y</isFruit><isCityCafe>N</isCityCafe><SpecialStore_Kind></SpecialStore_Kind><Store_URL></Store_URL></GeoPosition><GeoPosition><POIID>144005              </POIID><POIName>鑫泰</POIName><X>121531154.377344</X><Y>25022309.8497889</Y><Telno>(02)23623520        </Telno><FaxNo>(02)23623507        </FaxNo><Address>台北市大安區古風里泰順街64號1樓</Address><isDining>Y</isDining><isParking>N</isParking><isLavatory>Y</isLavatory><isATM>N</isATM><is7WiFi>N</is7WiFi><isIce>N</isIce><isHotDog>N</isHotDog><isHealthStations>N</isHealthStations><isIceCream>N</isIceCream><isOpenStore>N</isOpenStore><isFruit>N</isFruit><isCityCafe>N</isCityCafe><SpecialStore_Kind></SpecialStore_Kind><Store_URL></Store_URL></GeoPosition></iMapSDKOutput>\n"
     ]
    }
   ],
   "source": [
    "print res.content"
   ]
  },
  {
   "cell_type": "code",
   "execution_count": 66,
   "metadata": {
    "collapsed": true
   },
   "outputs": [],
   "source": [
    "import lxml"
   ]
  },
  {
   "cell_type": "code",
   "execution_count": 67,
   "metadata": {
    "collapsed": false
   },
   "outputs": [],
   "source": [
    "elem=lxml.etree.fromstring(res.content)"
   ]
  },
  {
   "cell_type": "code",
   "execution_count": 70,
   "metadata": {
    "collapsed": false,
    "scrolled": true
   },
   "outputs": [
    {
     "data": {
      "text/plain": [
       "[u'\\u5927\\u53f0',\n",
       " u'\\u5927\\u5b89',\n",
       " u'\\u5927\\u4fe1',\n",
       " u'\\u5927\\u6566',\n",
       " u'\\u4e2d\\u5ee3',\n",
       " u'\\u4ec1\\u5b89',\n",
       " u'\\u4ed5\\u5409',\n",
       " u'\\u5317\\u79d1\\u5927',\n",
       " u'\\u53f0\\u79d1\\u4e09',\n",
       " u'\\u6c38\\u5eb7',\n",
       " u'\\u79be\\u5149',\n",
       " u'\\u7acb\\u4ec1',\n",
       " u'\\u5409\\u5fe0',\n",
       " u'\\u5408\\u65fa',\n",
       " u'\\u5408\\u7dad',\n",
       " u'\\u5b89\\u5c45',\n",
       " u'\\u5b89\\u4fe1',\n",
       " u'\\u4f51\\u5b89',\n",
       " u'\\u6280\\u5b89',\n",
       " u'\\u8f9b\\u4ea5',\n",
       " u'\\u548c\\u5b89',\n",
       " u'\\u548c\\u91d1',\n",
       " u'\\u548c\\u6cf0',\n",
       " u'\\u5ef6\\u5409',\n",
       " u'\\u6607\\u9686',\n",
       " u'\\u6b23\\u5b89\\u548c',\n",
       " u'\\u6b23\\u9686\\u660c',\n",
       " u'\\u8299\\u84c9',\n",
       " u'\\u82b1\\u5e02',\n",
       " u'\\u91d1\\u4fe1',\n",
       " u'\\u91d1\\u83ef',\n",
       " u'\\u9577\\u661f',\n",
       " u'\\u4fe1\\u4e2d',\n",
       " u'\\u4fe1\\u5b89',\n",
       " u'\\u4fe1\\u7fa9',\n",
       " u'\\u4fe1\\u8208',\n",
       " u'\\u5efa\\u5b89',\n",
       " u'\\u5efa\\u5fe0',\n",
       " u'\\u5efa\\u5357',\n",
       " u'\\u5efa\\u7db8',\n",
       " u'\\u6046\\u5b89',\n",
       " u'\\u79d1\\u6280\\u7ad9',\n",
       " u'\\u79d1\\u5efa',\n",
       " u'\\u5e2b\\u5927',\n",
       " u'\\u6cf0\\u5229',\n",
       " u'\\u570b\\u9752',\n",
       " u'\\u570b\\u9928',\n",
       " u'\\u5d07\\u5149',\n",
       " u'\\u6559\\u80b2\\u5927\\u5b78',\n",
       " u'\\u7d71\\u5bb6',\n",
       " u'\\u7d71\\u9818',\n",
       " u'\\u901a\\u5316',\n",
       " u'\\u9802\\u597d',\n",
       " u'\\u9802\\u6771',\n",
       " u'\\u9e7f\\u9cf4',\n",
       " u'\\u559c\\u6085',\n",
       " u'\\u5bcc\\u967d',\n",
       " u'\\u5fa9\\u660c',\n",
       " u'\\u5fa9\\u7dad',\n",
       " u'\\u6566\\u79be',\n",
       " u'\\u6566\\u5b89',\n",
       " u'\\u6566\\u4fe1',\n",
       " u'\\u6566\\u5357',\n",
       " u'\\u6566\\u9802',\n",
       " u'\\u6566\\u9686',\n",
       " u'\\u6566\\u7dad',\n",
       " u'\\u6566\\u89aa',\n",
       " u'\\u83ef\\u96fb',\n",
       " u'\\u65b0\\u6771\\u5e1d',\n",
       " u'\\u65b0\\u6cf0\\u9806',\n",
       " u'\\u65b0\\u570b\\u806f',\n",
       " u'\\u6eab\\u5dde',\n",
       " u'\\u6eab\\u6771',\n",
       " u'\\u745e\\u5347',\n",
       " u'\\u745e\\u5b89',\n",
       " u'\\u7fa9\\u6751',\n",
       " u'\\u9cf3\\u7fd4',\n",
       " u'\\u6a02\\u5b89',\n",
       " u'\\u6a02\\u5229',\n",
       " u'\\u6a02\\u548c',\n",
       " u'\\u6a02\\u9686',\n",
       " u'\\u9ece\\u5143',\n",
       " u'\\u8c6b\\u9298',\n",
       " u'\\u9322\\u5fe0',\n",
       " u'\\u975c\\u5b89',\n",
       " u'\\u9f8d\\u5ef6',\n",
       " u'\\u9f8d\\u9580',\n",
       " u'\\u9f8d\\u6df5',\n",
       " u'\\u9f8d\\u666e',\n",
       " u'\\u6fdf\\u5357',\n",
       " u'\\u81e8\\u6c5f',\n",
       " u'\\u8c50\\u5b89',\n",
       " u'\\u61f7\\u751f',\n",
       " u'\\u9e9f\\u5149',\n",
       " u'\\u946b\\u6cf0']"
      ]
     },
     "execution_count": 70,
     "metadata": {},
     "output_type": "execute_result"
    }
   ],
   "source": [
    "elem.xpath(\"//POIName/text()\")"
   ]
  },
  {
   "cell_type": "code",
   "execution_count": 71,
   "metadata": {
    "collapsed": false
   },
   "outputs": [
    {
     "name": "stdout",
     "output_type": "stream",
     "text": [
      "大台\n",
      "大安\n",
      "大信\n",
      "大敦\n",
      "中廣\n",
      "仁安\n",
      "仕吉\n",
      "北科大\n",
      "台科三\n",
      "永康\n",
      "禾光\n",
      "立仁\n",
      "吉忠\n",
      "合旺\n",
      "合維\n",
      "安居\n",
      "安信\n",
      "佑安\n",
      "技安\n",
      "辛亥\n",
      "和安\n",
      "和金\n",
      "和泰\n",
      "延吉\n",
      "昇隆\n",
      "欣安和\n",
      "欣隆昌\n",
      "芙蓉\n",
      "花市\n",
      "金信\n",
      "金華\n",
      "長星\n",
      "信中\n",
      "信安\n",
      "信義\n",
      "信興\n",
      "建安\n",
      "建忠\n",
      "建南\n",
      "建綸\n",
      "恆安\n",
      "科技站\n",
      "科建\n",
      "師大\n",
      "泰利\n",
      "國青\n",
      "國館\n",
      "崇光\n",
      "教育大學\n",
      "統家\n",
      "統領\n",
      "通化\n",
      "頂好\n",
      "頂東\n",
      "鹿鳴\n",
      "喜悅\n",
      "富陽\n",
      "復昌\n",
      "復維\n",
      "敦禾\n",
      "敦安\n",
      "敦信\n",
      "敦南\n",
      "敦頂\n",
      "敦隆\n",
      "敦維\n",
      "敦親\n",
      "華電\n",
      "新東帝\n",
      "新泰順\n",
      "新國聯\n",
      "溫州\n",
      "溫東\n",
      "瑞升\n",
      "瑞安\n",
      "義村\n",
      "鳳翔\n",
      "樂安\n",
      "樂利\n",
      "樂和\n",
      "樂隆\n",
      "黎元\n",
      "豫銘\n",
      "錢忠\n",
      "靜安\n",
      "龍延\n",
      "龍門\n",
      "龍淵\n",
      "龍普\n",
      "濟南\n",
      "臨江\n",
      "豐安\n",
      "懷生\n",
      "麟光\n",
      "鑫泰\n"
     ]
    }
   ],
   "source": [
    "for e in elem.xpath(\"//POIName/text()\"):\n",
    "    print e"
   ]
  },
  {
   "cell_type": "code",
   "execution_count": null,
   "metadata": {
    "collapsed": true
   },
   "outputs": [],
   "source": []
  }
 ],
 "metadata": {
  "kernelspec": {
   "display_name": "Python 2",
   "language": "python",
   "name": "python2"
  },
  "language_info": {
   "codemirror_mode": {
    "name": "ipython",
    "version": 2
   },
   "file_extension": ".py",
   "mimetype": "text/x-python",
   "name": "python",
   "nbconvert_exporter": "python",
   "pygments_lexer": "ipython2",
   "version": "2.7.6"
  }
 },
 "nbformat": 4,
 "nbformat_minor": 0
}
