{
 "cells": [
  {
   "cell_type": "code",
   "execution_count": 1,
   "metadata": {
    "collapsed": true
   },
   "outputs": [],
   "source": [
    "import requests"
   ]
  },
  {
   "cell_type": "code",
   "execution_count": 2,
   "metadata": {
    "collapsed": true
   },
   "outputs": [],
   "source": [
    "url=\"https://www.ptt.cc/bbs/StupidClown/index.html\""
   ]
  },
  {
   "cell_type": "code",
   "execution_count": 3,
   "metadata": {
    "collapsed": true
   },
   "outputs": [],
   "source": [
    "res=requests.get(url)"
   ]
  },
  {
   "cell_type": "code",
   "execution_count": 120,
   "metadata": {
    "collapsed": false
   },
   "outputs": [
    {
     "data": {
      "text/plain": [
       "'utf-8'"
      ]
     },
     "execution_count": 120,
     "metadata": {},
     "output_type": "execute_result"
    }
   ],
   "source": [
    "res.encoding"
   ]
  },
  {
   "cell_type": "code",
   "execution_count": 4,
   "metadata": {
    "collapsed": false
   },
   "outputs": [
    {
     "name": "stdout",
     "output_type": "stream",
     "text": [
      "<!DOCTYPE html>\n",
      "<html>\n",
      "\t<head>\n",
      "\t\t<meta charset=\"utf-8\" />\n",
      "\t\t\n",
      "\n",
      "<meta name=\"viewport\" content=\"width=device-width\">\n",
      "\n",
      "<title>看板 StupidClown 文章列表 - 批踢踢實業坊</title>\n",
      "\n",
      "<link rel=\"stylesheet\" type=\"text/css\" href=\"//images.ptt.cc/v2.13/bbs-common.css\" />\n",
      "<link rel=\"stylesheet\" type=\"text/css\" href=\"//images.ptt.cc/v2.13/bbs.css\" media=\"screen\" />\n",
      "<link rel=\"stylesheet\" type=\"text/css\" href=\"//images.ptt.cc/v2.13/pushstream.css\" media=\"screen\" />\n",
      "<link rel=\"stylesheet\" type=\"text/css\" href=\"//images.ptt.cc/v2.13/bbs-print.css\" media=\"print\" />\n",
      "\n",
      "\n",
      "<script src=\"//ajax.googleapis.com/ajax/libs/jquery/2.1.1/jquery.min.js\"></script>\n",
      "<script src=\"//images.ptt.cc/v2.13/bbs.js\"></script>\n",
      "\n",
      "\n",
      "\t\t\n",
      "\n",
      "<script type=\"text/javascript\">\n",
      "\n",
      "  var _gaq = _gaq || [];\n",
      "  _gaq.push(['_setAccount', 'UA-32365737-1']);\n",
      "  _gaq.push(['_setDomainName', 'ptt.cc']);\n",
      "  _gaq.push(['_trackPageview']);\n",
      "\n",
      "  (function() {\n",
      "    var ga = document.createElement('script'); ga.type = 'text/javascript'; ga.async = true;\n",
      "    ga.src = ('https:' == document.location.protocol ? 'https://ssl' : 'http://www') + '.google-analytics.com/ga.js';\n",
      "    var s = document.getElementsByTagName('script')[0]; s.parentNode.insertBefore(ga, s);\n",
      "  })();\n",
      "\n",
      "</script>\n",
      "\n",
      "\n",
      "\t</head>\n",
      "    <body>\n",
      "\t\t\n",
      "<div id=\"topbar-container\">\n",
      "\t<div id=\"topbar\" class=\"bbs-content\">\n",
      "\t\t<a id=\"logo\" href=\"/\">批踢踢實業坊</a>\n",
      "\t\t<span>&rsaquo;</span>\n",
      "\t\t<a class=\"board\" href=\"/bbs/StupidClown/index.html\"><span class=\"board-label\">看板 </span>StupidClown</a>\n",
      "\t\t<a class=\"right small\" href=\"/about.html\">關於我們</a>\n",
      "\t\t<a class=\"right small\" href=\"/contact.html\">聯絡資訊</a>\n",
      "\t</div>\n",
      "</div>\n",
      "\n",
      "<div id=\"main-container\">\n",
      "\t<div id=\"action-bar-container\">\n",
      "\t\t<div class=\"action-bar\">\n",
      "\t\t\t<div class=\"btn-group\">\n",
      "\t\t\t\t<a class=\"btn selected\" href=\"/bbs/StupidClown/index.html\">看板</a>\n",
      "\t\t\t\t<a class=\"btn\" href=\"/man/StupidClown/index.html\">精華區</a>\n",
      "\t\t\t</div>\n",
      "\t\t\t<div class=\"btn-group pull-right\">\n",
      "\t\t\t\t<a class=\"btn wide\" href=\"/bbs/StupidClown/index1.html\">最舊</a>\n",
      "\t\t\t\t<a class=\"btn wide\" href=\"/bbs/StupidClown/index2498.html\">&lsaquo; 上頁</a>\n",
      "\t\t\t\t<a class=\"btn wide disabled\">下頁 &rsaquo;</a>\n",
      "\t\t\t\t<a class=\"btn wide\" href=\"/bbs/StupidClown/index.html\">最新</a>\n",
      "\t\t\t</div>\n",
      "\t\t</div>\n",
      "\t</div>\n",
      "\n",
      "\t<div class=\"r-list-container bbs-screen\">\n",
      "\t\t\n",
      "\t\t\n",
      "            \n",
      "        \n",
      "        \n",
      "\t\t<div class=\"r-ent\">\n",
      "\t\t\t<div class=\"nrec\"><span class=\"hl f2\">8</span></div>\n",
      "\t\t\t<div class=\"mark\"></div>\n",
      "\t\t\t<div class=\"title\">\n",
      "\t\t\t\n",
      "\t\t\t\t<a href=\"/bbs/StupidClown/M.1430061305.A.483.html\">你以為你會被O嗎?! (含髒話</a>\n",
      "\t\t\t\n",
      "\t\t\t</div>\n",
      "\t\t\t<div class=\"meta\">\n",
      "\t\t\t\t<div class=\"date\"> 4/26</div>\n",
      "\t\t\t\t<div class=\"author\">heynice</div>\n",
      "\t\t\t</div>\n",
      "\t\t</div>\n",
      "\n",
      "\t\t\n",
      "            \n",
      "        \n",
      "        \n",
      "\t\t<div class=\"r-ent\">\n",
      "\t\t\t<div class=\"nrec\"><span class=\"hl f2\">7</span></div>\n",
      "\t\t\t<div class=\"mark\"></div>\n",
      "\t\t\t<div class=\"title\">\n",
      "\t\t\t\n",
      "\t\t\t\t<a href=\"/bbs/StupidClown/M.1430062464.A.965.html\">[眼殘] 有沒有這麼想看</a>\n",
      "\t\t\t\n",
      "\t\t\t</div>\n",
      "\t\t\t<div class=\"meta\">\n",
      "\t\t\t\t<div class=\"date\"> 4/26</div>\n",
      "\t\t\t\t<div class=\"author\">s0926787810</div>\n",
      "\t\t\t</div>\n",
      "\t\t</div>\n",
      "\n",
      "\t\t\n",
      "            \n",
      "        \n",
      "        \n",
      "\t\t<div class=\"r-ent\">\n",
      "\t\t\t<div class=\"nrec\"><span class=\"hl f3\">74</span></div>\n",
      "\t\t\t<div class=\"mark\"></div>\n",
      "\t\t\t<div class=\"title\">\n",
      "\t\t\t\n",
      "\t\t\t\t<a href=\"/bbs/StupidClown/M.1430062647.A.226.html\">[大哭] 應屆新鮮人第一次找工作</a>\n",
      "\t\t\t\n",
      "\t\t\t</div>\n",
      "\t\t\t<div class=\"meta\">\n",
      "\t\t\t\t<div class=\"date\"> 4/26</div>\n",
      "\t\t\t\t<div class=\"author\">ryolue5053</div>\n",
      "\t\t\t</div>\n",
      "\t\t</div>\n",
      "\n",
      "\t\t\n",
      "            \n",
      "        \n",
      "        \n",
      "\t\t<div class=\"r-ent\">\n",
      "\t\t\t<div class=\"nrec\"><span class=\"hl f2\">5</span></div>\n",
      "\t\t\t<div class=\"mark\"></div>\n",
      "\t\t\t<div class=\"title\">\n",
      "\t\t\t\n",
      "\t\t\t\t<a href=\"/bbs/StupidClown/M.1430062969.A.9EA.html\">[眼殘] 好奇心殺死兩個北七</a>\n",
      "\t\t\t\n",
      "\t\t\t</div>\n",
      "\t\t\t<div class=\"meta\">\n",
      "\t\t\t\t<div class=\"date\"> 4/26</div>\n",
      "\t\t\t\t<div class=\"author\">gmchick</div>\n",
      "\t\t\t</div>\n",
      "\t\t</div>\n",
      "\n",
      "\t\t\n",
      "            \n",
      "        \n",
      "        \n",
      "\t\t<div class=\"r-ent\">\n",
      "\t\t\t<div class=\"nrec\"><span class=\"hl f2\">2</span></div>\n",
      "\t\t\t<div class=\"mark\"></div>\n",
      "\t\t\t<div class=\"title\">\n",
      "\t\t\t\n",
      "\t\t\t\t<a href=\"/bbs/StupidClown/M.1430063243.A.7FB.html\">[童年] 嘴巴流血了</a>\n",
      "\t\t\t\n",
      "\t\t\t</div>\n",
      "\t\t\t<div class=\"meta\">\n",
      "\t\t\t\t<div class=\"date\"> 4/26</div>\n",
      "\t\t\t\t<div class=\"author\">nickwu9146</div>\n",
      "\t\t\t</div>\n",
      "\t\t</div>\n",
      "\n",
      "\t\t\n",
      "            \n",
      "        \n",
      "        \n",
      "\t\t<div class=\"r-ent\">\n",
      "\t\t\t<div class=\"nrec\"><span class=\"hl f2\">2</span></div>\n",
      "\t\t\t<div class=\"mark\"></div>\n",
      "\t\t\t<div class=\"title\">\n",
      "\t\t\t\n",
      "\t\t\t\t<a href=\"/bbs/StupidClown/M.1430063692.A.668.html\">[眼殘] 我以為是野生馬總統 ?</a>\n",
      "\t\t\t\n",
      "\t\t\t</div>\n",
      "\t\t\t<div class=\"meta\">\n",
      "\t\t\t\t<div class=\"date\"> 4/26</div>\n",
      "\t\t\t\t<div class=\"author\">Guardsmen</div>\n",
      "\t\t\t</div>\n",
      "\t\t</div>\n",
      "\n",
      "\t\t\n",
      "            \n",
      "        \n",
      "        \n",
      "\t\t<div class=\"r-ent\">\n",
      "\t\t\t<div class=\"nrec\"><span class=\"hl f3\">24</span></div>\n",
      "\t\t\t<div class=\"mark\"></div>\n",
      "\t\t\t<div class=\"title\">\n",
      "\t\t\t\n",
      "\t\t\t\t<a href=\"/bbs/StupidClown/M.1430063752.A.F33.html\">[問卷] 名叫畢奇就要承擔後果啊！（300p)</a>\n",
      "\t\t\t\n",
      "\t\t\t</div>\n",
      "\t\t\t<div class=\"meta\">\n",
      "\t\t\t\t<div class=\"date\"> 4/26</div>\n",
      "\t\t\t\t<div class=\"author\">shiao0424</div>\n",
      "\t\t\t</div>\n",
      "\t\t</div>\n",
      "\n",
      "\t\t\n",
      "            \n",
      "        \n",
      "        \n",
      "\t\t<div class=\"r-ent\">\n",
      "\t\t\t<div class=\"nrec\"><span class=\"hl f2\">4</span></div>\n",
      "\t\t\t<div class=\"mark\"></div>\n",
      "\t\t\t<div class=\"title\">\n",
      "\t\t\t\n",
      "\t\t\t\t<a href=\"/bbs/StupidClown/M.1430064163.A.DCE.html\">[無言] 看不出來你30幾歲了</a>\n",
      "\t\t\t\n",
      "\t\t\t</div>\n",
      "\t\t\t<div class=\"meta\">\n",
      "\t\t\t\t<div class=\"date\"> 4/27</div>\n",
      "\t\t\t\t<div class=\"author\">b9707114</div>\n",
      "\t\t\t</div>\n",
      "\t\t</div>\n",
      "\n",
      "\t\t\n",
      "            \n",
      "        \n",
      "        \n",
      "\t\t<div class=\"r-ent\">\n",
      "\t\t\t<div class=\"nrec\"><span class=\"hl f2\">7</span></div>\n",
      "\t\t\t<div class=\"mark\"></div>\n",
      "\t\t\t<div class=\"title\">\n",
      "\t\t\t\n",
      "\t\t\t\t<a href=\"/bbs/StupidClown/M.1430064776.A.5EA.html\">[無言] 萬花筒之星</a>\n",
      "\t\t\t\n",
      "\t\t\t</div>\n",
      "\t\t\t<div class=\"meta\">\n",
      "\t\t\t\t<div class=\"date\"> 4/27</div>\n",
      "\t\t\t\t<div class=\"author\">mickey1281</div>\n",
      "\t\t\t</div>\n",
      "\t\t</div>\n",
      "\n",
      "\t\t\n",
      "            \n",
      "        \n",
      "        \n",
      "\t\t<div class=\"r-ent\">\n",
      "\t\t\t<div class=\"nrec\"><span class=\"hl f2\">3</span></div>\n",
      "\t\t\t<div class=\"mark\"></div>\n",
      "\t\t\t<div class=\"title\">\n",
      "\t\t\t\n",
      "\t\t\t\t<a href=\"/bbs/StupidClown/M.1430066978.A.E63.html\">[恍神] 亂傳圖檔</a>\n",
      "\t\t\t\n",
      "\t\t\t</div>\n",
      "\t\t\t<div class=\"meta\">\n",
      "\t\t\t\t<div class=\"date\"> 4/27</div>\n",
      "\t\t\t\t<div class=\"author\">peilove1022</div>\n",
      "\t\t\t</div>\n",
      "\t\t</div>\n",
      "\n",
      "\t\t\n",
      "            \n",
      "        \n",
      "        \n",
      "\t\t<div class=\"r-ent\">\n",
      "\t\t\t<div class=\"nrec\"></div>\n",
      "\t\t\t<div class=\"mark\"></div>\n",
      "\t\t\t<div class=\"title\">\n",
      "\t\t\t\n",
      "\t\t\t\t<a href=\"/bbs/StupidClown/M.1430067356.A.81C.html\">[聽錯] 給力芬</a>\n",
      "\t\t\t\n",
      "\t\t\t</div>\n",
      "\t\t\t<div class=\"meta\">\n",
      "\t\t\t\t<div class=\"date\"> 4/27</div>\n",
      "\t\t\t\t<div class=\"author\">QQPPT</div>\n",
      "\t\t\t</div>\n",
      "\t\t</div>\n",
      "\n",
      "\t\t\n",
      "            \n",
      "        \n",
      "        \n",
      "\t\t<div class=\"r-ent\">\n",
      "\t\t\t<div class=\"nrec\"><span class=\"hl f2\">8</span></div>\n",
      "\t\t\t<div class=\"mark\"></div>\n",
      "\t\t\t<div class=\"title\">\n",
      "\t\t\t\n",
      "\t\t\t\t<a href=\"/bbs/StupidClown/M.1430069396.A.C9C.html\">[白痴] 笨蛋，差點被騙</a>\n",
      "\t\t\t\n",
      "\t\t\t</div>\n",
      "\t\t\t<div class=\"meta\">\n",
      "\t\t\t\t<div class=\"date\"> 4/27</div>\n",
      "\t\t\t\t<div class=\"author\">fingilove</div>\n",
      "\t\t\t</div>\n",
      "\t\t</div>\n",
      "\n",
      "\t\t\n",
      "            \n",
      "        \n",
      "        \n",
      "\t\t<div class=\"r-ent\">\n",
      "\t\t\t<div class=\"nrec\"><span class=\"hl f2\">6</span></div>\n",
      "\t\t\t<div class=\"mark\"></div>\n",
      "\t\t\t<div class=\"title\">\n",
      "\t\t\t\n",
      "\t\t\t\t<a href=\"/bbs/StupidClown/M.1430069557.A.D34.html\">[無言] 老爸說要幫我買…</a>\n",
      "\t\t\t\n",
      "\t\t\t</div>\n",
      "\t\t\t<div class=\"meta\">\n",
      "\t\t\t\t<div class=\"date\"> 4/27</div>\n",
      "\t\t\t\t<div class=\"author\">c93203wj4</div>\n",
      "\t\t\t</div>\n",
      "\t\t</div>\n",
      "\n",
      "\t\t\n",
      "            \n",
      "        \n",
      "        \n",
      "\t\t<div class=\"r-ent\">\n",
      "\t\t\t<div class=\"nrec\"><span class=\"hl f2\">1</span></div>\n",
      "\t\t\t<div class=\"mark\"></div>\n",
      "\t\t\t<div class=\"title\">\n",
      "\t\t\t\n",
      "\t\t\t\t<a href=\"/bbs/StupidClown/M.1430071777.A.3B6.html\">Fw: [徵求]深澳坑路‧逢甲路‧62‧調和街 路口監視器</a>\n",
      "\t\t\t\n",
      "\t\t\t</div>\n",
      "\t\t\t<div class=\"meta\">\n",
      "\t\t\t\t<div class=\"date\"> 4/27</div>\n",
      "\t\t\t\t<div class=\"author\">dd1w5</div>\n",
      "\t\t\t</div>\n",
      "\t\t</div>\n",
      "\n",
      "\t\t\n",
      "            \n",
      "        \n",
      "        \n",
      "\t\t<div class=\"r-ent\">\n",
      "\t\t\t<div class=\"nrec\"><span class=\"hl f2\">4</span></div>\n",
      "\t\t\t<div class=\"mark\"></div>\n",
      "\t\t\t<div class=\"title\">\n",
      "\t\t\t\n",
      "\t\t\t\t<a href=\"/bbs/StupidClown/M.1430073090.A.D2F.html\">[無言]  跟閃光玩知識王</a>\n",
      "\t\t\t\n",
      "\t\t\t</div>\n",
      "\t\t\t<div class=\"meta\">\n",
      "\t\t\t\t<div class=\"date\"> 4/27</div>\n",
      "\t\t\t\t<div class=\"author\">kiro1216</div>\n",
      "\t\t\t</div>\n",
      "\t\t</div>\n",
      "\n",
      "\t\t\n",
      "            \n",
      "        \n",
      "        \n",
      "\t\t<div class=\"r-ent\">\n",
      "\t\t\t<div class=\"nrec\"><span class=\"hl f2\">2</span></div>\n",
      "\t\t\t<div class=\"mark\"></div>\n",
      "\t\t\t<div class=\"title\">\n",
      "\t\t\t\n",
      "\t\t\t\t<a href=\"/bbs/StupidClown/M.1430077318.A.AA4.html\">[大哭] 被鴿子搶劫了</a>\n",
      "\t\t\t\n",
      "\t\t\t</div>\n",
      "\t\t\t<div class=\"meta\">\n",
      "\t\t\t\t<div class=\"date\"> 4/27</div>\n",
      "\t\t\t\t<div class=\"author\">myleehom520</div>\n",
      "\t\t\t</div>\n",
      "\t\t</div>\n",
      "\n",
      "\t\t\n",
      "            \n",
      "        \n",
      "        \n",
      "\t\t<div class=\"r-ent\">\n",
      "\t\t\t<div class=\"nrec\"><span class=\"hl f2\">7</span></div>\n",
      "\t\t\t<div class=\"mark\"></div>\n",
      "\t\t\t<div class=\"title\">\n",
      "\t\t\t\n",
      "\t\t\t\t<a href=\"/bbs/StupidClown/M.1430079595.A.ED9.html\">自作孽不可活？！</a>\n",
      "\t\t\t\n",
      "\t\t\t</div>\n",
      "\t\t\t<div class=\"meta\">\n",
      "\t\t\t\t<div class=\"date\"> 4/27</div>\n",
      "\t\t\t\t<div class=\"author\">cj900802000</div>\n",
      "\t\t\t</div>\n",
      "\t\t</div>\n",
      "\n",
      "\t\t\n",
      "            \n",
      "        \n",
      "        \n",
      "\t\t<div class=\"r-ent\">\n",
      "\t\t\t<div class=\"nrec\"><span class=\"hl f2\">1</span></div>\n",
      "\t\t\t<div class=\"mark\"></div>\n",
      "\t\t\t<div class=\"title\">\n",
      "\t\t\t\n",
      "\t\t\t\t<a href=\"/bbs/StupidClown/M.1430082265.A.556.html\">司機找不到乘客~</a>\n",
      "\t\t\t\n",
      "\t\t\t</div>\n",
      "\t\t\t<div class=\"meta\">\n",
      "\t\t\t\t<div class=\"date\"> 4/27</div>\n",
      "\t\t\t\t<div class=\"author\">q81740</div>\n",
      "\t\t\t</div>\n",
      "\t\t</div>\n",
      "\n",
      "\t\t\n",
      "        \n",
      "        <div class=\"r-list-sep\"></div>\n",
      "            \n",
      "                \n",
      "        \n",
      "        \n",
      "\t\t<div class=\"r-ent\">\n",
      "\t\t\t<div class=\"nrec\"></div>\n",
      "\t\t\t<div class=\"mark\">M</div>\n",
      "\t\t\t<div class=\"title\">\n",
      "\t\t\t\n",
      "\t\t\t\t<a href=\"/bbs/StupidClown/M.1158735717.A.828.html\">[公告] 笨板板規</a>\n",
      "\t\t\t\n",
      "\t\t\t</div>\n",
      "\t\t\t<div class=\"meta\">\n",
      "\t\t\t\t<div class=\"date\"> 9/20</div>\n",
      "\t\t\t\t<div class=\"author\">F7</div>\n",
      "\t\t\t</div>\n",
      "\t\t</div>\n",
      "\n",
      "            \n",
      "                \n",
      "        \n",
      "        \n",
      "\t\t<div class=\"r-ent\">\n",
      "\t\t\t<div class=\"nrec\"></div>\n",
      "\t\t\t<div class=\"mark\">M</div>\n",
      "\t\t\t<div class=\"title\">\n",
      "\t\t\t\n",
      "\t\t\t\t<a href=\"/bbs/StupidClown/M.1211070465.A.1E5.html\">[公告]關於檢舉</a>\n",
      "\t\t\t\n",
      "\t\t\t</div>\n",
      "\t\t\t<div class=\"meta\">\n",
      "\t\t\t\t<div class=\"date\"> 5/18</div>\n",
      "\t\t\t\t<div class=\"author\">F7</div>\n",
      "\t\t\t</div>\n",
      "\t\t</div>\n",
      "\n",
      "            \n",
      "                \n",
      "        \n",
      "        \n",
      "\t\t<div class=\"r-ent\">\n",
      "\t\t\t<div class=\"nrec\"><span class=\"hl f3\">65</span></div>\n",
      "\t\t\t<div class=\"mark\">M</div>\n",
      "\t\t\t<div class=\"title\">\n",
      "\t\t\t\n",
      "\t\t\t\t<a href=\"/bbs/StupidClown/M.1362048036.A.8CB.html\">[公告]請注意個人資料保密以及集氣/問卷文</a>\n",
      "\t\t\t\n",
      "\t\t\t</div>\n",
      "\t\t\t<div class=\"meta\">\n",
      "\t\t\t\t<div class=\"date\"> 2/28</div>\n",
      "\t\t\t\t<div class=\"author\">F7</div>\n",
      "\t\t\t</div>\n",
      "\t\t</div>\n",
      "\n",
      "            \n",
      "                \n",
      "        \n",
      "        \n",
      "\t\t<div class=\"r-ent\">\n",
      "\t\t\t<div class=\"nrec\"><span class=\"hl f3\">71</span></div>\n",
      "\t\t\t<div class=\"mark\"></div>\n",
      "\t\t\t<div class=\"title\">\n",
      "\t\t\t\n",
      "\t\t\t\t<a href=\"/bbs/StupidClown/M.1418366109.A.34B.html\">[公告]關於liveany文</a>\n",
      "\t\t\t\n",
      "\t\t\t</div>\n",
      "\t\t\t<div class=\"meta\">\n",
      "\t\t\t\t<div class=\"date\">12/12</div>\n",
      "\t\t\t\t<div class=\"author\">F7</div>\n",
      "\t\t\t</div>\n",
      "\t\t</div>\n",
      "\n",
      "            \n",
      "        \n",
      "\t</div>\n",
      "\n",
      "    \n",
      "</div>\n",
      "\n",
      "    </body>\n",
      "</html>\n",
      "\n"
     ]
    }
   ],
   "source": [
    "print res.text"
   ]
  },
  {
   "cell_type": "code",
   "execution_count": 5,
   "metadata": {
    "collapsed": true
   },
   "outputs": [],
   "source": [
    "from pyquery import PyQuery "
   ]
  },
  {
   "cell_type": "code",
   "execution_count": 6,
   "metadata": {
    "collapsed": true
   },
   "outputs": [],
   "source": [
    "s=PyQuery(res.text)"
   ]
  },
  {
   "cell_type": "code",
   "execution_count": 7,
   "metadata": {
    "collapsed": false
   },
   "outputs": [],
   "source": [
    "S=s('div.pull-right a.btn:nth-child(2)')#下一頁"
   ]
  },
  {
   "cell_type": "code",
   "execution_count": 8,
   "metadata": {
    "collapsed": false
   },
   "outputs": [
    {
     "data": {
      "text/plain": [
       "'/bbs/StupidClown/index2498.html'"
      ]
     },
     "execution_count": 8,
     "metadata": {},
     "output_type": "execute_result"
    }
   ],
   "source": [
    "S.attr('href')"
   ]
  },
  {
   "cell_type": "code",
   "execution_count": 9,
   "metadata": {
    "collapsed": true
   },
   "outputs": [],
   "source": [
    "import re"
   ]
  },
  {
   "cell_type": "markdown",
   "metadata": {},
   "source": [
    "###把數字取出來"
   ]
  },
  {
   "cell_type": "code",
   "execution_count": 12,
   "metadata": {
    "collapsed": false
   },
   "outputs": [
    {
     "data": {
      "text/plain": [
       "<_sre.SRE_Match at 0x104b2acc8>"
      ]
     },
     "execution_count": 12,
     "metadata": {},
     "output_type": "execute_result"
    }
   ],
   "source": [
    "p=re.compile(\"\\d{4}\")\n",
    "m=p.search('/bbs/StupidClown/index2496.html')\n",
    "page=m.group()#group回傳連接到的部分\n",
    "#page\n",
    "m"
   ]
  },
  {
   "cell_type": "code",
   "execution_count": 13,
   "metadata": {
    "collapsed": false
   },
   "outputs": [
    {
     "data": {
      "text/plain": [
       "'/bbs/StupidClown/index2498.html'"
      ]
     },
     "execution_count": 13,
     "metadata": {},
     "output_type": "execute_result"
    }
   ],
   "source": [
    "m=S.attr('href').replace(page,str(int(page)+1))\n",
    "m"
   ]
  },
  {
   "cell_type": "code",
   "execution_count": 14,
   "metadata": {
    "collapsed": false
   },
   "outputs": [],
   "source": [
    "ptt=\"https://www.ptt.cc\"#網址"
   ]
  },
  {
   "cell_type": "code",
   "execution_count": 15,
   "metadata": {
    "collapsed": true
   },
   "outputs": [],
   "source": [
    "M=ptt+m"
   ]
  },
  {
   "cell_type": "code",
   "execution_count": 16,
   "metadata": {
    "collapsed": false
   },
   "outputs": [
    {
     "data": {
      "text/plain": [
       "'https://www.ptt.cc/bbs/StupidClown/index2498.html'"
      ]
     },
     "execution_count": 16,
     "metadata": {},
     "output_type": "execute_result"
    }
   ],
   "source": [
    "M"
   ]
  },
  {
   "cell_type": "markdown",
   "metadata": {},
   "source": [
    "測試單頁，取出每一篇"
   ]
  },
  {
   "cell_type": "code",
   "execution_count": 23,
   "metadata": {
    "collapsed": false
   },
   "outputs": [
    {
     "data": {
      "text/plain": [
       "[<div.r-ent>, <div.r-ent>, <div.r-ent>, <div.r-ent>, <div.r-ent>, <div.r-ent>, <div.r-ent>, <div.r-ent>, <div.r-ent>, <div.r-ent>, <div.r-ent>, <div.r-ent>, <div.r-ent>, <div.r-ent>, <div.r-ent>, <div.r-ent>, <div.r-ent>, <div.r-ent>, <div.r-ent>, <div.r-ent>]"
      ]
     },
     "execution_count": 23,
     "metadata": {},
     "output_type": "execute_result"
    }
   ],
   "source": [
    "res1=requests.get(\"https://www.ptt.cc/bbs/StupidClown/index2497.html\")\n",
    "S1=PyQuery(res1.text)\n",
    "S1('div.r-ent')\n",
    "#S1('div.nrec span')"
   ]
  },
  {
   "cell_type": "markdown",
   "metadata": {},
   "source": [
    "顯示推文數，並忽略刪除文章和內含[問卷]跟[集氣]\n",
    "把推爆的文章存起來##rec"
   ]
  },
  {
   "cell_type": "code",
   "execution_count": 56,
   "metadata": {
    "collapsed": false
   },
   "outputs": [],
   "source": [
    "def rec(R):#R=S1('div.r-ent')篇的集合\n",
    "    c=[]\n",
    "    for i in R:\n",
    "        S2=PyQuery(i)\n",
    "        S2('div.nrec span')\n",
    "        if  len(S2('div.nrec span'))!=0:\n",
    "            #print S2('div.nrec span')[0].text\n",
    "            if S2('div.nrec span')[0].text == u'爆':\n",
    "                #print S2('div.title a').text()\n",
    "                if filter(lambda x: x in S2('div.title a').text(),[u\"[問卷]\",u\"[集氣]\"])==[]:\n",
    "                   c.append(S2)\n",
    "    return c"
   ]
  },
  {
   "cell_type": "code",
   "execution_count": 57,
   "metadata": {
    "collapsed": false
   },
   "outputs": [
    {
     "name": "stdout",
     "output_type": "stream",
     "text": [
      "[[<div.r-ent>]]\n"
     ]
    }
   ],
   "source": [
    "c=[]\n",
    "c.extend(rec(S1('div.r-ent')))\n",
    "print c"
   ]
  },
  {
   "cell_type": "markdown",
   "metadata": {},
   "source": [
    "找出三篇\"爆\"的文章"
   ]
  },
  {
   "cell_type": "code",
   "execution_count": 65,
   "metadata": {
    "collapsed": false
   },
   "outputs": [],
   "source": [
    "def three(R):\n",
    "    \"\"\"\n",
    "    Where site R putting url. \n",
    "    \"\"\"\n",
    "    c=[]\n",
    "    res=requests.get(R)#讀入首頁\n",
    "    s=PyQuery(res.text)#用pyquery帶入\n",
    "    S=s('div.pull-right a.btn:nth-child(2)')#查到擺放“上一頁”的選項\n",
    "    T=S.attr('href')#上一頁的連結\n",
    "    p=re.compile(\"\\d{4}\")#re讀入四位數字型態\n",
    "    t=p.search(S.attr('href'))#尋找連結中符合型態\n",
    "    page=t.group()#把符合型態的取出\n",
    "    T=T.replace(page,str(int(page)+2))\n",
    "    page=str(int(page)+2)#首頁的頁數加一\n",
    "    while len(c)<3:\n",
    "        T=T.replace(page,str(int(page)-1))#置換成前一頁\n",
    "        M=ptt+T#網址\n",
    "    \n",
    "        Res2=requests.get(M)#請求本頁\n",
    "        S3=PyQuery(Res2.text)#用PyQuery帶入\n",
    "        \n",
    "        K=rec(S3('div.r-ent'))\n",
    "        c.extend(K)#新增本頁的\"爆\"文\n",
    "        page=str(int(page)-1)#把page改成上一頁的頁碼\n",
    "        c=c[:3]#不超過三篇\n",
    "    for i in c:\n",
    "        print i('div.title a').text()+\" \"+ptt+i('div.title a').attr('href')\n",
    "    return c"
   ]
  },
  {
   "cell_type": "markdown",
   "metadata": {},
   "source": [
    "##抓到三篇"
   ]
  },
  {
   "cell_type": "code",
   "execution_count": 170,
   "metadata": {
    "collapsed": false
   },
   "outputs": [
    {
     "name": "stdout",
     "output_type": "stream",
     "text": [
      "[大哭] 應屆新鮮人第一次找工作 https://www.ptt.cc/bbs/StupidClown/M.1430062647.A.226.html\n",
      "[聽錯] 總統是第幾級產業? https://www.ptt.cc/bbs/StupidClown/M.1430040862.A.81D.html\n",
      "[眼殘] 玩命光頭7 https://www.ptt.cc/bbs/StupidClown/M.1429871971.A.F3A.html\n"
     ]
    }
   ],
   "source": [
    "c=three(url)"
   ]
  },
  {
   "cell_type": "markdown",
   "metadata": {},
   "source": [
    "<h1 style=\"text-align:center;color:#228822\">再來讓他每天都跑</h1>"
   ]
  },
  {
   "cell_type": "code",
   "execution_count": null,
   "metadata": {
    "collapsed": true
   },
   "outputs": [],
   "source": [
    "#!/usr/bin/env python 用python跑"
   ]
  },
  {
   "cell_type": "code",
   "execution_count": 238,
   "metadata": {
    "collapsed": false
   },
   "outputs": [
    {
     "name": "stdout",
     "output_type": "stream",
     "text": [
      "Overwriting ptt_stupid.py\n"
     ]
    }
   ],
   "source": [
    "%%writefile ptt_stupid.py\n",
    "#!/usr/bin/env python\n",
    "# -*- coding: UTF-8 -*-\n",
    "import requests\n",
    "url=\"https://www.ptt.cc/bbs/StupidClown/index.html\"\n",
    "ptt=\"https://www.ptt.cc\"\n",
    "from pyquery import PyQuery\n",
    "import re\n",
    "def rec(R):#R=S1('div.r-ent')\n",
    "    c=[]\n",
    "    for i in R:\n",
    "        S2=PyQuery(i)\n",
    "        S2('div.nrec span')\n",
    "        if  len(S2('div.nrec span'))!=0:\n",
    "            if S2('div.nrec span')[0].text == u'爆':\n",
    "                if filter(lambda x: x in S2('div.title a').text(),[u\"[問卷]\",u\"[集氣]\"])==[]:\n",
    "                   c.append(S2)\n",
    "    return c\n",
    "def three(R):\n",
    "    \"\"\"\n",
    "    Where site R putting url. \n",
    "    \"\"\"\n",
    "    c=[]\n",
    "    res=requests.get(R)\n",
    "    s=PyQuery(res.text)\n",
    "    S=s('div.pull-right a.btn:nth-child(2)')\n",
    "    T=S.attr('href')\n",
    "    p=re.compile(\"\\d{4}\")\n",
    "    t=p.search(S.attr('href'))\n",
    "    page=t.group()\n",
    "    T=T.replace(page,str(int(page)+2))\n",
    "    page=str(int(page)+2)\n",
    "    while len(c)<3:\n",
    "        T=T.replace(page,str(int(page)-1))\n",
    "        M=ptt+T\n",
    "        Res2=requests.get(M)\n",
    "        S3=PyQuery(Res2.text)\n",
    "        \n",
    "        K=rec(S3('div.r-ent'))\n",
    "        c.extend(K)\n",
    "        page=str(int(page)-1)\n",
    "        c=c[:3]\n",
    "    SS1=\"<!DOCTYPE html><html><header><meta charset=\\\"utf-8\\\"/></header><body>\"\n",
    "    SS2=[]\n",
    "    for i in c:\n",
    "        SS2.append(\"<a style=\\\"font-size:40px\\\" href=\\\"\"+ptt+i('div.title a').attr('href')+\"\\\">\"+i('div.title a').text()+\"</a>\")\n",
    "    SS3=\"</h1></body></html>\"\n",
    "    SS=SS1+SS2[0]+\"<br>\"+SS2[1]+\"<br>\"+SS2[2]+SS3\n",
    "    f=open(\"foo.html\",\"w\")\n",
    "    print >>f,SS.encode('utf-8')\n",
    "    f.close()\n",
    "    return c\n",
    "three(url)\n",
    "import time \n",
    "time.sleep(3)"
   ]
  },
  {
   "cell_type": "code",
   "execution_count": 239,
   "metadata": {
    "collapsed": false
   },
   "outputs": [
    {
     "data": {
      "text/plain": [
       "u'/Users/annie/AG/PyCon2015-Crawlers/MingYiNotes'"
      ]
     },
     "execution_count": 239,
     "metadata": {},
     "output_type": "execute_result"
    }
   ],
   "source": [
    "pwd"
   ]
  },
  {
   "cell_type": "code",
   "execution_count": 240,
   "metadata": {
    "collapsed": false
   },
   "outputs": [],
   "source": [
    "%run ptt_stupid.py"
   ]
  },
  {
   "cell_type": "markdown",
   "metadata": {},
   "source": [
    "#每天都讓他跑的執行指令crontab\n",
    "[教學](http://linux.vbird.org/linux_basic/0430cron.php)"
   ]
  },
  {
   "cell_type": "code",
   "execution_count": 215,
   "metadata": {
    "collapsed": false
   },
   "outputs": [],
   "source": [
    "#crontab [-u username] [-l|-e|-r]\n",
    "#代表意義\t分鐘\t小時\t日期\t月份\t週\t指令\n",
    "#數字範圍\t0-59\t0-23\t1-31\t1-12\t0-7\t呀就指令啊\n",
    "\n",
    "#cd ~/bin/  \n",
    "#在bin底下加入執行檔\n",
    "\n",
    "#sudo su - (switch user) 有需要再用\n",
    "#exit (不然在root太恐怖了)\n",
    "\n",
    "#ls -l\n",
    "#chmod 444 檔案名 [改變使用者權限 (ugo user group other 或是a all, rwx read write exe, ug+w 或者二進位去算 777 444)]\n",
    "\n",
    "#!crontab -e\n",
    "#2 * * * * python ~/AG/PyCon2015-Crawlers/MingYiNotes/ptt_stupid.py\n",
    "#2 * * * * open ~/AG/PyCon2015-Crawlers/MingYiNotes/foo.html"
   ]
  },
  {
   "cell_type": "markdown",
   "metadata": {},
   "source": [
    "```\n",
    "SS1=\"<!DOCTYPE html><html><header><meta charset=\\\"utf-8\\\"/></header><body>\"\n",
    "SS2=[]\n",
    "for i in c:\n",
    "            SS2.append(\"<a style=\\\"font-size:40px\\\" href=\\\"\"+ptt+i('div.title a').attr('href')+\"\\\">\"+i('div.title a').text()+\"</a>\")\n",
    "SS3=\"</h1></body></html>\"\n",
    "SS=SS1+SS2[0]+\"<br>\"+SS2[1]+\"<br>\"+SS2[2]+SS3\n",
    "f=open(\"foo.html\",\"w\")\n",
    "print >>f,SS.encode('utf-8')\n",
    "f.close()\n",
    "```"
   ]
  },
  {
   "cell_type": "code",
   "execution_count": 241,
   "metadata": {
    "collapsed": false
   },
   "outputs": [
    {
     "name": "stdout",
     "output_type": "stream",
     "text": [
      "<!DOCTYPE html><html><header><meta charset=\"utf-8\"/></header><body><a style=\"font-size:40px\" href=\"https://www.ptt.cc/bbs/StupidClown/M.1430062647.A.226.html\">[大哭] 應屆新鮮人第一次找工作</a><br><a style=\"font-size:40px\" href=\"https://www.ptt.cc/bbs/StupidClown/M.1430040862.A.81D.html\">[聽錯] 總統是第幾級產業?</a><br><a style=\"font-size:40px\" href=\"https://www.ptt.cc/bbs/StupidClown/M.1429871971.A.F3A.html\">[眼殘] 玩命光頭7</a></h1></body></html>\r\n"
     ]
    }
   ],
   "source": [
    "!cat foo.html"
   ]
  },
  {
   "cell_type": "code",
   "execution_count": 196,
   "metadata": {
    "collapsed": false
   },
   "outputs": [],
   "source": [
    "!open foo.html"
   ]
  },
  {
   "cell_type": "code",
   "execution_count": 219,
   "metadata": {
    "collapsed": true
   },
   "outputs": [],
   "source": [
    "rm foo.html"
   ]
  },
  {
   "cell_type": "code",
   "execution_count": 228,
   "metadata": {
    "collapsed": false
   },
   "outputs": [
    {
     "data": {
      "text/plain": [
       "u'/Users/annie/AG/PyCon2015-Crawlers/MingYiNotes'"
      ]
     },
     "execution_count": 228,
     "metadata": {},
     "output_type": "execute_result"
    }
   ],
   "source": [
    "pwd annie/AG/PyCon2015-Crawlers/MingYiNotes/"
   ]
  },
  {
   "cell_type": "code",
   "execution_count": null,
   "metadata": {
    "collapsed": true
   },
   "outputs": [],
   "source": []
  }
 ],
 "metadata": {
  "kernelspec": {
   "display_name": "Python 2",
   "language": "python",
   "name": "python2"
  },
  "language_info": {
   "codemirror_mode": {
    "name": "ipython",
    "version": 2
   },
   "file_extension": ".py",
   "mimetype": "text/x-python",
   "name": "python",
   "nbconvert_exporter": "python",
   "pygments_lexer": "ipython2",
   "version": "2.7.9"
  }
 },
 "nbformat": 4,
 "nbformat_minor": 0
}
