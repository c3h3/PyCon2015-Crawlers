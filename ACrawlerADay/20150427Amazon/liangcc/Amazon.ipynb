{
 "cells": [
  {
   "cell_type": "code",
   "execution_count": 2,
   "metadata": {
    "collapsed": false
   },
   "outputs": [],
   "source": [
    "import requests\n",
    "keyword = \"foo\"\n",
    "res = requests.get(\"http://www.amazon.com/s/ref=nb_sb_noss?field-keywords=%s\" % keyword)"
   ]
  },
  {
   "cell_type": "code",
   "execution_count": null,
   "metadata": {
    "collapsed": false
   },
   "outputs": [],
   "source": [
    "res.text"
   ]
  },
  {
   "cell_type": "code",
   "execution_count": 4,
   "metadata": {
    "collapsed": true
   },
   "outputs": [],
   "source": [
    "from bs4 import BeautifulSoup"
   ]
  },
  {
   "cell_type": "code",
   "execution_count": 5,
   "metadata": {
    "collapsed": true
   },
   "outputs": [],
   "source": [
    "soup = BeautifulSoup(res.text)"
   ]
  },
  {
   "cell_type": "code",
   "execution_count": 8,
   "metadata": {
    "collapsed": false
   },
   "outputs": [
    {
     "data": {
      "text/plain": [
       "[<h2 class=\"a-size-medium a-color-null s-inline s-access-title a-text-normal\">Sonic Highways</h2>,\n",
       " <h2 class=\"a-size-medium a-color-null s-inline s-access-title a-text-normal\">Greatest Hits</h2>,\n",
       " <h2 class=\"a-size-medium a-text-normal\">Amazon's Foo Fighters Store</h2>,\n",
       " <h2 class=\"a-size-medium a-color-null s-inline s-access-title a-text-normal\">Foo : A Japanese-American Prisoner of the Rising Sun : The Secret Prison Diary of Frank 'Foo' Fujita (War and...</h2>,\n",
       " <h2 class=\"a-size-medium a-color-null s-inline s-access-title a-text-normal\">Foo Fighters</h2>,\n",
       " <h2 class=\"a-size-medium a-color-null s-inline s-access-title a-text-normal\">To Wong Foo, Thanks for Everything! Julie Newmar</h2>,\n",
       " <h2 class=\"a-size-medium a-spacing-mini a-color-secondary acs-mn-title a-inline-block a-text-normal\">Video shorts related to \"foo\"</h2>,\n",
       " <h2 class=\"a-size-medium a-color-null s-inline s-access-title a-text-normal\">Leven Thumps and the Gateway to Foo</h2>,\n",
       " <h2 class=\"a-size-medium a-color-null s-inline s-access-title a-text-normal\">American Football</h2>,\n",
       " <h2 class=\"a-size-medium a-color-null s-inline s-access-title a-text-normal\">Foo Fighters: Sonic Highways</h2>,\n",
       " <h2 class=\"a-size-medium a-color-null s-inline s-access-title a-text-normal\">Foo Fighters american rock Vynil Car Sticker Decal - Select Size</h2>,\n",
       " <h2 class=\"a-size-medium a-color-null s-inline s-access-title a-text-normal\">In Your Honor</h2>,\n",
       " <h2 class=\"a-size-medium a-color-null s-inline s-access-title a-text-normal\">Foo Foo Mama Choo Hot Sauce with Smoking Ed's Carolina Reaper Pepper</h2>,\n",
       " <h2 class=\"a-size-medium a-color-null s-inline s-access-title a-text-normal\">Foo Fighters One-piece Baby Shirt/Bodysuit Red Design</h2>,\n",
       " <h2 class=\"a-size-medium a-color-null s-inline s-access-title a-text-normal\">The Foos: Code Hour</h2>,\n",
       " <h2 class=\"a-size-medium a-color-null s-inline s-access-title a-text-normal\">Licenses Products Foo Fighters Oval Logo Sticker</h2>]"
      ]
     },
     "execution_count": 8,
     "metadata": {},
     "output_type": "execute_result"
    }
   ],
   "source": [
    "soup.select(\" .s-result-item h2\")"
   ]
  },
  {
   "cell_type": "code",
   "execution_count": 12,
   "metadata": {
    "collapsed": false
   },
   "outputs": [],
   "source": [
    "res = requests.get(\"http://www.amazon.com/s/ref=nb_sb_noss?page=%s&field-keywords=%s\" % (2, keyword))\n",
    "soup = BeautifulSoup(res.text)\n",
    "s = soup.select(\" .s-result-item h2\")"
   ]
  },
  {
   "cell_type": "code",
   "execution_count": 15,
   "metadata": {
    "collapsed": false
   },
   "outputs": [
    {
     "data": {
      "text/plain": [
       "[<h2 class=\"a-size-medium a-color-null s-inline s-access-title a-text-normal\">Foo Fighters american rock Wall Graphic Decal Sticker 22\" x 22\"</h2>,\n",
       " <h2 class=\"a-size-medium a-color-null s-inline s-access-title a-text-normal\">Foo Fighters Black and White Band Photoshoot case for iPhone 5C</h2>,\n",
       " <h2 class=\"a-size-medium a-color-null s-inline s-access-title a-text-normal\">Licenses Products Foo Fighters Oval Logo Sticker</h2>,\n",
       " <h2 class=\"a-size-medium a-color-null s-inline s-access-title a-text-normal\">Fabulous Hong Tze Collection-Beijing Foo Dogs SM</h2>,\n",
       " <h2 class=\"a-size-medium a-color-null s-inline s-access-title a-text-normal\">There Is Nothing Left to Lose</h2>,\n",
       " <h2 class=\"a-size-medium a-color-null s-inline s-access-title a-text-normal\">Nature's Specialties Foo Foo Mystic Lavender Pet Cologne, 8-Ounce</h2>,\n",
       " <h2 class=\"a-size-medium a-color-null s-inline s-access-title a-text-normal\">PUNK ROCK HEAVY METAL MUSIC SEW ON / IRON ON PATCH:- FOO FIGHTERS DAVE GROHL</h2>,\n",
       " <h2 class=\"a-size-medium a-color-null s-inline s-access-title a-text-normal\">Episode 1-Chicago: Something From Nothing [HD]</h2>,\n",
       " <h2 class=\"a-size-medium a-color-null s-inline s-access-title a-text-normal\">2 Piece Temple Foo Dog Statue Set Color: Pietra Vecchia</h2>,\n",
       " <h2 class=\"a-size-medium a-color-null s-inline s-access-title a-text-normal\">FOO FIGHTERS Heavy Metal Rock Punk Band Logo Music Patch Sew Iron on Embroidered Badge Sign Costume Gift</h2>,\n",
       " <h2 class=\"a-size-medium a-color-null s-inline s-access-title a-text-normal\">Everlong</h2>,\n",
       " <h2 class=\"a-size-medium a-color-null s-inline s-access-title a-text-normal\">Dave Grohl Foo Fighters Nirvana Live With Clear Guitar 8x10 Photo</h2>,\n",
       " <h2 class=\"a-size-medium a-color-null s-inline s-access-title a-text-normal\">T-Shirt - Foo Fighters - Winged Wheel - MB-A4-LL - LARGE - CID</h2>,\n",
       " <h2 class=\"a-size-medium a-color-null s-inline s-access-title a-text-normal\">LMFAO Red Foo Wig</h2>,\n",
       " <h2 class=\"a-size-medium a-color-null s-inline s-access-title a-text-normal\">Foojoy Chinese Jasmine Green Tea - 100 Tea Bags</h2>,\n",
       " <h2 class=\"a-size-medium a-color-null s-inline s-access-title a-text-normal\">School Specialty Little Bunny Foo Foo Book Read-Along Set</h2>]"
      ]
     },
     "execution_count": 15,
     "metadata": {},
     "output_type": "execute_result"
    }
   ],
   "source": [
    "s"
   ]
  },
  {
   "cell_type": "code",
   "execution_count": 17,
   "metadata": {
    "collapsed": false
   },
   "outputs": [
    {
     "data": {
      "text/plain": [
       "u'Foo Fighters american rock Wall Graphic Decal Sticker 22\" x 22\"'"
      ]
     },
     "execution_count": 17,
     "metadata": {},
     "output_type": "execute_result"
    }
   ],
   "source": [
    "s[0].text"
   ]
  },
  {
   "cell_type": "code",
   "execution_count": 19,
   "metadata": {
    "collapsed": false
   },
   "outputs": [
    {
     "data": {
      "text/plain": [
       "[<li class=\"s-result-item\" data-asin=\"B00EMLBIZ4\" id=\"result_16\"><div class=\"s-item-container\"><div class=\"a-fixed-left-grid\"><div class=\"a-fixed-left-grid-inner\" style=\"padding-left:160px\"><div class=\"a-fixed-left-grid-col a-col-left\" style=\"width:160px;margin-left:-160px;_margin-left:-80px;float:left;\"><div class=\"a-row\"><div class=\"a-column a-span12 a-text-center\"><a class=\"a-link-normal a-text-normal\" href=\"http://www.amazon.com/Fighters-american-Graphic-Decal-Sticker/dp/B00EMLBIZ4\"><img alt=\"Product Details\" class=\"s-access-image cfMarker\" height=\"160\" onload=\"viewCompleteImageLoaded(this, new Date().getTime(), 16, false);\" src=\"http://ecx.images-amazon.com/images/I/51oT2RPBzdL._AA160_.jpg\" width=\"160\"/></a></div></div></div><div class=\"a-fixed-left-grid-col a-col-right\" style=\"padding-left:2%;*width:97.6%;float:left;\"><div class=\"a-row a-spacing-small\"><a class=\"a-link-normal s-access-detail-page a-text-normal\" href=\"http://www.amazon.com/Fighters-american-Graphic-Decal-Sticker/dp/B00EMLBIZ4\" title='Foo Fighters american rock Wall Graphic Decal Sticker 22\" x 22\"'><h2 class=\"a-size-medium a-color-null s-inline s-access-title a-text-normal\">Foo Fighters american rock Wall Graphic Decal Sticker 22\" x 22\"</h2></a><div class=\"a-row a-spacing-none\"><span class=\"a-size-small a-color-secondary\">by </span><span class=\"a-size-small a-color-secondary\">Sticky Pig</span></div></div><div class=\"a-row\"><div class=\"a-column a-span7\"><div class=\"a-row a-spacing-none\"><a class=\"a-link-normal a-text-normal\" href=\"http://www.amazon.com/Fighters-american-Graphic-Decal-Sticker/dp/B00EMLBIZ4\"><span class=\"a-size-base a-color-price s-price a-text-bold\">$23.90</span></a></div><div class=\"a-row a-spacing-mini\"><div class=\"a-row a-spacing-none\"><div class=\"a-row a-spacing-mini\"></div><span class=\"a-size-small a-color-secondary\">More Buying Choices</span></div><div class=\"a-row a-spacing-none\"><a class=\"a-size-small a-link-normal a-text-normal\" href=\"http://www.amazon.com/gp/offer-listing/B00EMLBIZ4\"><span class=\"a-size-base a-color-price a-text-bold\">$23.90</span><span class=\"a-letter-space\"></span>new<span class=\"a-letter-space\"></span><span class=\"a-color-secondary\">(2 offers)</span><span class=\"a-letter-space\"></span><span class=\"a-color-secondary a-text-strike\"></span></a></div></div></div><div class=\"a-column a-span5 a-span-last\"><div class=\"a-row a-spacing-mini\"><span name=\"B00EMLBIZ4\">\n",
       " <span class=\"a-declarative\" data-a-popover='{\"position\":\"triggerBottom\",\"max-width\":\"700\",\"closeButton\":\"false\",\"url\":\"/review/widgets/average-customer-review/popover/ref=acr_search__popover?ie=UTF8&amp;asin=B00EMLBIZ4&amp;contextId=search&amp;ref=acr_search__popover\"}' data-action=\"a-popover\"><a class=\"a-popover-trigger a-declarative\" href=\"javascript:void(0)\"><i class=\"a-icon a-icon-star a-star-5\"><span class=\"a-icon-alt\">5 out of 5 stars</span></i><i class=\"a-icon a-icon-popover\"></i></a></span></span>\n",
       " <a class=\"a-size-small a-link-normal a-text-normal\" href=\"http://www.amazon.com/Fighters-american-Graphic-Decal-Sticker/dp/B00EMLBIZ4#customerReviews\">2</a></div><div class=\"a-row a-spacing-mini\"><div class=\"a-row a-spacing-none\"><span class=\"a-size-small a-color-secondary\">FREE Shipping</span></div></div><div class=\"a-row a-spacing-mini\"><div class=\"a-row a-spacing-mini\"><a class=\"a-size-small a-link-normal a-text-normal\" href=\"/s?ie=UTF8&amp;page=1&amp;rh=i%3Atools%2Ck%3Afoo\"><span class=\"a-text-bold\">Tools &amp; Home Improvement:</span><span class=\"a-letter-space\"></span>See all 173 items</a></div></div></div></div></div></div></div></div></li>,\n",
       " <li class=\"s-result-item\" data-asin=\"B00OBC3W5S\" id=\"result_17\"><div class=\"s-item-container\"><div class=\"a-fixed-left-grid\"><div class=\"a-fixed-left-grid-inner\" style=\"padding-left:160px\"><div class=\"a-fixed-left-grid-col a-col-left\" style=\"width:160px;margin-left:-160px;_margin-left:-80px;float:left;\"><div class=\"a-row\"><div class=\"a-column a-span12 a-text-center\"><a class=\"a-link-normal a-text-normal\" href=\"http://www.amazon.com/Fighters-Black-White-Photoshoot-iPhone/dp/B00OBC3W5S\"><img alt=\"Product Details\" class=\"s-access-image cfMarker\" height=\"160\" onload=\"viewCompleteImageLoaded(this, new Date().getTime(), 16, false);\" src=\"http://ecx.images-amazon.com/images/I/41DjymrbObL._AA160_.jpg\" width=\"160\"/></a></div></div></div><div class=\"a-fixed-left-grid-col a-col-right\" style=\"padding-left:2%;*width:97.6%;float:left;\"><div class=\"a-row a-spacing-small\"><a class=\"a-link-normal s-access-detail-page a-text-normal\" href=\"http://www.amazon.com/Fighters-Black-White-Photoshoot-iPhone/dp/B00OBC3W5S\" title=\"Foo Fighters Black and White Band Photoshoot case for iPhone 5C\"><h2 class=\"a-size-medium a-color-null s-inline s-access-title a-text-normal\">Foo Fighters Black and White Band Photoshoot case for iPhone 5C</h2></a><div class=\"a-row a-spacing-none\"><span class=\"a-size-small a-color-secondary\">by </span><span class=\"a-size-small a-color-secondary\">Micro Gorilla</span></div></div><div class=\"a-row\"><div class=\"a-column a-span7\"><div class=\"a-row a-spacing-none\"><a class=\"a-link-normal a-text-normal\" href=\"http://www.amazon.com/Fighters-Black-White-Photoshoot-iPhone/dp/B00OBC3W5S\"><span class=\"a-size-base a-color-price s-price a-text-bold\">$12.60</span></a></div><div class=\"a-row a-spacing-mini\"><div class=\"a-row a-spacing-none\"><div class=\"a-row a-spacing-mini\"></div><span class=\"a-size-small a-color-secondary\">More Buying Choices</span></div><div class=\"a-row a-spacing-none\"><a class=\"a-size-small a-link-normal a-text-normal\" href=\"http://www.amazon.com/gp/offer-listing/B00OBC3W5S\"><span class=\"a-size-base a-color-price a-text-bold\">$12.60</span><span class=\"a-letter-space\"></span>new<span class=\"a-letter-space\"></span><span class=\"a-color-secondary\">(2 offers)</span><span class=\"a-letter-space\"></span><span class=\"a-color-secondary a-text-strike\"></span></a></div></div></div><div class=\"a-column a-span5 a-span-last\"><div class=\"a-row a-spacing-mini\"><div class=\"a-row a-spacing-mini\"><a class=\"a-size-small a-link-normal a-text-normal\" href=\"/s?ie=UTF8&amp;page=1&amp;rh=i%3Aelectronics%2Ck%3Afoo\"><span class=\"a-text-bold\">Electronics:</span><span class=\"a-letter-space\"></span>See all 2,922 items</a></div></div></div></div></div></div></div></div></li>,\n",
       " <li class=\"s-result-item\" data-asin=\"B000Q8K6Y6\" id=\"result_18\"><div class=\"s-item-container\"><div class=\"a-fixed-left-grid\"><div class=\"a-fixed-left-grid-inner\" style=\"padding-left:160px\"><div class=\"a-fixed-left-grid-col a-col-left\" style=\"width:160px;margin-left:-160px;_margin-left:-80px;float:left;\"><div class=\"a-row\"><div class=\"a-column a-span12 a-text-center\"><a class=\"a-link-normal a-text-normal\" href=\"http://www.amazon.com/Licenses-Products-Fighters-Oval-Sticker/dp/B000Q8K6Y6\"><img alt=\"Product Details\" class=\"s-access-image cfMarker\" height=\"160\" onload=\"viewCompleteImageLoaded(this, new Date().getTime(), 16, false);\" src=\"http://ecx.images-amazon.com/images/I/415F1E3BUUL._AA160_.jpg\" width=\"160\"/></a></div></div></div><div class=\"a-fixed-left-grid-col a-col-right\" style=\"padding-left:2%;*width:97.6%;float:left;\"><div class=\"a-row a-spacing-small\"><a class=\"a-link-normal s-access-detail-page a-text-normal\" href=\"http://www.amazon.com/Licenses-Products-Fighters-Oval-Sticker/dp/B000Q8K6Y6\" title=\"Licenses Products Foo Fighters Oval Logo Sticker\"><h2 class=\"a-size-medium a-color-null s-inline s-access-title a-text-normal\">Licenses Products Foo Fighters Oval Logo Sticker</h2></a><div class=\"a-row a-spacing-none\"><span class=\"a-size-small a-color-secondary\">by </span><span class=\"a-size-small a-color-secondary\">Licenses Products</span></div></div><div class=\"a-row\"><div class=\"a-column a-span7\"><div class=\"a-row a-spacing-none\"><a class=\"a-link-normal a-text-normal\" href=\"http://www.amazon.com/Licenses-Products-Fighters-Oval-Sticker/dp/B000Q8K6Y6\"><span class=\"a-size-base a-color-price s-price a-text-bold\">$4.99</span></a><span class=\"a-letter-space\"></span><i class=\"a-icon a-icon-addon s-addon-small\"><span class=\"a-icon-alt\">Ships with any qualifying order over $25.</span>Add-on Item</i></div><div class=\"a-row a-spacing-mini\"><div class=\"a-row a-spacing-none\"><span class=\"a-size-small a-color-secondary\">Add to a qualifying order to get it by <span class=\"a-color-success a-text-bold\">Tuesday, Apr 28</span>.</span></div></div><div class=\"a-row a-spacing-mini\"><div class=\"a-row a-spacing-none\"><div class=\"a-row a-spacing-mini\"></div><span class=\"a-size-small a-color-secondary\">More Buying Choices</span></div><div class=\"a-row a-spacing-none\"><a class=\"a-size-small a-link-normal a-text-normal\" href=\"http://www.amazon.com/gp/offer-listing/B000Q8K6Y6\"><span class=\"a-size-base a-color-price a-text-bold\">$1.49</span><span class=\"a-letter-space\"></span>new<span class=\"a-letter-space\"></span><span class=\"a-color-secondary\">(4 offers)</span><span class=\"a-letter-space\"></span><span class=\"a-color-secondary a-text-strike\"></span></a></div></div></div><div class=\"a-column a-span5 a-span-last\"><div class=\"a-row a-spacing-mini\"><span name=\"B000Q8K6Y6\">\n",
       " <span class=\"a-declarative\" data-a-popover='{\"position\":\"triggerBottom\",\"max-width\":\"700\",\"closeButton\":\"false\",\"url\":\"/review/widgets/average-customer-review/popover/ref=acr_search__popover?ie=UTF8&amp;asin=B000Q8K6Y6&amp;contextId=search&amp;ref=acr_search__popover\"}' data-action=\"a-popover\"><a class=\"a-popover-trigger a-declarative\" href=\"javascript:void(0)\"><i class=\"a-icon a-icon-star a-star-4\"><span class=\"a-icon-alt\">4 out of 5 stars</span></i><i class=\"a-icon a-icon-popover\"></i></a></span></span>\n",
       " <a class=\"a-size-small a-link-normal a-text-normal\" href=\"http://www.amazon.com/Licenses-Products-Fighters-Oval-Sticker/dp/B000Q8K6Y6#customerReviews\">2</a></div><div class=\"a-row a-spacing-mini\"><div class=\"a-row a-spacing-none\"><span class=\"a-size-small a-color-secondary\">FREE Shipping on orders over $35</span></div></div><div class=\"a-row a-spacing-mini\"><span class=\"a-size-small a-color-secondary\">Manufacturer recommended age: 4 - 15 Years</span></div><div class=\"a-row a-spacing-mini\"><span class=\"a-size-small a-color-secondary a-text-bold\">Product Description</span><br/><span class=\"a-size-small a-color-secondary\">... merchandise and original artworks. <em>Foo</em> Fighters - Oval Logo Sticker. ...</span></div><div class=\"a-row a-spacing-mini\"><div class=\"a-row a-spacing-mini\"><a class=\"a-size-small a-link-normal a-text-normal\" href=\"/s?ie=UTF8&amp;page=1&amp;rh=i%3Atoys-and-games%2Ck%3Afoo\"><span class=\"a-text-bold\">Toys &amp; Games:</span><span class=\"a-letter-space\"></span>See all 225 items</a></div></div></div></div></div></div></div></div></li>,\n",
       " <li class=\"s-result-item\" data-asin=\"B001M65OES\" id=\"result_19\"><div class=\"s-item-container\"><div class=\"a-fixed-left-grid\"><div class=\"a-fixed-left-grid-inner\" style=\"padding-left:160px\"><div class=\"a-fixed-left-grid-col a-col-left\" style=\"width:160px;margin-left:-160px;_margin-left:-80px;float:left;\"><div class=\"a-row\"><div class=\"a-column a-span12 a-text-center\"><a class=\"a-link-normal a-text-normal\" href=\"http://www.amazon.com/Fabulous-Hong-Tze-Collection-Beijing-Dogs/dp/B001M65OES\"><img alt=\"Product Details\" class=\"s-access-image cfMarker\" height=\"160\" onload=\"viewCompleteImageLoaded(this, new Date().getTime(), 16, false);\" src=\"http://ecx.images-amazon.com/images/I/51bTeDylg9L._AA160_.jpg\" width=\"160\"/></a></div></div></div><div class=\"a-fixed-left-grid-col a-col-right\" style=\"padding-left:2%;*width:97.6%;float:left;\"><div class=\"a-row a-spacing-small\"><a class=\"a-link-normal s-access-detail-page a-text-normal\" href=\"http://www.amazon.com/Fabulous-Hong-Tze-Collection-Beijing-Dogs/dp/B001M65OES\" title=\"Fabulous Hong Tze Collection-Beijing Foo Dogs SM\"><h2 class=\"a-size-medium a-color-null s-inline s-access-title a-text-normal\">Fabulous Hong Tze Collection-Beijing Foo Dogs SM</h2></a><div class=\"a-row a-spacing-none\"><span class=\"a-size-small a-color-secondary\">by </span><span class=\"a-size-small a-color-secondary\">Asian Home</span></div></div><div class=\"a-row\"><div class=\"a-column a-span7\"><div class=\"a-row a-spacing-none\"><a class=\"a-link-normal a-text-normal\" href=\"http://www.amazon.com/Fabulous-Hong-Tze-Collection-Beijing-Dogs/dp/B001M65OES\"><span class=\"a-size-base a-color-price s-price a-text-bold\">$12.33</span></a><span class=\"a-letter-space\"></span><span class=\"a-size-small a-color-secondary a-text-strike\">$19.00</span><span class=\"a-letter-space\"></span><i class=\"a-icon a-icon-prime a-icon-small s-align-text-bottom\"></i></div><div class=\"a-row a-spacing-mini\"><div class=\"a-row a-spacing-none\"><span class=\"a-size-small a-color-secondary\">Get it by <span class=\"a-color-success a-text-bold\">Tuesday, Apr 28</span></span></div></div><div class=\"a-row a-spacing-mini\"><div class=\"a-row a-spacing-none\"><div class=\"a-row a-spacing-mini\"></div><span class=\"a-size-small a-color-secondary\">More Buying Choices</span></div><div class=\"a-row a-spacing-none\"><a class=\"a-size-small a-link-normal a-text-normal\" href=\"http://www.amazon.com/gp/offer-listing/B001M65OES\"><span class=\"a-size-base a-color-price a-text-bold\">$5.75</span><span class=\"a-letter-space\"></span>new<span class=\"a-letter-space\"></span><span class=\"a-color-secondary\">(6 offers)</span><span class=\"a-letter-space\"></span><span class=\"a-color-secondary a-text-strike\"></span></a></div></div></div><div class=\"a-column a-span5 a-span-last\"><div class=\"a-row a-spacing-mini\"><span name=\"B001M65OES\">\n",
       " <span class=\"a-declarative\" data-a-popover='{\"position\":\"triggerBottom\",\"max-width\":\"700\",\"closeButton\":\"false\",\"url\":\"/review/widgets/average-customer-review/popover/ref=acr_search__popover?ie=UTF8&amp;asin=B001M65OES&amp;contextId=search&amp;ref=acr_search__popover\"}' data-action=\"a-popover\"><a class=\"a-popover-trigger a-declarative\" href=\"javascript:void(0)\"><i class=\"a-icon a-icon-star a-star-4\"><span class=\"a-icon-alt\">3.8 out of 5 stars</span></i><i class=\"a-icon a-icon-popover\"></i></a></span></span>\n",
       " <a class=\"a-size-small a-link-normal a-text-normal\" href=\"http://www.amazon.com/Fabulous-Hong-Tze-Collection-Beijing-Dogs/dp/B001M65OES#customerReviews\">65</a></div><div class=\"a-row a-spacing-mini\"><div class=\"a-row a-spacing-none\"><span class=\"a-size-small a-color-secondary\">FREE Shipping on orders over $35</span></div></div><div class=\"a-row a-spacing-mini\"><span class=\"a-size-small a-color-secondary a-text-bold\">Product Features</span><br/><span class=\"a-size-small a-color-secondary\">Hong Tze (Red Stone) Collection-- <em>Foo</em> Dogs Small</span></div><div class=\"a-row a-spacing-mini\"><div class=\"a-row a-spacing-mini\"><a class=\"a-size-small a-link-normal a-text-normal\" href=\"/s?ie=UTF8&amp;page=1&amp;rh=i%3Agarden%2Ck%3Afoo\"><span class=\"a-text-bold\">Home &amp; Kitchen:</span><span class=\"a-letter-space\"></span>See all 1,549 items</a></div></div></div></div></div></div></div></div></li>,\n",
       " <li class=\"s-result-item\" data-asin=\"B000020617\" id=\"result_20\"><div class=\"s-item-container\"><div class=\"a-fixed-left-grid\"><div class=\"a-fixed-left-grid-inner\" style=\"padding-left:160px\"><div class=\"a-fixed-left-grid-col a-col-left\" style=\"width:160px;margin-left:-160px;_margin-left:-80px;float:left;\"><div class=\"a-row\"><div class=\"a-column a-span12 a-text-center\"><a class=\"a-link-normal a-text-normal\" href=\"http://www.amazon.com/There-Nothing-Left-Lose-FIGHTERS/dp/B000020617\"><img alt=\"Product Details\" class=\"s-access-image cfMarker\" height=\"160\" onload=\"viewCompleteImageLoaded(this, new Date().getTime(), 16, false);\" src=\"http://ecx.images-amazon.com/images/I/51zqVvPHQJL._AA160_.jpg\" width=\"160\"/></a></div></div></div><div class=\"a-fixed-left-grid-col a-col-right\" style=\"padding-left:2%;*width:97.6%;float:left;\"><div class=\"a-row a-spacing-small\"><a class=\"a-link-normal s-access-detail-page a-text-normal\" href=\"http://www.amazon.com/There-Nothing-Left-Lose-FIGHTERS/dp/B000020617\" title=\"There Is Nothing Left to Lose\"><h2 class=\"a-size-medium a-color-null s-inline s-access-title a-text-normal\">There Is Nothing Left to Lose</h2></a><span class=\"a-letter-space\"></span><span class=\"a-letter-space\"></span><span class=\"a-size-small a-color-secondary\">Nov 2, 1999</span><div class=\"a-row a-spacing-none\"><span class=\"a-size-small a-color-secondary\">by </span><span class=\"a-size-small a-color-secondary\"><a class=\"a-link-normal a-text-normal\" href=\"/Foo-Fighters/e/B000APXRDM/ref=sr_ntt_srch_lnk_21?qid=1430144333&amp;sr=8-21\">Foo Fighters</a></span></div></div><div class=\"a-row\"><div class=\"a-column a-span7\"><div class=\"a-row a-spacing-none\"><a class=\"a-link-normal a-text-normal\" href=\"http://www.amazon.com/There-Nothing-Left-Lose-FIGHTERS/dp/B000020617\" title=\"Audio CD\"><h3 class=\"a-size-small a-color-null s-inline a-text-normal\">Audio CD</h3></a></div><div class=\"a-row a-spacing-none\"><a class=\"a-link-normal a-text-normal\" href=\"http://www.amazon.com/There-Nothing-Left-Lose-FIGHTERS/dp/B000020617\"><span class=\"a-size-base a-color-price s-price a-text-bold\">$8.99</span></a><span class=\"a-letter-space\"></span><i class=\"a-icon a-icon-prime a-icon-small s-align-text-bottom\"></i></div><div class=\"a-row a-spacing-none\"><span class=\"a-size-small a-color-secondary\">Get it by <span class=\"a-color-success a-text-bold\">Tuesday, Apr 28</span></span></div><div class=\"a-row a-spacing-top-mini a-spacing-mini\"><div class=\"a-row a-spacing-none\"><span class=\"a-size-small a-color-secondary\">More Buying Choices</span></div><div class=\"a-row a-spacing-none\"><a class=\"a-size-small a-link-normal a-text-normal\" href=\"http://www.amazon.com/gp/offer-listing/B000020617\"><span class=\"a-size-base a-color-price a-text-bold\">$0.01</span><span class=\"a-letter-space\"></span>used &amp; new<span class=\"a-letter-space\"></span><span class=\"a-color-secondary\">(195 offers)</span><span class=\"a-letter-space\"></span><span class=\"a-color-secondary a-text-strike\"></span></a></div></div></div><div class=\"a-column a-span5 a-span-last\"><div class=\"a-row a-spacing-mini\"><span name=\"B000020617\">\n",
       " <span class=\"a-declarative\" data-a-popover='{\"position\":\"triggerBottom\",\"max-width\":\"700\",\"closeButton\":\"false\",\"url\":\"/review/widgets/average-customer-review/popover/ref=acr_search__popover?ie=UTF8&amp;asin=B000020617&amp;contextId=search&amp;ref=acr_search__popover\"}' data-action=\"a-popover\"><a class=\"a-popover-trigger a-declarative\" href=\"javascript:void(0)\"><i class=\"a-icon a-icon-star a-star-4-5\"><span class=\"a-icon-alt\">4.3 out of 5 stars</span></i><i class=\"a-icon a-icon-popover\"></i></a></span></span>\n",
       " <a class=\"a-size-small a-link-normal a-text-normal\" href=\"http://www.amazon.com/There-Nothing-Left-Lose-FIGHTERS/dp/B000020617#customerReviews\">391</a></div><div class=\"a-row a-spacing-mini\"><div class=\"a-row a-spacing-none\"><div class=\"a-popover-preload\" id=\"a-popover-B000020617\"><ul class=\"a-vertical\"><li><span class=\"a-list-item\">FREE Shipping on orders over $35</span></li><li><span class=\"a-list-item\">Includes FREE MP3 version of this album</span></li></ul><a class=\"a-size-small a-link-normal a-text-normal\" href=\"http://www.amazon.com/There-Nothing-Left-Lose-FIGHTERS/dp/B000020617#productPromotions\">See Details</a></div><span class=\"a-size-small a-color-secondary\"><i class=\"a-icon a-icon-autorip\"></i><span class=\"a-letter-space\"></span><span class=\"a-color-secondary\">eligible</span> and <span class=\"a-declarative\" data-a-popover='{\"position\":\"triggerBottom\",\"name\":\"B000020617\"}' data-action=\"a-popover\"><a class=\"a-popover-trigger a-declarative a-text-normal\" href=\"javascript:void(0)\">2 more promotions<i class=\"a-icon a-icon-popover\"></i></a></span></span></div><div class=\"a-row a-spacing-none\"><span class=\"a-size-small a-color-secondary\">FREE Shipping on orders over $35</span></div></div><div class=\"a-row a-spacing-mini\"><div class=\"a-row a-spacing-mini\"><a class=\"a-size-small a-link-normal a-text-normal\" href=\"/s?ie=UTF8&amp;page=1&amp;rh=i%3Apopular%2Ck%3Afoo\"><span class=\"a-text-bold\">CDs &amp; Vinyl:</span><span class=\"a-letter-space\"></span>See all 557 items</a></div></div></div></div></div></div></div></div></li>,\n",
       " <li class=\"s-result-item\" data-asin=\"B00ATJISQU\" id=\"result_21\"><div class=\"s-item-container\"><div class=\"a-fixed-left-grid\"><div class=\"a-fixed-left-grid-inner\" style=\"padding-left:160px\"><div class=\"a-fixed-left-grid-col a-col-left\" style=\"width:160px;margin-left:-160px;_margin-left:-80px;float:left;\"><div class=\"a-row\"><div class=\"a-column a-span12 a-text-center\"><a class=\"a-link-normal a-text-normal\" href=\"http://www.amazon.com/Natures-Specialties-Lavender-Cologne-8-Ounce/dp/B00ATJISQU\"><img alt=\"Product Details\" class=\"s-access-image cfMarker\" height=\"160\" onload=\"viewCompleteImageLoaded(this, new Date().getTime(), 16, false);\" src=\"http://ecx.images-amazon.com/images/I/31yfBE1SrPL._AA160_.jpg\" width=\"160\"/></a></div></div></div><div class=\"a-fixed-left-grid-col a-col-right\" style=\"padding-left:2%;*width:97.6%;float:left;\"><div class=\"a-row a-spacing-small\"><a class=\"a-link-normal s-access-detail-page a-text-normal\" href=\"http://www.amazon.com/Natures-Specialties-Lavender-Cologne-8-Ounce/dp/B00ATJISQU\" title=\"Nature's Specialties Foo Foo Mystic Lavender Pet Cologne, 8-Ounce\"><h2 class=\"a-size-medium a-color-null s-inline s-access-title a-text-normal\">Nature's Specialties Foo Foo Mystic Lavender Pet Cologne, 8-Ounce</h2></a><div class=\"a-row a-spacing-none\"><span class=\"a-size-small a-color-secondary\">by </span><span class=\"a-size-small a-color-secondary\">Nature's Specialties</span></div></div><div class=\"a-row\"><div class=\"a-column a-span7\"><div class=\"a-row a-spacing-none\"><a class=\"a-link-normal a-text-normal\" href=\"http://www.amazon.com/Natures-Specialties-Lavender-Cologne-8-Ounce/dp/B00ATJISQU\"><span class=\"a-size-base a-color-price s-price a-text-bold\">$12.00</span></a><span class=\"a-letter-space\"></span><i class=\"a-icon a-icon-prime a-icon-small s-align-text-bottom\"></i></div><div class=\"a-row a-spacing-mini\"><div class=\"a-row a-spacing-none\"><span class=\"a-size-small a-color-price\">Only 8 left in stock - order soon.</span></div></div></div><div class=\"a-column a-span5 a-span-last\"><div class=\"a-row a-spacing-mini\"><div class=\"a-row a-spacing-none\"><span class=\"a-size-small a-color-secondary\">FREE Shipping on orders over $35</span></div></div><div class=\"a-row a-spacing-mini\"><span class=\"a-size-small a-color-secondary a-text-bold\">Product Description</span><br/><span class=\"a-size-small a-color-secondary\">... Nature's Specialties shampoos.  <em>Foo : </em> ATM,   BTM,   GTM,   Baby ...</span></div><div class=\"a-row a-spacing-mini\"><div class=\"a-row a-spacing-mini\"><a class=\"a-size-small a-link-normal a-text-normal\" href=\"/s?ie=UTF8&amp;page=1&amp;rh=i%3Apets%2Ck%3Afoo\"><span class=\"a-text-bold\">Pet Supplies:</span><span class=\"a-letter-space\"></span>See all 450 items</a></div></div></div></div></div></div></div></div></li>,\n",
       " <li class=\"s-result-item\" data-asin=\"B00MSU6KMC\" id=\"result_22\"><div class=\"s-item-container\"><div class=\"a-fixed-left-grid\"><div class=\"a-fixed-left-grid-inner\" style=\"padding-left:160px\"><div class=\"a-fixed-left-grid-col a-col-left\" style=\"width:160px;margin-left:-160px;_margin-left:-80px;float:left;\"><div class=\"a-row\"><div class=\"a-column a-span12 a-text-center\"><a class=\"a-link-normal a-text-normal\" href=\"http://www.amazon.com/PUNK-HEAVY-METAL-MUSIC-PATCH/dp/B00MSU6KMC\"><img alt=\"Product Details\" class=\"s-access-image cfMarker\" height=\"160\" onload=\"viewCompleteImageLoaded(this, new Date().getTime(), 16, false);\" src=\"http://ecx.images-amazon.com/images/I/41P4Kg-2xuL._AA160_.jpg\" width=\"160\"/></a></div></div></div><div class=\"a-fixed-left-grid-col a-col-right\" style=\"padding-left:2%;*width:97.6%;float:left;\"><div class=\"a-row a-spacing-small\"><a class=\"a-link-normal s-access-detail-page a-text-normal\" href=\"http://www.amazon.com/PUNK-HEAVY-METAL-MUSIC-PATCH/dp/B00MSU6KMC\" title=\"PUNK ROCK HEAVY METAL MUSIC SEW ON / IRON ON PATCH:- FOO FIGHTERS DAVE GROHL\"><h2 class=\"a-size-medium a-color-null s-inline s-access-title a-text-normal\">PUNK ROCK HEAVY METAL MUSIC SEW ON / IRON ON PATCH:- FOO FIGHTERS DAVE GROHL</h2></a><div class=\"a-row a-spacing-none\"><span class=\"a-size-small a-color-secondary\">by </span><span class=\"a-size-small a-color-secondary\">TOP SET</span></div></div><div class=\"a-row\"><div class=\"a-column a-span7\"><div class=\"a-row a-spacing-none\"><a class=\"a-link-normal a-text-normal\" href=\"http://www.amazon.com/PUNK-HEAVY-METAL-MUSIC-PATCH/dp/B00MSU6KMC\"><span class=\"a-size-base a-color-price s-price a-text-bold\">$6.00</span></a></div><div class=\"a-row a-spacing-mini\"><div class=\"a-row a-spacing-none\"><div class=\"a-row a-spacing-mini\"></div><span class=\"a-size-small a-color-secondary\">More Buying Choices</span></div><div class=\"a-row a-spacing-none\"><a class=\"a-size-small a-link-normal a-text-normal\" href=\"http://www.amazon.com/gp/offer-listing/B00MSU6KMC\"><span class=\"a-size-base a-color-price a-text-bold\">$6.00</span><span class=\"a-letter-space\"></span>new<span class=\"a-letter-space\"></span><span class=\"a-color-secondary\">(2 offers)</span><span class=\"a-letter-space\"></span><span class=\"a-color-secondary a-text-strike\"></span></a></div></div></div><div class=\"a-column a-span5 a-span-last\"><div class=\"a-row a-spacing-mini\"><div class=\"a-row a-spacing-none\"><span class=\"a-size-small a-color-secondary\">FREE Shipping</span></div></div><div class=\"a-row a-spacing-mini\"><div class=\"a-row a-spacing-mini\"><a class=\"a-size-small a-link-normal a-text-normal\" href=\"/s?ie=UTF8&amp;page=1&amp;rh=i%3Aappliances%2Ck%3Afoo\"><span class=\"a-text-bold\">Appliances:</span><span class=\"a-letter-space\"></span>See all 17 items</a></div></div></div></div></div></div></div></div></li>,\n",
       " <li class=\"s-result-item\" data-asin=\"B00VXW6BR0\" id=\"result_23\"><div class=\"s-item-container\"><div class=\"a-fixed-left-grid\"><div class=\"a-fixed-left-grid-inner\" style=\"padding-left:160px\"><div class=\"a-fixed-left-grid-col a-col-left\" style=\"width:160px;margin-left:-160px;_margin-left:-80px;float:left;\"><div class=\"a-row\"><div class=\"a-column a-span12 a-text-center\"><a class=\"a-link-normal a-text-normal\" href=\"http://www.amazon.com/Episode-1-Chicago-Something-Nothing-HD/dp/B00VXW6ZCQ\"><img alt=\"Product Details\" class=\"s-access-image cfMarker\" height=\"160\" onload=\"viewCompleteImageLoaded(this, new Date().getTime(), 16, false);\" src=\"http://ecx.images-amazon.com/images/I/519yDgjStXL._PI_PJStripe-HD-Only-500px,TopLeft,0,0_AA160_.jpg\" width=\"160\"/></a></div></div></div><div class=\"a-fixed-left-grid-col a-col-right\" style=\"padding-left:2%;*width:97.6%;float:left;\"><div class=\"a-row a-spacing-small\"><a class=\"a-link-normal s-access-detail-page a-text-normal\" href=\"http://www.amazon.com/Episode-1-Chicago-Something-Nothing-HD/dp/B00VXW6ZCQ\" title=\"Episode 1-Chicago: Something From Nothing [HD]\"><h2 class=\"a-size-medium a-color-null s-inline s-access-title a-text-normal\">Episode 1-Chicago: Something From Nothing [HD]</h2></a><span class=\"a-letter-space\"></span><span class=\"a-letter-space\"></span><span class=\"a-size-small a-color-secondary\">2014</span><span class=\"a-letter-space\"></span><div class=\"a-box a-box-thumbnail\"><div class=\"a-box-inner\"><span class=\"a-letter-space\"></span><span class=\"a-size-small a-color-secondary\">CC</span><span class=\"a-letter-space\"></span></div></div></div><div class=\"a-row\"><div class=\"a-column a-span7\"><div class=\"a-row a-spacing-none\"><a class=\"a-link-normal a-text-normal\" href=\"http://www.amazon.com/Episode-1-Chicago-Something-Nothing-HD/dp/B00VXW6BR0\" title=\"Shop Instant Video\"><h3 class=\"a-size-small a-color-null s-inline a-text-normal\">Shop Instant Video</h3></a></div><div class=\"a-row a-spacing-none\"><a class=\"a-link-normal a-text-normal\" href=\"http://www.amazon.com/Episode-1-Chicago-Something-Nothing-HD/dp/B00VXW6BR0\"><span class=\"a-size-base a-color-price s-price a-text-bold\">$2.99</span></a></div><div class=\"a-row a-spacing-mini\"><span class=\"a-size-small a-color-secondary\">Buy episodes</span><br/></div><div class=\"a-row a-spacing-mini\"><span class=\"a-size-small a-color-secondary\">Watch <span class=\"a-color-success a-text-bold\">instantly</span> on your PS3, Xbox, Kindle Fire, iPad, PC and other devices.</span></div></div><div class=\"a-column a-span5 a-span-last\"><div class=\"a-row a-spacing-mini\"><span name=\"B00VXW6BR0\">\n",
       " <span class=\"a-declarative\" data-a-popover='{\"position\":\"triggerBottom\",\"max-width\":\"700\",\"closeButton\":\"false\",\"url\":\"/review/widgets/average-customer-review/popover/ref=acr_search__popover?ie=UTF8&amp;asin=B00VXW6BR0&amp;contextId=search&amp;ref=acr_search__popover\"}' data-action=\"a-popover\"><a class=\"a-popover-trigger a-declarative\" href=\"javascript:void(0)\"><i class=\"a-icon a-icon-star a-star-5\"><span class=\"a-icon-alt\">5 out of 5 stars</span></i><i class=\"a-icon a-icon-popover\"></i></a></span></span>\n",
       " <a class=\"a-size-small a-link-normal a-text-normal\" href=\"http://www.amazon.com/Episode-1-Chicago-Something-Nothing-HD/dp/B00VXW6BR0#customerReviews\">1</a></div><div class=\"a-fixed-left-grid\"><div class=\"a-fixed-left-grid-inner\" style=\"padding-left:75px\"><div class=\"a-text-left a-fixed-left-grid-col a-col-left\" style=\"width:75px;margin-left:-75px;_margin-left:-37.5px;float:left;\"><span class=\"a-size-small a-color-secondary\">Directed by:</span></div><div class=\"a-text-left a-fixed-left-grid-col a-col-right\" style=\"padding-left:0%;*width:99.6%;float:left;\"><span class=\"a-size-small a-color-secondary\"><a class=\"a-size-small a-link-normal a-text-normal\" href=\"/s?ie=UTF8&amp;page=1&amp;rh=i%3Aaps%2Ck%3ADave%20Grohl\">Dave Grohl</a></span></div></div></div><div class=\"a-row a-spacing-mini\"><div class=\"a-row a-spacing-mini\"><a class=\"a-size-small a-link-normal a-text-normal\" href=\"/s?ie=UTF8&amp;page=1&amp;rh=i%3Ainstant-video%2Ck%3Afoo\"><span class=\"a-text-bold\">Amazon Instant Video:</span><span class=\"a-letter-space\"></span>See all items</a></div></div></div></div></div></div></div></div></li>,\n",
       " <li class=\"s-result-item\" data-asin=\"B00V2HD1F6\" id=\"result_24\"><div class=\"s-item-container\"><div class=\"a-fixed-left-grid\"><div class=\"a-fixed-left-grid-inner\" style=\"padding-left:160px\"><div class=\"a-fixed-left-grid-col a-col-left\" style=\"width:160px;margin-left:-160px;_margin-left:-80px;float:left;\"><div class=\"a-row\"><div class=\"a-column a-span12 a-text-center\"><a class=\"a-link-normal a-text-normal\" href=\"http://www.amazon.com/Piece-Temple-Foo-Statue-Color/dp/B00V2HD1F6\"><img alt=\"Product Details\" class=\"s-access-image cfMarker\" height=\"160\" onload=\"viewCompleteImageLoaded(this, new Date().getTime(), 16, false);\" src=\"http://g-ecx.images-amazon.com/images/G/01/x-site/icons/no-img-sm._V192198896_AA160_.gif\" width=\"160\"/></a></div></div></div><div class=\"a-fixed-left-grid-col a-col-right\" style=\"padding-left:2%;*width:97.6%;float:left;\"><div class=\"a-row a-spacing-small\"><a class=\"a-link-normal s-access-detail-page a-text-normal\" href=\"http://www.amazon.com/Piece-Temple-Foo-Statue-Color/dp/B00V2HD1F6\" title=\"2 Piece Temple Foo Dog Statue Set Color: Pietra Vecchia\"><h2 class=\"a-size-medium a-color-null s-inline s-access-title a-text-normal\">2 Piece Temple Foo Dog Statue Set Color: Pietra Vecchia</h2></a><div class=\"a-row a-spacing-none\"><span class=\"a-size-small a-color-secondary\">by </span><span class=\"a-size-small a-color-secondary\">Campania International</span></div></div><div class=\"a-row\"><div class=\"a-column a-span7\"><div class=\"a-row a-spacing-none\"><a class=\"a-link-normal a-text-normal\" href=\"http://www.amazon.com/Piece-Temple-Foo-Statue-Color/dp/B00V2HD1F6\"><span class=\"a-size-base a-color-price s-price a-text-bold\">$94.99</span></a></div></div><div class=\"a-column a-span5 a-span-last\"><div class=\"a-row a-spacing-mini\"><div class=\"a-row a-spacing-none\"><span class=\"a-size-small a-color-secondary\">FREE Shipping</span></div></div><div class=\"a-row a-spacing-mini\"><div class=\"a-row a-spacing-mini\"><a class=\"a-size-small a-link-normal a-text-normal\" href=\"/s?ie=UTF8&amp;page=1&amp;rh=i%3Alawngarden%2Ck%3Afoo\"><span class=\"a-text-bold\">Patio, Lawn &amp; Garden:</span><span class=\"a-letter-space\"></span>See all 137 items</a></div></div></div></div></div></div></div></div></li>,\n",
       " <li class=\"s-result-item\" data-asin=\"B00S9QTEQS\" id=\"result_25\"><div class=\"s-item-container\"><div class=\"a-fixed-left-grid\"><div class=\"a-fixed-left-grid-inner\" style=\"padding-left:160px\"><div class=\"a-fixed-left-grid-col a-col-left\" style=\"width:160px;margin-left:-160px;_margin-left:-80px;float:left;\"><div class=\"a-row\"><div class=\"a-column a-span12 a-text-center\"><a class=\"a-link-normal a-text-normal\" href=\"http://www.amazon.com/FIGHTERS-Heavy-Metal-Embroidered-Costume/dp/B00S9QTEQS\"><img alt=\"Product Details\" class=\"s-access-image cfMarker\" height=\"160\" onload=\"viewCompleteImageLoaded(this, new Date().getTime(), 16, false);\" src=\"http://ecx.images-amazon.com/images/I/61F6AAVaPyL._AA160_.jpg\" width=\"160\"/></a></div></div></div><div class=\"a-fixed-left-grid-col a-col-right\" style=\"padding-left:2%;*width:97.6%;float:left;\"><div class=\"a-row a-spacing-small\"><a class=\"a-link-normal s-access-detail-page a-text-normal\" href=\"http://www.amazon.com/FIGHTERS-Heavy-Metal-Embroidered-Costume/dp/B00S9QTEQS\" title=\"FOO FIGHTERS Heavy Metal Rock Punk Band Logo Music Patch Sew Iron on Embroidered Badge Sign Costume Gift\"><h2 class=\"a-size-medium a-color-null s-inline s-access-title a-text-normal\">FOO FIGHTERS Heavy Metal Rock Punk Band Logo Music Patch Sew Iron on Embroidered Badge Sign Costume Gift</h2></a><div class=\"a-row a-spacing-none\"><span class=\"a-size-small a-color-secondary\">by </span><span class=\"a-size-small a-color-secondary\">PRINYA MUSIC PATCH</span></div></div><div class=\"a-row\"><div class=\"a-column a-span7\"><div class=\"a-row a-spacing-none\"><a class=\"a-link-normal a-text-normal\" href=\"http://www.amazon.com/FIGHTERS-Heavy-Metal-Embroidered-Costume/dp/B00S9QTEQS\"><span class=\"a-size-base a-color-price s-price a-text-bold\">$5.75</span></a></div></div><div class=\"a-column a-span5 a-span-last\"><div class=\"a-row a-spacing-mini\"><div class=\"a-row a-spacing-mini\"><a class=\"a-size-small a-link-normal a-text-normal\" href=\"/s?ie=UTF8&amp;page=1&amp;rh=i%3Aarts-crafts%2Ck%3Afoo\"><span class=\"a-text-bold\">Arts, Crafts &amp; Sewing:</span><span class=\"a-letter-space\"></span>See all 69 items</a></div></div></div></div></div></div></div></div></li>,\n",
       " <li class=\"s-result-item\" data-asin=\"B002UHP6VO\" id=\"result_26\"><div class=\"s-item-container\"><div class=\"a-fixed-left-grid\"><div class=\"a-fixed-left-grid-inner\" style=\"padding-left:160px\"><div class=\"a-fixed-left-grid-col a-col-left\" style=\"width:160px;margin-left:-160px;_margin-left:-80px;float:left;\"><div class=\"a-row\"><div class=\"a-column a-span12 a-text-center\"><a class=\"a-link-normal a-text-normal\" href=\"http://www.amazon.com/Everlong/dp/B002UHP6VO\"><img alt=\"Product Details\" class=\"s-access-image cfMarker\" height=\"160\" onload=\"viewCompleteImageLoaded(this, new Date().getTime(), 16, false);\" src=\"http://ecx.images-amazon.com/images/I/5181U0UmDkL._SX350_PI_PJStripe-Prime-Only-500px,TopLeft,0,0_AA160_.jpg\" width=\"160\"/></a></div></div></div><div class=\"a-fixed-left-grid-col a-col-right\" style=\"padding-left:2%;*width:97.6%;float:left;\"><div class=\"a-row a-spacing-small\"><a class=\"a-link-normal s-access-detail-page a-text-normal\" href=\"http://www.amazon.com/Everlong/dp/B002UHP6VO\" title=\"Everlong\"><h2 class=\"a-size-medium a-color-null s-inline s-access-title a-text-normal\">Everlong</h2></a><span class=\"a-letter-space\"></span><span class=\"a-letter-space\"></span><span class=\"a-size-small a-color-secondary\">Nov 3, 2009</span><div class=\"a-row a-spacing-none\"><span class=\"a-size-small a-color-secondary\">by </span><span class=\"a-size-small a-color-secondary\">Foo Fighters</span></div></div><div class=\"a-row\"><div class=\"a-column a-span7\"><div class=\"a-row a-spacing-none\"><a class=\"a-link-normal a-text-normal\" href=\"http://www.amazon.com/Everlong/dp/B002UHP6VO\" title=\"Prime Music\"><h3 class=\"a-size-small a-color-null s-inline a-text-normal\">Prime Music</h3></a></div><div class=\"a-row a-spacing-none\"><a class=\"a-link-normal a-text-normal\" href=\"http://www.amazon.com/Everlong/dp/B002UHP6VO\"><span class=\"a-size-base a-color-price s-price a-text-bold\">$0.00</span></a><span class=\"a-letter-space\"></span><i class=\"a-icon a-icon-prime a-icon-small s-align-text-bottom\"></i></div><div class=\"a-row a-spacing-mini\"><div class=\"a-row\"><span class=\"a-size-small a-color-secondary\">Prime Music gives you unlimited, ad-free access to over a million songs and hundreds of playlists. </span><span class=\"a-letter-space\"></span><a class=\"a-link-normal a-text-normal\" href=\"/gp/prime/pipeline/signup/ref=dm_sr_SASKeywordAllProducts_tr_aps_ru_A20X0GIASH11T2_xx_xx?primeCampaignId=dmusic_store&amp;renderType=desktop&amp;redirectURL=L2dwL2RtdXNpYy9wdXJjaGFzZS90aGFua1lvdVByaW1l&amp;redirectQueryParams=cmV0dXJuVVJMPS9ncC9wcm9kdWN0L0IwMDJVSFA2Vk8mQVNJTj1CMDAyVUhQNlZP\"><span class=\"a-size-small\">Get started with Prime.</span></a></div></div><div class=\"a-row a-spacing-mini\"><div class=\"a-row\"><span class=\"a-size-base a-color-price s-price\">$1.29</span><span class=\"a-letter-space\"></span><span class=\"a-size-small a-color-secondary\">to buy the MP3 album</span></div></div><div class=\"a-row a-spacing-none\"><span class=\"a-size-small a-color-secondary\"></span></div></div><div class=\"a-column a-span5 a-span-last\"><div class=\"a-row a-spacing-mini\"><span name=\"B002UHP6VO\">\n",
       " <span class=\"a-declarative\" data-a-popover='{\"position\":\"triggerBottom\",\"max-width\":\"700\",\"closeButton\":\"false\",\"url\":\"/review/widgets/average-customer-review/popover/ref=acr_search__popover?ie=UTF8&amp;asin=B002UHP6VO&amp;contextId=search&amp;ref=acr_search__popover\"}' data-action=\"a-popover\"><a class=\"a-popover-trigger a-declarative\" href=\"javascript:void(0)\"><i class=\"a-icon a-icon-star a-star-5\"><span class=\"a-icon-alt\">4.9 out of 5 stars</span></i><i class=\"a-icon a-icon-popover\"></i></a></span></span>\n",
       " <a class=\"a-size-small a-link-normal a-text-normal\" href=\"http://www.amazon.com/Everlong/dp/B002UHP6VO#customerReviews\">8</a></div><div class=\"a-row a-spacing-mini\"><div class=\"a-row a-spacing-mini\"><a class=\"a-size-small a-link-normal a-text-normal\" href=\"/s?ie=UTF8&amp;page=1&amp;rh=i%3Asporting%2Ck%3Afoo\"><span class=\"a-text-bold\">Sports &amp; Outdoors:</span><span class=\"a-letter-space\"></span>See all 1,144 items</a></div></div></div></div></div></div></div></div></li>,\n",
       " <li class=\"s-result-item\" data-asin=\"B00U0RCYCK\" id=\"result_27\"><div class=\"s-item-container\"><div class=\"a-fixed-left-grid\"><div class=\"a-fixed-left-grid-inner\" style=\"padding-left:160px\"><div class=\"a-fixed-left-grid-col a-col-left\" style=\"width:160px;margin-left:-160px;_margin-left:-80px;float:left;\"><div class=\"a-row\"><div class=\"a-column a-span12 a-text-center\"><a class=\"a-link-normal a-text-normal\" href=\"http://www.amazon.com/Grohl-Fighters-Nirvana-Clear-Guitar/dp/B00U0RCYCK\"><img alt=\"Product Details\" class=\"s-access-image cfMarker\" height=\"160\" onload=\"viewCompleteImageLoaded(this, new Date().getTime(), 16, false);\" src=\"http://ecx.images-amazon.com/images/I/410XdIq2LmL._AA160_.jpg\" width=\"160\"/></a></div></div></div><div class=\"a-fixed-left-grid-col a-col-right\" style=\"padding-left:2%;*width:97.6%;float:left;\"><div class=\"a-row a-spacing-small\"><a class=\"a-link-normal s-access-detail-page a-text-normal\" href=\"http://www.amazon.com/Grohl-Fighters-Nirvana-Clear-Guitar/dp/B00U0RCYCK\" title=\"Dave Grohl Foo Fighters Nirvana Live With Clear Guitar 8x10 Photo\"><h2 class=\"a-size-medium a-color-null s-inline s-access-title a-text-normal\">Dave Grohl Foo Fighters Nirvana Live With Clear Guitar 8x10 Photo</h2></a><div class=\"a-row a-spacing-none\"><span class=\"a-size-small a-color-secondary\">by </span><span class=\"a-size-small a-color-secondary\">Dave Grohl, Nirvana, Foo Fighters</span></div></div><div class=\"a-row\"><div class=\"a-column a-span7\"><div class=\"a-row a-spacing-none\"><a class=\"a-link-normal a-text-normal\" href=\"http://www.amazon.com/Grohl-Fighters-Nirvana-Clear-Guitar/dp/B00U0RCYCK\"><span class=\"a-size-base a-color-price s-price a-text-bold\">$19.99</span></a></div></div><div class=\"a-column a-span5 a-span-last\"><div class=\"a-row a-spacing-mini\"><div class=\"a-row a-spacing-none\"><span class=\"a-size-small a-color-secondary\">FREE Shipping</span></div></div><div class=\"a-row a-spacing-mini\"><div class=\"a-row a-spacing-mini\"><a class=\"a-size-small a-link-normal a-text-normal\" href=\"/s?ie=UTF8&amp;page=1&amp;rh=i%3Acollectibles%2Ck%3Afoo\"><span class=\"a-text-bold\">Collectibles &amp; Fine Art:</span><span class=\"a-letter-space\"></span>See all 916 items</a></div></div></div></div></div></div></div></div></li>,\n",
       " <li class=\"s-result-item\" data-asin=\"B00LA6N12M\" id=\"result_28\"><div class=\"s-item-container\"><div class=\"a-fixed-left-grid\"><div class=\"a-fixed-left-grid-inner\" style=\"padding-left:160px\"><div class=\"a-fixed-left-grid-col a-col-left\" style=\"width:160px;margin-left:-160px;_margin-left:-80px;float:left;\"><div class=\"a-row\"><div class=\"a-column a-span12 a-text-center\"><a class=\"a-link-normal a-text-normal\" href=\"http://www.amazon.com/T-Shirt-Fighters-Winged-Wheel-MB-A4-LL/dp/B00LA6N12M\"><img alt=\"Product Details\" class=\"s-access-image cfMarker\" height=\"160\" onload=\"viewCompleteImageLoaded(this, new Date().getTime(), 16, false);\" src=\"http://ecx.images-amazon.com/images/I/41CdTRAitKL._AA160_.jpg\" width=\"160\"/></a></div></div></div><div class=\"a-fixed-left-grid-col a-col-right\" style=\"padding-left:2%;*width:97.6%;float:left;\"><div class=\"a-row a-spacing-small\"><a class=\"a-link-normal s-access-detail-page a-text-normal\" href=\"http://www.amazon.com/T-Shirt-Fighters-Winged-Wheel-MB-A4-LL/dp/B00LA6N12M\" title=\"T-Shirt - Foo Fighters - Winged Wheel - MB-A4-LL - LARGE - CID\"><h2 class=\"a-size-medium a-color-null s-inline s-access-title a-text-normal\">T-Shirt - Foo Fighters - Winged Wheel - MB-A4-LL - LARGE - CID</h2></a><div class=\"a-row a-spacing-none\"><span class=\"a-size-small a-color-secondary\">by </span><span class=\"a-size-small a-color-secondary\">CID</span></div></div><div class=\"a-row\"><div class=\"a-column a-span7\"><div class=\"a-row a-spacing-none\"><a class=\"a-link-normal a-text-normal\" href=\"http://www.amazon.com/T-Shirt-Fighters-Winged-Wheel-MB-A4-LL/dp/B00LA6N12M\"><span class=\"a-size-base a-color-price s-price a-text-bold\">$19.98</span></a></div><div class=\"a-row a-spacing-mini\"><div class=\"a-row a-spacing-none\"><div class=\"a-row a-spacing-mini\"></div><span class=\"a-size-small a-color-secondary\">More Buying Choices</span></div><div class=\"a-row a-spacing-none\"><a class=\"a-size-small a-link-normal a-text-normal\" href=\"http://www.amazon.com/gp/offer-listing/B00LA6N12M\"><span class=\"a-size-base a-color-price a-text-bold\">$19.98</span><span class=\"a-letter-space\"></span>new<span class=\"a-letter-space\"></span><span class=\"a-color-secondary\">(2 offers)</span><span class=\"a-letter-space\"></span><span class=\"a-color-secondary a-text-strike\"></span></a></div></div></div><div class=\"a-column a-span5 a-span-last\"><div class=\"a-row a-spacing-mini\"><span name=\"B00LA6N12M\">\n",
       " <span class=\"a-declarative\" data-a-popover='{\"position\":\"triggerBottom\",\"max-width\":\"700\",\"closeButton\":\"false\",\"url\":\"/review/widgets/average-customer-review/popover/ref=acr_search__popover?ie=UTF8&amp;asin=B00LA6N12M&amp;contextId=search&amp;ref=acr_search__popover\"}' data-action=\"a-popover\"><a class=\"a-popover-trigger a-declarative\" href=\"javascript:void(0)\"><i class=\"a-icon a-icon-star a-star-4\"><span class=\"a-icon-alt\">4 out of 5 stars</span></i><i class=\"a-icon a-icon-popover\"></i></a></span></span>\n",
       " <a class=\"a-size-small a-link-normal a-text-normal\" href=\"http://www.amazon.com/T-Shirt-Fighters-Winged-Wheel-MB-A4-LL/dp/B00LA6N12M#customerReviews\">1</a></div><div class=\"a-row a-spacing-mini\"><div class=\"a-row a-spacing-none\"><span class=\"a-size-small a-color-secondary\">FREE Shipping</span></div></div><div class=\"a-row a-spacing-mini\"><span class=\"a-size-small a-color-secondary a-text-bold\">Product Description</span><br/><span class=\"a-size-small a-color-secondary\">... T-Shirt - <em>Foo</em> Fighters - Winged Wheel - MB-A4-LL - LARGE - CID ...</span></div><div class=\"a-row a-spacing-mini\"><div class=\"a-row a-spacing-mini\"><a class=\"a-size-small a-link-normal a-text-normal\" href=\"/s?ie=UTF8&amp;page=1&amp;rh=i%3Amisc%2Ck%3Afoo\"><span class=\"a-text-bold\">Everything Else:</span><span class=\"a-letter-space\"></span>See all 722 items</a></div></div></div></div></div></div></div></div></li>,\n",
       " <li class=\"s-result-item\" data-asin=\"B007XQ530Q\" id=\"result_29\"><div class=\"s-item-container\"><div class=\"a-fixed-left-grid\"><div class=\"a-fixed-left-grid-inner\" style=\"padding-left:160px\"><div class=\"a-fixed-left-grid-col a-col-left\" style=\"width:160px;margin-left:-160px;_margin-left:-80px;float:left;\"><div class=\"a-row\"><div class=\"a-column a-span12 a-text-center\"><a class=\"a-link-normal a-text-normal\" href=\"http://www.amazon.com/LMFAO-Red-Foo-Brown-Size/dp/B007XQ530Q\"><img alt=\"Product Details\" class=\"s-access-image cfMarker\" height=\"160\" onload=\"viewCompleteImageLoaded(this, new Date().getTime(), 16, false);\" src=\"http://ecx.images-amazon.com/images/I/41RmE6EL75L._AA160_.jpg\" width=\"160\"/></a></div></div></div><div class=\"a-fixed-left-grid-col a-col-right\" style=\"padding-left:2%;*width:97.6%;float:left;\"><div class=\"a-row a-spacing-small\"><a class=\"a-link-normal s-access-detail-page a-text-normal\" href=\"http://www.amazon.com/LMFAO-Red-Foo-Brown-Size/dp/B007XQ530Q\" title=\"LMFAO Red Foo Wig\"><h2 class=\"a-size-medium a-color-null s-inline s-access-title a-text-normal\">LMFAO Red Foo Wig</h2></a><div class=\"a-row a-spacing-none\"><span class=\"a-size-small a-color-secondary\">by </span><span class=\"a-size-small a-color-secondary\">Rubie's Costume Co</span></div></div><div class=\"a-row\"><div class=\"a-column a-span7\"><div class=\"a-row a-spacing-none\"><a class=\"a-link-normal a-text-normal\" href=\"http://www.amazon.com/LMFAO-Red-Foo-Brown-Size/dp/B007XQ530Q\"><span class=\"a-size-base a-color-price s-price a-text-bold\">$7.19 - $33.74</span></a><span class=\"a-letter-space\"></span><i class=\"a-icon a-icon-prime a-icon-small s-align-text-bottom\"></i></div><div class=\"a-row a-spacing-mini\"><div class=\"a-row a-spacing-none\"><span class=\"a-size-small a-color-secondary\">Some sizes/colors are Prime eligible</span></div></div></div><div class=\"a-column a-span5 a-span-last\"><div class=\"a-row a-spacing-mini\"><span name=\"B007XQ530Q\">\n",
       " <span class=\"a-declarative\" data-a-popover='{\"position\":\"triggerBottom\",\"max-width\":\"700\",\"closeButton\":\"false\",\"url\":\"/review/widgets/average-customer-review/popover/ref=acr_search__popover?ie=UTF8&amp;asin=B007XQ530Q&amp;contextId=search&amp;ref=acr_search__popover\"}' data-action=\"a-popover\"><a class=\"a-popover-trigger a-declarative\" href=\"javascript:void(0)\"><i class=\"a-icon a-icon-star a-star-3-5\"><span class=\"a-icon-alt\">3.3 out of 5 stars</span></i><i class=\"a-icon a-icon-popover\"></i></a></span></span>\n",
       " <a class=\"a-size-small a-link-normal a-text-normal\" href=\"http://www.amazon.com/LMFAO-Red-Foo-Brown-Size/dp/B007XQ530Q#customerReviews\">6</a></div><div class=\"a-row a-spacing-mini\"><div class=\"a-row a-spacing-none\"><span class=\"a-size-small a-color-secondary\">FREE Shipping on orders over $35</span></div></div><div class=\"a-row a-spacing-mini\"><span class=\"a-size-small a-color-secondary a-text-bold\">Product Features</span><br/><span class=\"a-size-small a-color-secondary\">Red <em>foo</em> wig finishes your lmfao costume, or wear on its own just for fun</span></div><div class=\"a-row a-spacing-mini\"><div class=\"a-row a-spacing-mini\"><a class=\"a-size-small a-link-normal a-text-normal\" href=\"/s?ie=UTF8&amp;page=1&amp;rh=i%3Abeauty%2Ck%3Afoo\"><span class=\"a-text-bold\">Beauty:</span><span class=\"a-letter-space\"></span>See all 26 items</a></div></div></div></div></div></div></div></div></li>,\n",
       " <li class=\"s-result-item\" data-asin=\"B0007UXIVQ\" id=\"result_30\"><div class=\"s-item-container\"><div class=\"a-fixed-left-grid\"><div class=\"a-fixed-left-grid-inner\" style=\"padding-left:160px\"><div class=\"a-fixed-left-grid-col a-col-left\" style=\"width:160px;margin-left:-160px;_margin-left:-80px;float:left;\"><div class=\"a-row\"><div class=\"a-column a-span12 a-text-center\"><a class=\"a-link-normal a-text-normal\" href=\"http://www.amazon.com/Foojoy-Chinese-Jasmine-Green-Tea/dp/B0007UXIVQ\"><img alt=\"Product Details\" class=\"s-access-image cfMarker\" height=\"160\" onload=\"viewCompleteImageLoaded(this, new Date().getTime(), 16, false);\" src=\"http://ecx.images-amazon.com/images/I/51X-tYbZ5pL._AA160_.jpg\" width=\"160\"/></a></div></div></div><div class=\"a-fixed-left-grid-col a-col-right\" style=\"padding-left:2%;*width:97.6%;float:left;\"><div class=\"a-row a-spacing-small\"><a class=\"a-link-normal s-access-detail-page a-text-normal\" href=\"http://www.amazon.com/Foojoy-Chinese-Jasmine-Green-Tea/dp/B0007UXIVQ\" title=\"Foojoy Chinese Jasmine Green Tea - 100 Tea Bags\"><h2 class=\"a-size-medium a-color-null s-inline s-access-title a-text-normal\">Foojoy Chinese Jasmine Green Tea - 100 Tea Bags</h2></a><div class=\"a-row a-spacing-none\"><span class=\"a-size-small a-color-secondary\">by </span><span class=\"a-size-small a-color-secondary\">FooJoy</span></div></div><div class=\"a-row\"><div class=\"a-column a-span7\"><div class=\"a-row a-spacing-none\"><a class=\"a-link-normal a-text-normal\" href=\"http://www.amazon.com/Foojoy-Chinese-Jasmine-Green-Tea/dp/B0007UXIVQ\"><span class=\"a-size-base a-color-price s-price a-text-bold\">$7.30</span></a></div><div class=\"a-row a-spacing-mini\"><div class=\"a-row a-spacing-none\"><div class=\"a-row a-spacing-mini\"></div><span class=\"a-size-small a-color-secondary\">More Buying Choices</span></div><div class=\"a-row a-spacing-none\"><a class=\"a-size-small a-link-normal a-text-normal\" href=\"http://www.amazon.com/gp/offer-listing/B0007UXIVQ\"><span class=\"a-size-base a-color-price a-text-bold\">$6.25</span><span class=\"a-letter-space\"></span>new<span class=\"a-letter-space\"></span><span class=\"a-color-secondary\">(10 offers)</span><span class=\"a-letter-space\"></span><span class=\"a-color-secondary a-text-strike\"></span></a></div></div></div><div class=\"a-column a-span5 a-span-last\"><div class=\"a-row a-spacing-mini\"><span name=\"B0007UXIVQ\">\n",
       " <span class=\"a-declarative\" data-a-popover='{\"position\":\"triggerBottom\",\"max-width\":\"700\",\"closeButton\":\"false\",\"url\":\"/review/widgets/average-customer-review/popover/ref=acr_search__popover?ie=UTF8&amp;asin=B0007UXIVQ&amp;contextId=search&amp;ref=acr_search__popover\"}' data-action=\"a-popover\"><a class=\"a-popover-trigger a-declarative\" href=\"javascript:void(0)\"><i class=\"a-icon a-icon-star a-star-3-5\"><span class=\"a-icon-alt\">3.7 out of 5 stars</span></i><i class=\"a-icon a-icon-popover\"></i></a></span></span>\n",
       " <a class=\"a-size-small a-link-normal a-text-normal\" href=\"http://www.amazon.com/Foojoy-Chinese-Jasmine-Green-Tea/dp/B0007UXIVQ#customerReviews\">22</a></div><div class=\"a-row a-spacing-mini\"><div class=\"a-row a-spacing-none\"><span class=\"a-size-small a-color-secondary\">FREE Shipping</span></div></div><div class=\"a-row a-spacing-mini\"><div class=\"a-row a-spacing-mini\"><a class=\"a-size-small a-link-normal a-text-normal\" href=\"/s?ie=UTF8&amp;page=1&amp;rh=i%3Ahpc%2Ck%3Afoo\"><span class=\"a-text-bold\">Health &amp; Personal Care:</span><span class=\"a-letter-space\"></span>See all 92 items</a></div></div></div></div></div></div></div></div></li>,\n",
       " <li class=\"s-result-item\" data-asin=\"B0062TL4AI\" id=\"result_31\"><div class=\"s-item-container\"><div class=\"a-fixed-left-grid\"><div class=\"a-fixed-left-grid-inner\" style=\"padding-left:160px\"><div class=\"a-fixed-left-grid-col a-col-left\" style=\"width:160px;margin-left:-160px;_margin-left:-80px;float:left;\"><div class=\"a-row\"><div class=\"a-column a-span12 a-text-center\"><a class=\"a-link-normal a-text-normal\" href=\"http://www.amazon.com/School-Specialty-Little-Bunny-Read-Along/dp/B0062TL4AI\"><img alt=\"Product Details\" class=\"s-access-image cfMarker\" height=\"160\" onload=\"viewCompleteImageLoaded(this, new Date().getTime(), 16, false);if (typeof uet =='function') { uet('af'); if(window.amzn &amp;&amp; amzn.sx &amp;&amp; amzn.sx.utils &amp;&amp; amzn.sx.utils.jsDepMgr) {amzn.sx.utils.jsDepMgr.when('jQuery','ajax_ue_init_manageLoad', function($) { var u=$.searchUE;if(u) {u.manageLoad();}});} } if(window.amzn &amp;&amp; amzn.sx &amp;&amp; amzn.sx.utils &amp;&amp; amzn.sx.utils.jsDepMgr) {amzn.sx.utils.jsDepMgr.when('search-js-general', 'atf_event_trigger_rhs', function() {SPUtils.triggerATFEvent(1);});}\" src=\"http://ecx.images-amazon.com/images/I/41jBgUjCwgL._AA160_.jpg\" width=\"160\"/></a></div></div></div><div class=\"a-fixed-left-grid-col a-col-right\" style=\"padding-left:2%;*width:97.6%;float:left;\"><div class=\"a-row a-spacing-small\"><a class=\"a-link-normal s-access-detail-page a-text-normal\" href=\"http://www.amazon.com/School-Specialty-Little-Bunny-Read-Along/dp/B0062TL4AI\" title=\"School Specialty Little Bunny Foo Foo Book Read-Along Set\"><h2 class=\"a-size-medium a-color-null s-inline s-access-title a-text-normal\">School Specialty Little Bunny Foo Foo Book Read-Along Set</h2></a><div class=\"a-row a-spacing-none\"><span class=\"a-size-small a-color-secondary\">by </span><span class=\"a-size-small a-color-secondary\">School Specialty</span></div></div><div class=\"a-row\"><div class=\"a-column a-span7\"><div class=\"a-row a-spacing-none\"><a class=\"a-link-normal a-text-normal\" href=\"http://www.amazon.com/School-Specialty-Little-Bunny-Read-Along/dp/B0062TL4AI\"><span class=\"a-size-base a-color-price s-price a-text-bold\">$20.02</span></a><span class=\"a-letter-space\"></span><span class=\"a-size-small a-color-secondary a-text-strike\">$28.00</span></div><div class=\"a-row a-spacing-mini\"><div class=\"a-row a-spacing-none\"><span class=\"a-size-small a-color-price\">Only 3 left in stock - order soon.</span></div></div></div><div class=\"a-column a-span5 a-span-last\"><div class=\"a-row a-spacing-mini\"><span name=\"B0062TL4AI\">\n",
       " <span class=\"a-declarative\" data-a-popover='{\"position\":\"triggerBottom\",\"max-width\":\"700\",\"closeButton\":\"false\",\"url\":\"/review/widgets/average-customer-review/popover/ref=acr_search__popover?ie=UTF8&amp;asin=B0062TL4AI&amp;contextId=search&amp;ref=acr_search__popover\"}' data-action=\"a-popover\"><a class=\"a-popover-trigger a-declarative\" href=\"javascript:void(0)\"><i class=\"a-icon a-icon-star a-star-5\"><span class=\"a-icon-alt\">5 out of 5 stars</span></i><i class=\"a-icon a-icon-popover\"></i></a></span></span>\n",
       " <a class=\"a-size-small a-link-normal a-text-normal\" href=\"http://www.amazon.com/School-Specialty-Little-Bunny-Read-Along/dp/B0062TL4AI#customerReviews\">1</a></div><div class=\"a-row a-spacing-mini\"><span class=\"a-size-small a-color-secondary a-text-bold\">Product Features</span><br/><span class=\"a-size-small a-color-secondary\">Short name: Book Little Bunny <em>Foo</em> Foo W/ Cd</span></div><div class=\"a-row a-spacing-mini\"><div class=\"a-row a-spacing-mini\"><a class=\"a-size-small a-link-normal a-text-normal\" href=\"/s?ie=UTF8&amp;page=1&amp;rh=i%3Aoffice-products%2Ck%3Afoo\"><span class=\"a-text-bold\">Office Products:</span><span class=\"a-letter-space\"></span>See all 149 items</a></div></div></div></div></div></div></div></div></li>]"
      ]
     },
     "execution_count": 19,
     "metadata": {},
     "output_type": "execute_result"
    }
   ],
   "source": [
    "s2 = soup.select(\" .s-result-item\")\n",
    "s2"
   ]
  },
  {
   "cell_type": "code",
   "execution_count": 23,
   "metadata": {
    "collapsed": false
   },
   "outputs": [
    {
     "data": {
      "text/plain": [
       "{'class': ['s-result-item'], 'data-asin': 'B00EMLBIZ4', 'id': 'result_16'}"
      ]
     },
     "execution_count": 23,
     "metadata": {},
     "output_type": "execute_result"
    }
   ],
   "source": [
    "li = s2[0]\n",
    "li.attrs"
   ]
  },
  {
   "cell_type": "code",
   "execution_count": 26,
   "metadata": {
    "collapsed": false
   },
   "outputs": [
    {
     "data": {
      "text/plain": [
       "u'Foo Fighters american rock Wall Graphic Decal Sticker 22\" x 22\"'"
      ]
     },
     "execution_count": 26,
     "metadata": {},
     "output_type": "execute_result"
    }
   ],
   "source": [
    "s2[0].select(\"h2\")[0].text"
   ]
  },
  {
   "cell_type": "code",
   "execution_count": 27,
   "metadata": {
    "collapsed": true
   },
   "outputs": [],
   "source": [
    "def get_10_pages_of_keyword(keyword):\n",
    "    result = []\n",
    "    for page in range(1,11):\n",
    "        res = requests.get(\"http://www.amazon.com/s/ref=nb_sb_noss?page=%s&field-keywords=%s\" % (page, keyword))\n",
    "        soup = BeautifulSoup(res.text)\n",
    "        for dom in soup.select(\" .s-result-item\"):\n",
    "            dataId = dom.attrs.get(\"data-asin\")\n",
    "            title = dom.select(\"h2\")[0].text\n",
    "            result.append([dataId, title])\n",
    "    return result\n"
   ]
  },
  {
   "cell_type": "code",
   "execution_count": 29,
   "metadata": {
    "collapsed": false
   },
   "outputs": [],
   "source": [
    "result = get_10_pages_of_keyword(\"fire\")"
   ]
  },
  {
   "cell_type": "code",
   "execution_count": 30,
   "metadata": {
    "collapsed": false
   },
   "outputs": [
    {
     "data": {
      "text/plain": [
       "[['B00GDQ0RMG', u'Fire TV Stick'],\n",
       " ['B00IKPYKWG',\n",
       "  u'Fire HD 7, 7\" HD Display, Wi-Fi, 8 GB - Includes Special Offers, Black'],\n",
       " ['B00OC0USA6', u'Amazon Fire Phone, 32GB (Unlocked GSM)'],\n",
       " ['B00CX5P8FC', u'Amazon Fire TV'],\n",
       " ['B00KC6I06S',\n",
       "  u'Fire HD 6, 6\" HD Display, Wi-Fi, 8 GB - Includes Special Offers, Black'],\n",
       " ['B00BWYRF7E',\n",
       "  u'Kindle Fire HDX 7\", HDX Display, Wi-Fi, 32 GB - Includes Special Offers (Previous Generation - 3rd)'],\n",
       " ['B002URBQHC', u'Fire (Graceling Realm Book 2)'],\n",
       " ['B00HCNHDN0',\n",
       "  u'Fire HDX 8.9, 8.9\" HDX Display, Wi-Fi, 16 GB - Includes Special Offers'],\n",
       " ['B00DU0ZI8Q', u'Amazon Fire Game Controller'],\n",
       " ['B00IKPW0UA',\n",
       "  u'Fire HD 7, 7\" HD Display, Wi-Fi, 16 GB - Includes Special Offers, Black'],\n",
       " ['B00M9VWFOM',\n",
       "  u'Amazon Fire TV Gamers Bundle with Fire Game Controller, HDMI cable, and Free Sev Zero Game'],\n",
       " ['B00LOR524M',\n",
       "  u'Fire HD 6 Kids Edition, 6\" HD Display, Wi-Fi, 8 GB, Blue Kid-Proof Case'],\n",
       " ['B00BSD8ZWI', u'Video shorts related to \"fire\"'],\n",
       " ['B00BWYQ9YE',\n",
       "  u'Kindle Fire HDX 7\", HDX Display, Wi-Fi, 16 GB - Includes Special Offers (Previous Generation - 3rd)'],\n",
       " ['B00HWHPOE6', u'Amazon Leather Case for Fire Phone, Black'],\n",
       " ['B004ZR04ZK', u'Fire: The Collapse (Elements of the Undead Book 1)'],\n",
       " ['B00EOE0WKQ', u'Amazon Fire Phone, 32GB (AT&T)'],\n",
       " ['B00DU15MU4', u'Certified Refurbished Amazon Fire TV'],\n",
       " ['B00HG1TMK0',\n",
       "  u'Fire HDX 8.9, 8.9\" HDX Display, Wi-Fi, 64 GB - Includes Special Offers'],\n",
       " ['B00OKQ1WMA', u'FIRE (The Dark Magician Book 1)'],\n",
       " ['B00DU0X4WI', u'Voice remote for Amazon Fire TV and Fire TV Stick'],\n",
       " ['B00BHJRYYS',\n",
       "  u'Kindle Fire HDX 8.9\", HDX Display, Wi-Fi, 16 GB - Includes Special Offers (Previous Generation - 3rd)'],\n",
       " ['B00AKIPBNS', u'Fire Emblem: Awakening'],\n",
       " ['B0083Q04IQ',\n",
       "  u'Kindle Fire - Includes Special Offers (Previous Generation - 2nd)'],\n",
       " ['B00V40YSB2', u'FIRE (Paranormal Wolf Shifter Romance Standalone)'],\n",
       " ['B00CU0NSCU',\n",
       "  u'Kindle Fire HD 7\", HD Display, Wi-Fi, 8 GB - Includes Special Offers (Previous Generation - 3rd)'],\n",
       " ['B00KYFWDLU', u'Fire Keyboard'],\n",
       " ['B00LORGAG6', u'Replacement Remote for Amazon Fire TV Stick'],\n",
       " ['B008GFRE5A',\n",
       "  u'Kindle Fire HD 8.9\", 8.9\" HD display, 16 GB or 32 GB, Wi-Fi or Optional 4G LTE Wireless (Previous Generation -...'],\n",
       " ['B004DT6TEK', u'Gerber 31-000699 Bear Grylls Survival Series Fire Starter'],\n",
       " ['B0010O748Q', u'Magnesium Fire Starter'],\n",
       " ['B00EWTMO7W', u'The Fire (Northwest Passage Book 4)'],\n",
       " ['B00HWHRZ8E', u'Amazon Polyurethane Case for Fire Phone, Black'],\n",
       " ['B00DR0PDNE', u'Google Chromecast HDMI Streaming Media Player'],\n",
       " ['B00UD6MPMM', u'Skylanders Trap Team: Triple Trap Pack: Fire, Kaos, Tech'],\n",
       " ['B004QX075A', u'The Fire (Witch & Wizard Book 3)'],\n",
       " ['B00D7QH9PS',\n",
       "  u'Certified Refurbished Kindle Fire HDX 7\", HDX Display, Wi-Fi, 32 GB - Includes Special Offers (Previous Generation...'],\n",
       " ['B00ODIASKC', u'Amazon Fire TV Remote App'],\n",
       " ['B0083Q04TA',\n",
       "  u'Kindle Fire 7\", LCD Display, Wi-Fi, 8 GB (Previous Generation - 2nd),-R'],\n",
       " ['B00I2TV3NO', u'The Hunger Games: Catching Fire [HD]'],\n",
       " ['B00FJ3A6FC',\n",
       "  u'FIRE: How Fast, Inexpensive, Restrained, and Elegant Methods Ignite Innovation'],\n",
       " ['B00MG38CG8',\n",
       "  u'Skylanders Trap Team Tablet Starter Pack - iOS, Android, & Fire OS'],\n",
       " ['B00INNP5VU', u'Roku 3500R Streaming Stick (HDMI)'],\n",
       " ['B002BFZBQA', u'Fire'],\n",
       " ['B00M8K7AXU',\n",
       "  u'Clear Screen Protector Kit (3-Pack) for Kindle Fire HD 7, (2014 model: 4th Generation)'],\n",
       " ['B00EODYW6M', u'Amazon Fire Phone, 64GB (AT&T)'],\n",
       " ['B00OY9ACGK',\n",
       "  u'Amazon Fire Belt Clip Case : Stalion\\xae Secure Holster Shell & Kickstand Combo (Jet Black)[Lifetime Warranty] 180...'],\n",
       " ['B00ULTPJ6K',\n",
       "  u'Fire Phone: A Well Established User Guide for Fire Phone. Learn the Basics of Setup and the Latest Tips and Tricks...'],\n",
       " ['B00KN7Y1F0', u'Skylanders SWAP Force: Jade Fire Kraken (SWAP-able)'],\n",
       " ['B0083PWAPW',\n",
       "  u'Kindle Fire HD 7\", Dolby Audio, Dual-Band Wi-Fi, 16 GB - Includes Special Offers (Previous Generation - 2nd)'],\n",
       " ['B00KQE2JYK',\n",
       "  u'Standing Leather Case for Fire HD 7 (4th Generation), Black'],\n",
       " ['B00Q50XOW0', u'TVPower Mini 1A USB Power Cable for Powering Fire TV Stick'],\n",
       " ['B000W11FJW', u'Fire (Album Version)'],\n",
       " ['B00N32LA74',\n",
       "  u'Fire Phone Case, CINEYO(TM) heavy Duty Rugged Dual Layer Case with kickstand (Amazon Fire Phone Case Black) (Black...'],\n",
       " ['B0051TPJKG',\n",
       "  u'Fire Gone 2NBFG2704 White/Red Fire Extinguisher - 16 oz., (Pack of 2)'],\n",
       " ['B00LCHS1FG',\n",
       "  u'Fire HD 7, 7\" HD Display, Wi-Fi, 8 GB - Includes Special Offers, Cobalt'],\n",
       " ['B00000FC5H', u'Earth Wind & Fire: Greatest Hits'],\n",
       " ['B005VTVE0U', u'A Hidden Fire: Elemental Mysteries Book One'],\n",
       " ['B00BBAP274', u'Classic Accessories Terrazzo 58992-EC Patio Fire Pit Cover'],\n",
       " ['B003L1ZYYM',\n",
       "  u'AmazonBasics High-Speed HDMI Cable - 6.5 Feet (2 Meters) Supports Ethernet, 3D, 4K and Audio Return'],\n",
       " ['B00KC6YH8S',\n",
       "  u'Fire HD 6, 6\" HD Display, Wi-Fi, 8 GB - Includes Special Offers, White'],\n",
       " ['B00NQF1IFM',\n",
       "  u'Fire HD 7 Case - Poetic Fire HD 7 Case [Revolution Series] - [Heavy Duty] [Dual Layer] [Screen Shield] Protective...'],\n",
       " ['B00AQJ71EI',\n",
       "  u\"Top Free Kindle Fire Apps (Free Kindle Fire Apps That Don't Suck Book 10)\"],\n",
       " ['B00LCJ13O0',\n",
       "  u'Fire HD 6, 6\" HD Display, Wi-Fi, 16 GB - Includes Special Offers, Cobalt'],\n",
       " ['B00GE57DFK', u'SentrySafe HD4100CG Fire-Safe Waterproof File'],\n",
       " ['B003WP39N0',\n",
       "  u'Dentyne Fire Gum, Spicy Cinnamon, 12-Piece Packs (Pack of 12)'],\n",
       " ['B0002MISZ0',\n",
       "  u'Kyjen FH05022 Fire Hose Squeak Toy Fetch Dog Toys, Large, Red'],\n",
       " ['B00C5W16B8',\n",
       "  u'Kindle Fire HD 7\", HD Display, Wi-Fi, 16 GB - Includes Special Offers (Previous Generation - 3rd)'],\n",
       " ['B00IE3EF6A',\n",
       "  u'Disney Planes Fire and Rescue Racing Dusty with Pontoons Die-cast Vehicle'],\n",
       " ['B00NCA8MV4', u'Skylanders Trap Team: Fire Element Trap Pack'],\n",
       " ['B00VRY9B4Y',\n",
       "  u'2014 Topps FIRE NFL Football Factory Sealed Retail Box with 8 Packs and 64 Cards ! Look for Rookie Cards and Autographs...'],\n",
       " ['B00STOHUKC', u'Fire Pit Assembly'],\n",
       " ['B00WLJ0OC2', u'First Times: Seduction on the Beach'],\n",
       " ['B00DMEA87Q', u'Beistle 57322 3D Campfire Centerpiece, 12-Inch'],\n",
       " ['B00KQNUT8E',\n",
       "  u'Fire HDX 8.9, 8.9\" HDX Display, Wi-Fi and 4G LTE, 64 GB - (Verizon)'],\n",
       " ['B00BBZYCFC', u\"Carter's 4 Piece Toddler Bed Set, Fire Truck\"],\n",
       " ['B004LGX7XG', u'Tressa Watercolors Shampoo - Fluid Fire 8.5 oz'],\n",
       " ['B000X3C8L8',\n",
       "  u'FireStik K-8R18 18 foot Fire-Flex coax cable with Fire-Ring'],\n",
       " ['B00F0YGU9G',\n",
       "  u'Earthlog, EC1000 Citronella Fire Log, Manufactured Anti-Mosquito Fire Log, 3Pack,Yellow and Green, 13X9.75X3.25'],\n",
       " ['B0051VVOB2', u'Kindle Fire (Previous Generation - 1st)'],\n",
       " ['0879392991',\n",
       "  u'CD-ROM Study Guide for Fire and Emergency Services Company Officer, 4th Ed.'],\n",
       " ['B00N2YLAIW', u'Blast Off Fire Tek Rockets'],\n",
       " ['B00UD6MPM2', u'Skylanders Trap Team: Triple Trap Pack: Magic, Fire, Tech'],\n",
       " ['B00LAQUKH6',\n",
       "  u'iCarez\\xae [HD Clear] for Amazon Fire Phone Highest Quality Premium Screen protector High Definition Ultra Clear...'],\n",
       " ['B00002ND64', u'Kidde FA110 Multi Purpose Fire Extinguisher 1A10BC'],\n",
       " ['B00CUU1CGY',\n",
       "  u'Kindle Fire HDX 7\", HDX Display, Wi-Fi, 64 GB - Includes Special Offers (Previous Generation - 3rd)'],\n",
       " ['B00F8YHD62', u'The Legend of the Firewalker'],\n",
       " ['B00EW0FYA0', u'Amazon Prime (One Year Membership)'],\n",
       " ['B00OW9APLE',\n",
       "  u\"Time Magazine November 3, 2014 - Rotten Apples - It's Neraly Impossible to Fire Bad Teacher\"],\n",
       " ['B00LCJ0DNC',\n",
       "  u'Fire HD 6, 6\" HD Display, Wi-Fi, 8 GB - Includes Special Offers, Citron'],\n",
       " ['B00J9P3KBS', u'PlayPad Pro for Amazon Fire TV'],\n",
       " ['B00KC6IUO0',\n",
       "  u'Fire HD 6, 6\" HD Display, Wi-Fi, 16 GB - Includes Special Offers, Black'],\n",
       " ['B00H7QAQG8', u'The Fireplace'],\n",
       " ['B00N2KZDH0', u'Fireman Sam: The Great Fire of Pontypandy [HD]'],\n",
       " ['B00MU4RLM4',\n",
       "  u'Belkin HDMI to HDMI Cable for FireTV and other HDMI-Enabled Devices (6 Feet / 1.8 Meters)'],\n",
       " ['B00KRQUZ3O',\n",
       "  u'Leather Origami Case for Fire HDX 8.9 (4th Generation), Black'],\n",
       " ['0062356453', u'The Invention of Fire: A Novel'],\n",
       " ['B00NQF1HEE',\n",
       "  u'Fire HD 7 Case - Poetic Fire HD 7 Case [Revolution Series] - [Heavy Duty] [Dual Layer] [Screen Shield] Protective...'],\n",
       " ['B00BYHTK5Y',\n",
       "  u'Kindle Fire HDX 8.9\", HDX Display, Wi-Fi, 32 GB - Includes Special Offers (Previous Generation - 3rd)'],\n",
       " ['B00NCA8QUG',\n",
       "  u'Skylanders Trap Team: Air, Undead, & Fire Trap - Triple Trap Pack'],\n",
       " ['B00N3A0U0Y', u'Into the Fire (Vigilante Justice #1)'],\n",
       " ['B00DR0B7Y8',\n",
       "  u'Amazon Kindle Fire HDX Standing Polyurethane Origami Case (will only fit Kindle Fire HDX 7\"), Mineral Black'],\n",
       " ['B00LCK715Y',\n",
       "  u'Fire HD 6, 6\" HD Display, Wi-Fi, 8 GB - Includes Special Offers, Cobalt'],\n",
       " ['B00NOI7FBW', u'Fire'],\n",
       " ['B00KQE8XNG',\n",
       "  u'Standing Protective Case for Fire HD 7 (4th Generation), Black'],\n",
       " ['B000U34SYQ', u'Fire Emblem: Radiant Dawn'],\n",
       " ['B00VGTZV0S',\n",
       "  u'For Fire Phone Case, NewPlus [Heavy Duty defender] Full-Body Protected with Built-in Screen Protector, Shock-Resistant...'],\n",
       " ['B00HCNH90W',\n",
       "  u'Fire HDX 8.9, 8.9\" HDX Display, Wi-Fi, 32 GB - Includes Special Offers'],\n",
       " ['B009XHC7F2',\n",
       "  u'6 feet Amazon Kindle Fire HD, LTE 8.9 and 7 inch PaperWhite, Paper White USB A-B Micro Cable.'],\n",
       " ['B00PXTSP1O',\n",
       "  u'Fire HD 7 Case, GMYLE Book Case Vintage for Fire HD 7 (2014 model) (4th Generation) - Brown PU Leather Protective...'],\n",
       " ['B007T36S34',\n",
       "  u'Kindle Fire HD 7\", HD Display, Wi-Fi, 8 GB (Previous Generation - 3rd)'],\n",
       " ['B000AOEU2K', u'Fire Emblem: Path of Radiance - Gamecube'],\n",
       " ['B007T35O7U', u'Kindle Fire (Previous Generation - 2nd)'],\n",
       " ['B00BD99JMW', u'Allegiant (Divergent Trilogy, Book 3)'],\n",
       " ['B008JORKP2',\n",
       "  u'Heininger 5995 58,000 BTU Portable Propane Outdoor Fire Pit'],\n",
       " ['B00TZILCWS', u'Open Our Eyes'],\n",
       " ['B00HCNFCGA',\n",
       "  u'Fire HDX 8.9, 8.9\" HDX Display, Wi-Fi and 4G LTE, 64 GB - Includes Special Offers'],\n",
       " ['B003Y70W4U', u'Xbox 360 Turbo Fire 2 Wireless Controller with Rumble'],\n",
       " ['B00L3WHXVI',\n",
       "  u'SUPCASE Amazon Fire Phone Case - Unicorn Beetle PRO Series Full-body Hybrid Protective Case with Built-in Screen...'],\n",
       " ['B002GCL658', u'Melissa & Doug Fire Chief Role Play Costume Set'],\n",
       " ['B00HX0SRXW', u'Amazon Premium Headphones'],\n",
       " ['B008Y5A29W',\n",
       "  u'Instafire Fire Starter Pouches, Durable Mylar Packs Lights up to 4 fires, No Harmful Chemicals, ECO Friendly -...'],\n",
       " ['B00EUGZ5V4', u'Amazon Fire TV Power Adapter'],\n",
       " ['B003WP39N0',\n",
       "  u'Dentyne Fire Gum, Spicy Cinnamon, 12-Piece Packs (Pack of 12)'],\n",
       " ['B00IKGHRGQ', u'SentrySafe H2300CG Waterproof Fire Chest'],\n",
       " ['B00NR6KQUS',\n",
       "  u'Fire HD 7 Case, SUPCASE [Heavy Duty] Amazon Fire HD 7 Case (4th Generation) 2014 Release [Unicorn Beetle PRO Series...'],\n",
       " ['B00BIO6TQG', u'Hueter Toledo Lifesize Replica Plastic Fire Hydrant'],\n",
       " ['B00DPM7TIG', u'All the Light We Cannot See: A Novel'],\n",
       " ['B00440VIYY',\n",
       "  u'Light My Fire Swedish FireSteel 2.0 Army 12,000 Strike Fire Starter with Emergency Whistle'],\n",
       " ['B00IRWLOC6',\n",
       "  u'MoKo Amazon Kindle Fire HD 7 2014 Case - Ultra Slim Lightweight Smart-shell Cover Case for Amazon Kindle Fire...'],\n",
       " ['B00FEKOXJ0', u'Skylanders SWAP Force: Fire Kraken Character (SWAP-able)'],\n",
       " ['B00U1DZH7C', u\"Summer Fire: Love When It's Hot\"],\n",
       " ['B006GWO5NE',\n",
       "  u'Amazon Kindle Fire 5ft USB to Micro-USB Cable (works with most Micro-USB Tablets)'],\n",
       " ['B00NQF1E56',\n",
       "  u'Fire HD 7 Case - Poetic Fire HD 7 Case [Revolution Series] - [Heavy Duty] [Dual Layer] [Screen Shield] Protective...'],\n",
       " ['B000WEOQV8', u'Weber 7416 Rapidfire Chimney Starter'],\n",
       " ['B00QXN8J3S', u'On Fire'],\n",
       " ['B00LNTOMG0', u'Amazon FreeTime Kid-Proof Case for Fire HD 7, Blue'],\n",
       " ['B00LXLN4W6', u'Planes: Fire & Rescue (plus bonus features) [HD]'],\n",
       " ['B00TKLWLW0', u'2014 Topps Fire NFL Football BLASTER box (8 pk)'],\n",
       " ['B00ON4ERVW', u'Tonka Strong Arm Fire Truck'],\n",
       " ['B00MN9YWYQ', u'Disney Planes Fire and Rescue - Wii U'],\n",
       " ['B00KRQSJMI',\n",
       "  u'Leather Origami Case for Fire HDX 8.9 (4th Generation), Red'],\n",
       " ['B004YDSL9Q',\n",
       "  u'The One You Love (Emma Holden Suspense Mystery Trilogy, Book 1)'],\n",
       " ['B009SCXUBM',\n",
       "  u\"Springfield Leather Company's Fire Red Acrylic Leather Paint 1 fl. oz.\"],\n",
       " ['B00UCFN1ZY', u'Fire Cupcake Picks - 25 pcs'],\n",
       " ['B00B0MD5Y0',\n",
       "  u'Maybelline New York Color Sensational Vivids Lipcolor, On Fire Red, 0.15 Ounce'],\n",
       " ['B008SYWFNA',\n",
       "  u'Kindle Fire HD 7\", Dolby Audio, Dual-Band Wi-Fi, 32 GB - Includes Special Offers (Previous Generation - 2nd)'],\n",
       " ['B00F0YFZUG',\n",
       "  u'Earthlog , EL1000, Scented Manufactured Fire Log, Case, White-Green-Yellow Box, 12.75 \"X 9.75\" X 6.5\"'],\n",
       " ['B00I15SB16',\n",
       "  u'Kindle, 6\" Glare-Free Touchscreen Display, Wi-Fi - Includes Special Offers'],\n",
       " ['B00L8BXUCK', u'Fire HDX 8.9 SIM Activation Kit for AT&T'],\n",
       " ['B00JOP5A3E', u'Disney Planes Fire & Rescue - Wii'],\n",
       " ['B00HX0QZZO', u'Amazon Polyurethane Case for Fire Phone, Citron'],\n",
       " ['087939577X',\n",
       "  u'Fire and Emergency Services Company Officer, 5/e, Interactive Exam Prep USB - IFSTA'],\n",
       " ['B00IP1NMT2', u'The Campfire'],\n",
       " ['B00TY3ZOBY', u'Tom Clancy Under Fire (A Jack Ryan Jr. Novel)'],\n",
       " ['B00LYOYL7E',\n",
       "  u'Amazon Fire Phone Case Cover, FYY\\xae Ultra Slim Magnetic Smart Cover Case for Amazon Fire Phone White(With Auto...'],\n",
       " ['B00KQNW2X4', u'Fire HDX 8.9, 8.9\" HDX Display, Wi-Fi, 32 GB'],\n",
       " ['B00895H9O8', u'Amazon.com Gift Cards - Print at Home'],\n",
       " ['B00TSTQ7II', u'Chimney Cleaning and Inspection - 1 fireplace'],\n",
       " ['B000P297JS', u'Ace Combat 6: Fires of Liberation (Platinum Hits)']]"
      ]
     },
     "execution_count": 30,
     "metadata": {},
     "output_type": "execute_result"
    }
   ],
   "source": [
    "result"
   ]
  },
  {
   "cell_type": "code",
   "execution_count": 31,
   "metadata": {
    "collapsed": false
   },
   "outputs": [
    {
     "data": {
      "text/plain": [
       "160"
      ]
     },
     "execution_count": 31,
     "metadata": {},
     "output_type": "execute_result"
    }
   ],
   "source": [
    "len(result)"
   ]
  },
  {
   "cell_type": "code",
   "execution_count": null,
   "metadata": {
    "collapsed": true
   },
   "outputs": [],
   "source": []
  }
 ],
 "metadata": {
  "kernelspec": {
   "display_name": "Python 2",
   "language": "python",
   "name": "python2"
  },
  "language_info": {
   "codemirror_mode": {
    "name": "ipython",
    "version": 2
   },
   "file_extension": ".py",
   "mimetype": "text/x-python",
   "name": "python",
   "nbconvert_exporter": "python",
   "pygments_lexer": "ipython2",
   "version": "2.7.6"
  }
 },
 "nbformat": 4,
 "nbformat_minor": 0
}
