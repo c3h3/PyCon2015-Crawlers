{
 "cells": [
  {
   "cell_type": "code",
   "execution_count": 18,
   "metadata": {
    "collapsed": false
   },
   "outputs": [],
   "source": [
    "post_url = \"https://tw.news.yahoo.com/%E6%98%AF%E4%B8%BB%E5%B8%AD%E9%82%84%E6%98%AF%E5%B8%82%E9%95%B7-%E6%9C%B1%E7%AB%8B%E5%80%AB%E8%B5%B4%E8%AD%B0%E6%9C%83%E8%97%8D%E7%B6%A0%E5%90%B5%E7%BF%BB-071440092.html\"\n",
    "post_url2 = \"https://tw.news.yahoo.com/entertainment/\""
   ]
  },
  {
   "cell_type": "code",
   "execution_count": 19,
   "metadata": {
    "collapsed": true
   },
   "outputs": [],
   "source": [
    "import requests\n",
    "from pyquery import PyQuery"
   ]
  },
  {
   "cell_type": "code",
   "execution_count": 30,
   "metadata": {
    "collapsed": false
   },
   "outputs": [],
   "source": [
    "res = requests.get(post_url)"
   ]
  },
  {
   "cell_type": "code",
   "execution_count": 31,
   "metadata": {
    "collapsed": false
   },
   "outputs": [],
   "source": [
    "S = PyQuery(res.text)"
   ]
  },
  {
   "cell_type": "code",
   "execution_count": 32,
   "metadata": {
    "collapsed": false
   },
   "outputs": [
    {
     "data": {
      "text/plain": [
       "[<h1.headline>]"
      ]
     },
     "execution_count": 32,
     "metadata": {},
     "output_type": "execute_result"
    }
   ],
   "source": [
    "S(\"h1.headline\")"
   ]
  },
  {
   "cell_type": "code",
   "execution_count": 33,
   "metadata": {
    "collapsed": false
   },
   "outputs": [
    {
     "name": "stdout",
     "output_type": "stream",
     "text": [
      "是主席還是市長？ 朱立倫赴議會藍綠吵翻\n"
     ]
    }
   ],
   "source": [
    "print S(\"h1.headline\").text()"
   ]
  },
  {
   "cell_type": "code",
   "execution_count": 34,
   "metadata": {
    "collapsed": false
   },
   "outputs": [
    {
     "data": {
      "text/plain": [
       "'2015-04-22T07:14:40Z'"
      ]
     },
     "execution_count": 34,
     "metadata": {},
     "output_type": "execute_result"
    }
   ],
   "source": [
    "S(\"abbr\").attr(\"title\")"
   ]
  },
  {
   "cell_type": "code",
   "execution_count": 37,
   "metadata": {
    "collapsed": false
   },
   "outputs": [],
   "source": [
    "from dateutil import parser"
   ]
  },
  {
   "cell_type": "code",
   "execution_count": 39,
   "metadata": {
    "collapsed": true
   },
   "outputs": [],
   "source": [
    "parser.parse?"
   ]
  },
  {
   "cell_type": "code",
   "execution_count": 40,
   "metadata": {
    "collapsed": false
   },
   "outputs": [
    {
     "data": {
      "text/plain": [
       "datetime.datetime(2015, 4, 22, 7, 14, 40)"
      ]
     },
     "execution_count": 40,
     "metadata": {},
     "output_type": "execute_result"
    }
   ],
   "source": [
    "parser.parse(S(\"abbr\").attr(\"title\"),ignoretz=True)"
   ]
  },
  {
   "cell_type": "code",
   "execution_count": 16,
   "metadata": {
    "collapsed": false
   },
   "outputs": [
    {
     "name": "stdout",
     "output_type": "stream",
     "text": [
      "新頭殼newtalk 2015.04.22 邱珮文/新北報導 新北市議會今(22)天開議，綠營議員個個有備而來，準備要就市長朱立倫下月以國民黨主席身份出席國共論壇以及朱習會等事質詢。對此，朱立倫稍早抵達議會受訪時表示，國共兩黨領導人的會談還在安排中，沒辦法確定最後細節。 有記者詢問，總統府前副秘書長羅智強投書建議，國民黨乾脆找台北市長柯文哲出馬選總統，朱立倫僅笑了一下說，各種講法都有。至於前衛生署長楊志良有意代表國民黨參選總統一事，他低調表示，每一位都歡迎，大家都很好。 議會開議後，民進黨議員李坤城率先程序發言，要求先確認朱立倫今天的身份，究竟是新北市長還是國民黨主席？話一出口立即引發多位藍營議員抗議，議員蔡明堂直接大罵是「練肖話」，來的不是市長會是誰？ 藍綠雙方為此爭辯不休，議長蔣根煌勸架不成，使出殺手鐧把所有議員麥克風關掉，民進黨議員王淑慧為此直接大喊抗議，蔣根煌最後無奈兩手一攤，會議開始還不到10分鐘，便宣布暫時休息。 此外，朱立倫過程中都在自己座位上，默默翻閱施政報告書，不時抬頭微笑看著藍綠議員爭吵。等待雙方趁休息時間協調成功後，才上台進行施政報告。\n"
     ]
    }
   ],
   "source": [
    "print S(\"#mediaarticlebody p\").text()"
   ]
  },
  {
   "cell_type": "code",
   "execution_count": 8,
   "metadata": {
    "collapsed": false
   },
   "outputs": [],
   "source": [
    "#S(\"li.photo a\").attr(\"href\")"
   ]
  },
  {
   "cell_type": "code",
   "execution_count": 9,
   "metadata": {
    "collapsed": false
   },
   "outputs": [
    {
     "data": {
      "text/plain": [
       "'https://s1.yimg.com/bt/api/res/1.2/R1ZUteZxPVrc2WoFzW9Qmg--/YXBwaWQ9eW5ld3M7aWw9cGxhbmU7cT03NTt3PTYwMA--/http://media.zenfs.com/zh_hant_tw/News/newtalk/news_14__304473678.jpg'"
      ]
     },
     "execution_count": 9,
     "metadata": {},
     "output_type": "execute_result"
    }
   ],
   "source": [
    "S(\"meta[property='og:image']\").attr(\"content\")"
   ]
  },
  {
   "cell_type": "code",
   "execution_count": 47,
   "metadata": {
    "collapsed": false
   },
   "outputs": [],
   "source": [
    "from urllib import quote, quote_plus"
   ]
  },
  {
   "cell_type": "code",
   "execution_count": 55,
   "metadata": {
    "collapsed": false
   },
   "outputs": [
    {
     "name": "stdout",
     "output_type": "stream",
     "text": [
      "/%E8%B7%A8%E8%B6%8A%E4%B9%9D%E4%BA%8C%E5%85%B1%E8%AD%98-%E6%9C%B1%E7%AB%8B%E5%80%AB-%E4%B8%8D%E6%98%AF%E6%88%91%E8%AC%9B%E7%9A%84-075640443.html\n",
      "/2016-%E5%90%B3%E9%83%9D%E9%85%8D-%E6%98%AF%E9%81%B8%E9%A0%85-%E9%83%9D-%E6%B2%92%E6%9C%89%E6%89%93%E7%AE%97-143031851.html\n",
      "/%E8%AD%B0%E5%93%A1%E6%8C%87%E6%B4%A9%E8%B3%87-%E5%B8%82%E6%94%BF%E9%A1%A7%E5%95%8F%E6%B4%AA%E6%99%BA%E5%9D%A4fb%E6%89%93%E5%8D%A1-%E7%A7%91%E7%A7%91-043600137.html\n",
      "/%E5%BB%89%E5%A7%94%E6%9F%A5%E5%A4%A7%E5%B7%A8%E8%9B%8B-%E6%9F%AFp-%E7%B5%90%E6%A1%88%E5%A0%B1%E5%91%8A1%E5%80%8B%E6%9C%88%E5%87%BA%E7%88%90-030206868.html\n",
      "/%E5%90%8D%E5%AE%B6%E8%A7%80%E9%BB%9E-%E8%B3%B4%E5%A3%AB%E8%91%86-%E5%8F%AA%E4%BB%A5-%E7%AB%8B%E5%A0%B4-%E7%9C%8B%E4%BA%8B%E6%83%85%E8%AE%93%E4%BA%BA%E9%9B%A3%E9%81%8E-023103187.html\n",
      "/%E9%83%AD%E5%8F%B0%E9%8A%98%E6%9C%AA%E6%8D%90%E4%B8%96%E5%8D%9A%E9%A4%A8%E4%B8%89%E5%84%84-%E9%99%B3%E7%8F%AE%E7%90%AA-%E6%88%91%E9%A0%AD%E9%83%BD%E6%98%8F%E4%BA%86-224633058.html\n",
      "/%E6%9F%AF%E6%96%87%E5%93%B2-%E8%94%A1%E4%BE%9D%E7%8F%8A%E6%B2%92%E7%A2%B0%E9%A0%AD-%E5%87%BA%E5%B8%AD%E9%A4%90%E6%9C%83%E5%B7%A7%E5%A6%99%E9%8C%AF%E9%96%8B-154600646.html\n",
      "/video/%E5%A4%A7%E5%B7%A8%E8%9B%8B%E4%BB%8D%E9%A0%AD%E7%97%9B-%E6%9F%AF-%E6%86%82%E5%81%9C%E5%B7%A5%E6%9D%BF%E5%8D%97%E7%B7%9A%E6%81%90%E5%B4%A9-062100766.html\n",
      "/video/%E5%A4%A7%E5%B7%A8%E8%9B%8B%E4%BB%8D%E9%A0%AD%E7%97%9B-%E6%9F%AF-%E6%86%82%E5%81%9C%E5%B7%A5%E6%9D%BF%E5%8D%97%E7%B7%9A%E6%81%90%E5%B4%A9-062100766.html\n",
      "/video/%E6%9F%AF%E7%9A%87%E5%B8%9D%E5%97%A1%E5%97%A1%E5%97%A1-%E8%97%8D%E8%AD%B0%E5%93%A1%E8%B3%AA%E8%A9%A2%E5%94%B1-%E9%BB%83%E6%A2%85%E8%AA%BF-%E8%AB%B7%E6%9F%AF-083500132.html\n",
      "/video/%E6%9F%AF%E7%9A%87%E5%B8%9D%E5%97%A1%E5%97%A1%E5%97%A1-%E8%97%8D%E8%AD%B0%E5%93%A1%E8%B3%AA%E8%A9%A2%E5%94%B1-%E9%BB%83%E6%A2%85%E8%AA%BF-%E8%AB%B7%E6%9F%AF-083500132.html\n",
      "/video/%E5%A0%B1%E5%91%8A%E7%85%A7%E5%BF%B5%E5%B9%95%E5%83%9A%E5%81%9A-%E6%9F%AFp%E5%87%B1%E6%A0%A1%E6%BC%94%E8%AC%9B%E5%A4%A7%E9%85%B8%E9%A6%AC%E9%83%9D-110700590.html\n",
      "/video/%E5%A0%B1%E5%91%8A%E7%85%A7%E5%BF%B5%E5%B9%95%E5%83%9A%E5%81%9A-%E6%9F%AFp%E5%87%B1%E6%A0%A1%E6%BC%94%E8%AC%9B%E5%A4%A7%E9%85%B8%E9%A6%AC%E9%83%9D-110700590.html\n"
     ]
    }
   ],
   "source": [
    "for url in S(\"#mediainfinitebrowselist a\").map(lambda :PyQuery(this).attr(\"href\")):\n",
    "    print quote(url.encode('utf-8'))\n",
    "    "
   ]
  },
  {
   "cell_type": "code",
   "execution_count": 60,
   "metadata": {
    "collapsed": true
   },
   "outputs": [],
   "source": [
    "import requests\n",
    "from pyquery import PyQuery\n",
    "from urllib import quote\n",
    "from dateutil import parser\n",
    "\n",
    "\n",
    "def get_post(post_url):\n",
    "    res = requests.get(post_url)\n",
    "    S = PyQuery(res.text)\n",
    "    \n",
    "    if len(S(\"h1.headline\")) > 0:\n",
    "        post_data = {\"title\":S(\"h1.headline\").text(),\n",
    "                     \"createdAt\":parser.parse(S(\"abbr\").attr(\"title\"),ignoretz=True),\n",
    "                     \"text\":S(\"#mediaarticlebody p\").text(),\n",
    "                     \"url\":post_url}\n",
    "        \n",
    "        if len(S(\"meta[property='og:image']\")) > 0:\n",
    "            post_data[\"image\"] = S(\"meta[property='og:image']\").attr(\"content\")\n",
    "        \n",
    "        related_posts = []\n",
    "        \n",
    "        for url in S(\"#mediainfinitebrowselist a\").map(lambda :PyQuery(this).attr(\"href\")):\n",
    "            related_posts.append({\"p1\":post_url,\n",
    "                                  \"p2\":\"https://tw.news.yahoo.com\" + quote(url.encode('utf-8'))})\n",
    "        \n",
    "        return {\"post_data\":post_data,\n",
    "                \"related_posts\":related_posts}\n",
    "        \n",
    "        \n"
   ]
  },
  {
   "cell_type": "code",
   "execution_count": 61,
   "metadata": {
    "collapsed": false
   },
   "outputs": [],
   "source": [
    "#get_post(post_url)"
   ]
  },
  {
   "cell_type": "code",
   "execution_count": 62,
   "metadata": {
    "collapsed": true
   },
   "outputs": [],
   "source": [
    "get_post(post_url2)"
   ]
  },
  {
   "cell_type": "code",
   "execution_count": 71,
   "metadata": {
    "collapsed": false
   },
   "outputs": [
    {
     "data": {
      "text/plain": [
       "<rethinkdb.net.DefaultConnection at 0x7f6915616610>"
      ]
     },
     "execution_count": 71,
     "metadata": {},
     "output_type": "execute_result"
    }
   ],
   "source": [
    "import rethinkdb as r\n",
    "r.connect('localhost', 28015).repl()"
   ]
  },
  {
   "cell_type": "code",
   "execution_count": 75,
   "metadata": {
    "collapsed": false
   },
   "outputs": [],
   "source": [
    "if not \"ACAD20150422YahooNews\" in r.db_list().run():\n",
    "    r.db_create(\"ACAD20150422YahooNews\").run()"
   ]
  },
  {
   "cell_type": "code",
   "execution_count": 80,
   "metadata": {
    "collapsed": false
   },
   "outputs": [],
   "source": [
    "if not \"posts\" in r.db(\"ACAD20150422YahooNews\").table_list().run():\n",
    "    r.db(\"ACAD20150422YahooNews\").table_create('posts').run()"
   ]
  },
  {
   "cell_type": "code",
   "execution_count": 82,
   "metadata": {
    "collapsed": false
   },
   "outputs": [],
   "source": [
    "if not \"related_posts\" in r.db(\"ACAD20150422YahooNews\").table_list().run():\n",
    "    r.db(\"ACAD20150422YahooNews\").table_create(\"related_posts\").run()\n",
    "    "
   ]
  },
  {
   "cell_type": "code",
   "execution_count": 83,
   "metadata": {
    "collapsed": true
   },
   "outputs": [],
   "source": [
    "if not \"clickout_urls\" in r.db(\"ACAD20150422YahooNews\").table_list().run():\n",
    "    r.db(\"ACAD20150422YahooNews\").table_create(\"clickout_urls\").run()\n"
   ]
  },
  {
   "cell_type": "code",
   "execution_count": null,
   "metadata": {
    "collapsed": true
   },
   "outputs": [],
   "source": []
  }
 ],
 "metadata": {
  "kernelspec": {
   "display_name": "Python 2",
   "language": "python",
   "name": "python2"
  },
  "language_info": {
   "codemirror_mode": {
    "name": "ipython",
    "version": 2
   },
   "file_extension": ".py",
   "mimetype": "text/x-python",
   "name": "python",
   "nbconvert_exporter": "python",
   "pygments_lexer": "ipython2",
   "version": "2.7.9"
  }
 },
 "nbformat": 4,
 "nbformat_minor": 0
}
