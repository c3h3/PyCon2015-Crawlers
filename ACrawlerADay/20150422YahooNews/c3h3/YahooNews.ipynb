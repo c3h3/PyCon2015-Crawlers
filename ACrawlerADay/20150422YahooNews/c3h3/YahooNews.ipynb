{
 "cells": [
  {
   "cell_type": "code",
   "execution_count": 4,
   "metadata": {
    "collapsed": false
   },
   "outputs": [],
   "source": [
    "post_url = \"https://tw.news.yahoo.com/%E6%98%AF%E4%B8%BB%E5%B8%AD%E9%82%84%E6%98%AF%E5%B8%82%E9%95%B7-%E6%9C%B1%E7%AB%8B%E5%80%AB%E8%B5%B4%E8%AD%B0%E6%9C%83%E8%97%8D%E7%B6%A0%E5%90%B5%E7%BF%BB-071440092.html\""
   ]
  },
  {
   "cell_type": "code",
   "execution_count": 8,
   "metadata": {
    "collapsed": true
   },
   "outputs": [],
   "source": [
    "import requests\n",
    "from pyquery import PyQuery"
   ]
  },
  {
   "cell_type": "code",
   "execution_count": 5,
   "metadata": {
    "collapsed": true
   },
   "outputs": [],
   "source": [
    "res = requests.get(post_url)"
   ]
  },
  {
   "cell_type": "code",
   "execution_count": 9,
   "metadata": {
    "collapsed": false
   },
   "outputs": [],
   "source": [
    "S = PyQuery(res.text)"
   ]
  },
  {
   "cell_type": "code",
   "execution_count": 12,
   "metadata": {
    "collapsed": false
   },
   "outputs": [
    {
     "name": "stdout",
     "output_type": "stream",
     "text": [
      "是主席還是市長？ 朱立倫赴議會藍綠吵翻\n"
     ]
    }
   ],
   "source": [
    "print S(\"h1.headline\").text()"
   ]
  },
  {
   "cell_type": "code",
   "execution_count": 14,
   "metadata": {
    "collapsed": false
   },
   "outputs": [
    {
     "data": {
      "text/plain": [
       "'2015-04-22T07:14:40Z'"
      ]
     },
     "execution_count": 14,
     "metadata": {},
     "output_type": "execute_result"
    }
   ],
   "source": [
    "S(\"abbr\").attr(\"title\")"
   ]
  },
  {
   "cell_type": "code",
   "execution_count": 24,
   "metadata": {
    "collapsed": false
   },
   "outputs": [
    {
     "name": "stdout",
     "output_type": "stream",
     "text": [
      "新頭殼newtalk 2015.04.22 邱珮文/新北報導 新北市議會今(22)天開議，綠營議員個個有備而來，準備要就市長朱立倫下月以國民黨主席身份出席國共論壇以及朱習會等事質詢。對此，朱立倫稍早抵達議會受訪時表示，國共兩黨領導人的會談還在安排中，沒辦法確定最後細節。 有記者詢問，總統府前副秘書長羅智強投書建議，國民黨乾脆找台北市長柯文哲出馬選總統，朱立倫僅笑了一下說，各種講法都有。至於前衛生署長楊志良有意代表國民黨參選總統一事，他低調表示，每一位都歡迎，大家都很好。 議會開議後，民進黨議員李坤城率先程序發言，要求先確認朱立倫今天的身份，究竟是新北市長還是國民黨主席？話一出口立即引發多位藍營議員抗議，議員蔡明堂直接大罵是「練肖話」，來的不是市長會是誰？ 藍綠雙方為此爭辯不休，議長蔣根煌勸架不成，使出殺手鐧把所有議員麥克風關掉，民進黨議員王淑慧為此直接大喊抗議，蔣根煌最後無奈兩手一攤，會議開始還不到10分鐘，便宣布暫時休息。 此外，朱立倫過程中都在自己座位上，默默翻閱施政報告書，不時抬頭微笑看著藍綠議員爭吵。等待雙方趁休息時間協調成功後，才上台進行施政報告。\n"
     ]
    }
   ],
   "source": [
    "print S(\"#mediaarticlebody\").text()"
   ]
  },
  {
   "cell_type": "code",
   "execution_count": 22,
   "metadata": {
    "collapsed": false
   },
   "outputs": [],
   "source": [
    "#S(\"li.photo a\").attr(\"href\")"
   ]
  },
  {
   "cell_type": "code",
   "execution_count": 20,
   "metadata": {
    "collapsed": false
   },
   "outputs": [
    {
     "data": {
      "text/plain": [
       "'https://s1.yimg.com/bt/api/res/1.2/R1ZUteZxPVrc2WoFzW9Qmg--/YXBwaWQ9eW5ld3M7aWw9cGxhbmU7cT03NTt3PTYwMA--/http://media.zenfs.com/zh_hant_tw/News/newtalk/news_14__304473678.jpg'"
      ]
     },
     "execution_count": 20,
     "metadata": {},
     "output_type": "execute_result"
    }
   ],
   "source": [
    "S(\"meta[property='og:image']\").attr(\"content\")"
   ]
  },
  {
   "cell_type": "code",
   "execution_count": 28,
   "metadata": {
    "collapsed": false
   },
   "outputs": [
    {
     "name": "stdout",
     "output_type": "stream",
     "text": [
      "/議員指洩資-市政顧問洪智坤fb打卡-科科-043600137.html\n",
      "/蔡英文收匾額-藍也想要-柯脫口-會送朱-093700793.html\n",
      "/廉委查大巨蛋-柯p-結案報告1個月出爐-030206868.html\n",
      "/名家觀點-賴士葆-只以-立場-看事情讓人難過-023103187.html\n",
      "/郭台銘未捐世博館三億-陳珮琪-我頭都昏了-224633058.html\n",
      "/柯文哲-蔡依珊沒碰頭-出席餐會巧妙錯開-154600646.html\n",
      "/2016-040022429.html\n",
      "/video/大巨蛋仍頭痛-柯-憂停工板南線恐崩-062100766.html\n",
      "/video/大巨蛋仍頭痛-柯-憂停工板南線恐崩-062100766.html\n",
      "/video/柯皇帝嗡嗡嗡-藍議員質詢唱-黃梅調-諷柯-083500132.html\n",
      "/video/柯皇帝嗡嗡嗡-藍議員質詢唱-黃梅調-諷柯-083500132.html\n",
      "/video/三億男是柯p-自己解讀-柯建銘今二度打臉-104700824.html\n",
      "/video/三億男是柯p-自己解讀-柯建銘今二度打臉-104700824.html\n"
     ]
    }
   ],
   "source": [
    "for url in S(\"#mediainfinitebrowselist a\").map(lambda :PyQuery(this).attr(\"href\")):\n",
    "    print url"
   ]
  },
  {
   "cell_type": "code",
   "execution_count": null,
   "metadata": {
    "collapsed": true
   },
   "outputs": [],
   "source": []
  }
 ],
 "metadata": {
  "kernelspec": {
   "display_name": "Python 2",
   "language": "python",
   "name": "python2"
  },
  "language_info": {
   "codemirror_mode": {
    "name": "ipython",
    "version": 2
   },
   "file_extension": ".py",
   "mimetype": "text/x-python",
   "name": "python",
   "nbconvert_exporter": "python",
   "pygments_lexer": "ipython2",
   "version": "2.7.9"
  }
 },
 "nbformat": 4,
 "nbformat_minor": 0
}
